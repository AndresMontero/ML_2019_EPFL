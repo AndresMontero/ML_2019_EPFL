{
 "cells": [
  {
   "cell_type": "code",
   "execution_count": 1,
   "metadata": {},
   "outputs": [],
   "source": [
    "%load_ext autoreload\n",
    "%autoreload 2\n",
    "# %reload_ext lab_black\n",
    "%matplotlib inline"
   ]
  },
  {
   "cell_type": "code",
   "execution_count": 2,
   "metadata": {},
   "outputs": [
    {
     "name": "stderr",
     "output_type": "stream",
     "text": [
      "Using TensorFlow backend.\n"
     ]
    }
   ],
   "source": [
    "import matplotlib.pyplot as plt\n",
    "import numpy as np\n",
    "import os\n",
    "import tensorflow as tf\n",
    "\n",
    "\n",
    "from keras.callbacks import Callback\n",
    "from tensorflow.keras.models import *\n",
    "from tensorflow.keras.layers import *\n",
    "from tensorflow.keras.optimizers import *\n",
    "from tensorflow.keras.callbacks import (\n",
    "    ModelCheckpoint,\n",
    "    LearningRateScheduler,\n",
    "    ReduceLROnPlateau,\n",
    "    EarlyStopping,\n",
    "    TensorBoard,\n",
    ")\n",
    "from tensorflow.keras import backend as K\n",
    "from tensorflow.keras.layers import GaussianNoise\n",
    "from tensorflow.keras.regularizers import l2\n",
    "from tensorflow.compat.v2.keras.layers import BatchNormalization\n",
    "from tensorflow.python.client import device_lib\n",
    "from utils import *\n",
    "from models.unet import *"
   ]
  },
  {
   "cell_type": "code",
   "execution_count": 3,
   "metadata": {},
   "outputs": [
    {
     "name": "stdout",
     "output_type": "stream",
     "text": [
      "[name: \"/device:CPU:0\"\n",
      "device_type: \"CPU\"\n",
      "memory_limit: 268435456\n",
      "locality {\n",
      "}\n",
      "incarnation: 5014636089580128377\n",
      ", name: \"/device:GPU:0\"\n",
      "device_type: \"GPU\"\n",
      "memory_limit: 4937233203\n",
      "locality {\n",
      "  bus_id: 1\n",
      "  links {\n",
      "  }\n",
      "}\n",
      "incarnation: 10524517853789358413\n",
      "physical_device_desc: \"device: 0, name: GeForce GTX 1060 with Max-Q Design, pci bus id: 0000:01:00.0, compute capability: 6.1\"\n",
      "]\n"
     ]
    }
   ],
   "source": [
    "np.random.seed(8)\n",
    "print(device_lib.list_local_devices())"
   ]
  },
  {
   "cell_type": "markdown",
   "metadata": {},
   "source": [
    "# Loading images"
   ]
  },
  {
   "cell_type": "code",
   "execution_count": 4,
   "metadata": {},
   "outputs": [
    {
     "name": "stdout",
     "output_type": "stream",
     "text": [
      "Loading training images, images loaded: 80 \n",
      "Loading groundtruth images, images loaded: 80 \n"
     ]
    }
   ],
   "source": [
    "image_dir_train = \"data/training/images/\"\n",
    "files = os.listdir(image_dir_train)\n",
    "n_train = len(files)\n",
    "print(f\"Loading training images, images loaded: {n_train} \")\n",
    "imgs_train = np.asarray([load_img(image_dir_train + files[i]) for i in range(n_train)])\n",
    "gt_dir_train = \"data/training/groundtruth/\"\n",
    "print(f\"Loading groundtruth images, images loaded: {n_train} \")\n",
    "gt_imgs_train = np.asarray([load_img(gt_dir_train + files[i]) for i in range(n_train)])"
   ]
  },
  {
   "cell_type": "code",
   "execution_count": 5,
   "metadata": {},
   "outputs": [
    {
     "name": "stdout",
     "output_type": "stream",
     "text": [
      "Loading validating images, images loaded: 20 \n",
      "Loading validating groundtruth, images loaded: 20 \n"
     ]
    }
   ],
   "source": [
    "image_dir_val = \"data/validating/images/\"\n",
    "files = os.listdir(image_dir_val)\n",
    "n_val = len(files)\n",
    "print(f\"Loading validating images, images loaded: {n_val} \")\n",
    "imgs_val = np.asarray([load_img(image_dir_val + files[i]) for i in range(n_val)])\n",
    "gt_dir_val = \"data/validating/groundtruth/\"\n",
    "print(f\"Loading validating groundtruth, images loaded: {n_val} \")\n",
    "gt_imgs_val = np.asarray([load_img(gt_dir_val + files[i]) for i in range(n_val)])"
   ]
  },
  {
   "cell_type": "code",
   "execution_count": 6,
   "metadata": {},
   "outputs": [],
   "source": [
    "X_train, Y_train = imag_rotation_aug(imgs_train, gt_imgs_train)"
   ]
  },
  {
   "cell_type": "code",
   "execution_count": 7,
   "metadata": {},
   "outputs": [],
   "source": [
    "X_train = np.asarray(X_train)\n",
    "Y_train = np.asarray(Y_train)"
   ]
  },
  {
   "cell_type": "code",
   "execution_count": 8,
   "metadata": {},
   "outputs": [
    {
     "name": "stdout",
     "output_type": "stream",
     "text": [
      "(720, 448, 448, 3)\n",
      "(720, 448, 448)\n"
     ]
    }
   ],
   "source": [
    "print(X_train.shape)\n",
    "print(Y_train.shape)\n",
    "n_train = Y_train.shape[0]"
   ]
  },
  {
   "cell_type": "code",
   "execution_count": 9,
   "metadata": {},
   "outputs": [],
   "source": [
    "X_val, Y_val = imag_rotation_aug(imgs_val, gt_imgs_val)"
   ]
  },
  {
   "cell_type": "code",
   "execution_count": 10,
   "metadata": {},
   "outputs": [],
   "source": [
    "X_val = np.asarray(X_val)\n",
    "Y_val = np.asarray(Y_val)"
   ]
  },
  {
   "cell_type": "code",
   "execution_count": 11,
   "metadata": {},
   "outputs": [
    {
     "name": "stdout",
     "output_type": "stream",
     "text": [
      "(180, 448, 448, 3)\n",
      "(180, 448, 448)\n"
     ]
    }
   ],
   "source": [
    "print(X_val.shape)\n",
    "print(Y_val.shape)\n",
    "n_val = Y_val.shape[0]"
   ]
  },
  {
   "cell_type": "code",
   "execution_count": 12,
   "metadata": {},
   "outputs": [],
   "source": [
    "# We define parameters of the model\n",
    "BATCH_SIZE = 150\n",
    "WINDOW_SIZE = 64\n",
    "PATCH_SIZE = 16\n",
    "EPOCHS = 200\n",
    "STEPS_PER_EPOCH = 100\n",
    "WIDTH = 448\n",
    "model = U_NET(\n",
    "    shape=(WINDOW_SIZE, WINDOW_SIZE, 3),\n",
    "    BATCH_SIZE=BATCH_SIZE,\n",
    "    WINDOW_SIZE=WINDOW_SIZE,\n",
    "    PATCH_SIZE=PATCH_SIZE,\n",
    "    EPOCHS=EPOCHS,\n",
    "    STEPS_PER_EPOCH=STEPS_PER_EPOCH,\n",
    "    WIDTH=WIDTH,\n",
    ")"
   ]
  },
  {
   "cell_type": "markdown",
   "metadata": {},
   "source": [
    "# Train the Model\n"
   ]
  },
  {
   "cell_type": "code",
   "execution_count": null,
   "metadata": {},
   "outputs": [
    {
     "name": "stdout",
     "output_type": "stream",
     "text": [
      "Epoch 1/200\n",
      " 99/100 [============================>.] - ETA: 1s - loss: 0.5237 - accuracy: 0.7395 - recall: 0.7454 - f1: 0.7404\n",
      "Epoch 00001: val_loss improved from inf to 10.93762, saving model to saved_models/Unet_batchnorm_validation-001-0.250000.h5\n",
      "100/100 [==============================] - 169s 2s/step - loss: 0.5218 - accuracy: 0.7408 - recall: 0.7466 - f1: 0.7416 - val_loss: 10.9376 - val_accuracy: 0.2500 - val_recall: 0.2500 - val_f1: 0.2500\n",
      "Epoch 2/200\n",
      " 99/100 [============================>.] - ETA: 1s - loss: 0.4225 - accuracy: 0.8040 - recall: 0.8013 - f1: 0.8034\n",
      "Epoch 00002: val_loss improved from 10.93762 to 8.33724, saving model to saved_models/Unet_batchnorm_validation-002-0.299950.h5\n",
      "100/100 [==============================] - 162s 2s/step - loss: 0.4219 - accuracy: 0.8041 - recall: 0.8015 - f1: 0.8035 - val_loss: 8.3372 - val_accuracy: 0.3138 - val_recall: 0.2941 - val_f1: 0.3000\n",
      "Epoch 3/200\n",
      " 99/100 [============================>.] - ETA: 1s - loss: 0.3720 - accuracy: 0.8298 - recall: 0.8292 - f1: 0.8297\n",
      "Epoch 00003: val_loss did not improve from 8.33724\n",
      "100/100 [==============================] - 160s 2s/step - loss: 0.3727 - accuracy: 0.8297 - recall: 0.8291 - f1: 0.8295 - val_loss: 9.7609 - val_accuracy: 0.3515 - val_recall: 0.3471 - val_f1: 0.3486\n",
      "Epoch 4/200\n",
      " 99/100 [============================>.] - ETA: 1s - loss: 0.3513 - accuracy: 0.8351 - recall: 0.8356 - f1: 0.8352\n",
      "Epoch 00004: val_loss improved from 8.33724 to 0.49566, saving model to saved_models/Unet_batchnorm_validation-004-0.778739.h5\n",
      "100/100 [==============================] - 163s 2s/step - loss: 0.3512 - accuracy: 0.8347 - recall: 0.8351 - f1: 0.8348 - val_loss: 0.4957 - val_accuracy: 0.7781 - val_recall: 0.7808 - val_f1: 0.7787\n",
      "Epoch 5/200\n",
      " 99/100 [============================>.] - ETA: 1s - loss: 0.3086 - accuracy: 0.8606 - recall: 0.8603 - f1: 0.8606\n",
      "Epoch 00005: val_loss did not improve from 0.49566\n",
      "100/100 [==============================] - 158s 2s/step - loss: 0.3085 - accuracy: 0.8608 - recall: 0.8605 - f1: 0.8608 - val_loss: 0.6792 - val_accuracy: 0.7884 - val_recall: 0.7894 - val_f1: 0.7886\n",
      "Epoch 6/200\n",
      " 99/100 [============================>.] - ETA: 1s - loss: 0.2923 - accuracy: 0.8694 - recall: 0.8698 - f1: 0.8694\n",
      "Epoch 00006: val_loss did not improve from 0.49566\n",
      "100/100 [==============================] - 161s 2s/step - loss: 0.2926 - accuracy: 0.8694 - recall: 0.8699 - f1: 0.8695 - val_loss: 0.7297 - val_accuracy: 0.7362 - val_recall: 0.7359 - val_f1: 0.7361\n",
      "Epoch 7/200\n",
      " 99/100 [============================>.] - ETA: 1s - loss: 0.2722 - accuracy: 0.8756 - recall: 0.8756 - f1: 0.8756\n",
      "Epoch 00007: val_loss improved from 0.49566 to 0.40739, saving model to saved_models/Unet_batchnorm_validation-007-0.834252.h5\n",
      "100/100 [==============================] - 163s 2s/step - loss: 0.2711 - accuracy: 0.8763 - recall: 0.8761 - f1: 0.8763 - val_loss: 0.4074 - val_accuracy: 0.8348 - val_recall: 0.8316 - val_f1: 0.8343\n",
      "Epoch 8/200\n",
      " 99/100 [============================>.] - ETA: 1s - loss: 0.2635 - accuracy: 0.8847 - recall: 0.8849 - f1: 0.8847\n",
      "Epoch 00008: val_loss improved from 0.40739 to 0.40292, saving model to saved_models/Unet_batchnorm_validation-008-0.843636.h5\n",
      "100/100 [==============================] - 163s 2s/step - loss: 0.2624 - accuracy: 0.8852 - recall: 0.8854 - f1: 0.8852 - val_loss: 0.4029 - val_accuracy: 0.8435 - val_recall: 0.8441 - val_f1: 0.8436\n",
      "Epoch 9/200\n",
      " 99/100 [============================>.] - ETA: 1s - loss: 0.2467 - accuracy: 0.8907 - recall: 0.8908 - f1: 0.8907\n",
      "Epoch 00009: val_loss did not improve from 0.40292\n",
      "100/100 [==============================] - 160s 2s/step - loss: 0.2474 - accuracy: 0.8903 - recall: 0.8903 - f1: 0.8903 - val_loss: 0.5560 - val_accuracy: 0.8134 - val_recall: 0.8139 - val_f1: 0.8135\n",
      "Epoch 10/200\n",
      " 99/100 [============================>.] - ETA: 1s - loss: 0.2410 - accuracy: 0.8951 - recall: 0.8952 - f1: 0.8951\n",
      "Epoch 00010: val_loss improved from 0.40292 to 0.35760, saving model to saved_models/Unet_batchnorm_validation-010-0.861397.h5\n",
      "100/100 [==============================] - 163s 2s/step - loss: 0.2413 - accuracy: 0.8949 - recall: 0.8949 - f1: 0.8949 - val_loss: 0.3576 - val_accuracy: 0.8615 - val_recall: 0.8610 - val_f1: 0.8614\n",
      "Epoch 11/200\n",
      " 99/100 [============================>.] - ETA: 1s - loss: 0.2287 - accuracy: 0.9009 - recall: 0.9009 - f1: 0.9009\n",
      "Epoch 00011: val_loss did not improve from 0.35760\n",
      "100/100 [==============================] - 160s 2s/step - loss: 0.2281 - accuracy: 0.9013 - recall: 0.9013 - f1: 0.9013 - val_loss: 0.4089 - val_accuracy: 0.8562 - val_recall: 0.8559 - val_f1: 0.8561\n",
      "Epoch 12/200\n",
      " 99/100 [============================>.] - ETA: 1s - loss: 0.2210 - accuracy: 0.9070 - recall: 0.9071 - f1: 0.9070\n",
      "Epoch 00012: val_loss did not improve from 0.35760\n",
      "100/100 [==============================] - 160s 2s/step - loss: 0.2206 - accuracy: 0.9070 - recall: 0.9072 - f1: 0.9070 - val_loss: 0.3674 - val_accuracy: 0.8623 - val_recall: 0.8624 - val_f1: 0.8623\n",
      "Epoch 13/200\n",
      " 99/100 [============================>.] - ETA: 1s - loss: 0.2156 - accuracy: 0.9053 - recall: 0.9053 - f1: 0.9053\n",
      "Epoch 00013: val_loss did not improve from 0.35760\n",
      "100/100 [==============================] - 160s 2s/step - loss: 0.2163 - accuracy: 0.9050 - recall: 0.9049 - f1: 0.9050 - val_loss: 0.4272 - val_accuracy: 0.8373 - val_recall: 0.8361 - val_f1: 0.8370\n",
      "Epoch 14/200\n",
      " 99/100 [============================>.] - ETA: 1s - loss: 0.2098 - accuracy: 0.9121 - recall: 0.9121 - f1: 0.9121\n",
      "Epoch 00014: val_loss did not improve from 0.35760\n",
      "100/100 [==============================] - 160s 2s/step - loss: 0.2098 - accuracy: 0.9121 - recall: 0.9121 - f1: 0.9121 - val_loss: 0.4326 - val_accuracy: 0.8335 - val_recall: 0.8343 - val_f1: 0.8337\n",
      "Epoch 15/200\n",
      " 99/100 [============================>.] - ETA: 1s - loss: 0.3085 - accuracy: 0.8780 - recall: 0.8779 - f1: 0.8778\n",
      "Epoch 00015: ReduceLROnPlateau reducing learning rate to 0.00020000000949949026.\n",
      "\n",
      "Epoch 00015: val_loss did not improve from 0.35760\n",
      "100/100 [==============================] - 160s 2s/step - loss: 0.3082 - accuracy: 0.8780 - recall: 0.8778 - f1: 0.8778 - val_loss: 0.7014 - val_accuracy: 0.7779 - val_recall: 0.7722 - val_f1: 0.7766\n",
      "Epoch 16/200\n",
      " 99/100 [============================>.] - ETA: 1s - loss: 0.2352 - accuracy: 0.8964 - recall: 0.8968 - f1: 0.8965\n",
      "Epoch 00016: val_loss did not improve from 0.35760\n",
      "100/100 [==============================] - 160s 2s/step - loss: 0.2353 - accuracy: 0.8961 - recall: 0.8965 - f1: 0.8961 - val_loss: 0.4288 - val_accuracy: 0.8510 - val_recall: 0.8502 - val_f1: 0.8509\n",
      "Epoch 17/200\n",
      " 99/100 [============================>.] - ETA: 1s - loss: 0.2156 - accuracy: 0.9080 - recall: 0.9073 - f1: 0.9079\n",
      "Epoch 00017: val_loss improved from 0.35760 to 0.29170, saving model to saved_models/Unet_batchnorm_validation-017-0.877718.h5\n",
      "100/100 [==============================] - 165s 2s/step - loss: 0.2151 - accuracy: 0.9082 - recall: 0.9075 - f1: 0.9082 - val_loss: 0.2917 - val_accuracy: 0.8777 - val_recall: 0.8775 - val_f1: 0.8777\n",
      "Epoch 18/200\n",
      " 99/100 [============================>.] - ETA: 1s - loss: 0.2058 - accuracy: 0.9126 - recall: 0.9126 - f1: 0.9126\n",
      "Epoch 00018: val_loss did not improve from 0.29170\n",
      "100/100 [==============================] - 155s 2s/step - loss: 0.2060 - accuracy: 0.9126 - recall: 0.9126 - f1: 0.9126 - val_loss: 0.3190 - val_accuracy: 0.8735 - val_recall: 0.8749 - val_f1: 0.8737\n",
      "Epoch 19/200\n",
      " 99/100 [============================>.] - ETA: 1s - loss: 0.1905 - accuracy: 0.9164 - recall: 0.9164 - f1: 0.9164\n",
      "Epoch 00019: val_loss improved from 0.29170 to 0.28714, saving model to saved_models/Unet_batchnorm_validation-019-0.884422.h5\n",
      "100/100 [==============================] - 155s 2s/step - loss: 0.1906 - accuracy: 0.9162 - recall: 0.9163 - f1: 0.9162 - val_loss: 0.2871 - val_accuracy: 0.8844 - val_recall: 0.8845 - val_f1: 0.8844\n",
      "Epoch 20/200\n",
      " 99/100 [============================>.] - ETA: 1s - loss: 0.1910 - accuracy: 0.9157 - recall: 0.9155 - f1: 0.9156\n",
      "Epoch 00020: val_loss did not improve from 0.28714\n",
      "100/100 [==============================] - 152s 2s/step - loss: 0.1903 - accuracy: 0.9161 - recall: 0.9159 - f1: 0.9161 - val_loss: 0.3312 - val_accuracy: 0.8701 - val_recall: 0.8704 - val_f1: 0.8701\n"
     ]
    },
    {
     "name": "stdout",
     "output_type": "stream",
     "text": [
      "Epoch 21/200\n",
      " 99/100 [============================>.] - ETA: 1s - loss: 0.1817 - accuracy: 0.9211 - recall: 0.9209 - f1: 0.9211\n",
      "Epoch 00021: val_loss improved from 0.28714 to 0.27323, saving model to saved_models/Unet_batchnorm_validation-021-0.886258.h5\n",
      "100/100 [==============================] - 154s 2s/step - loss: 0.1820 - accuracy: 0.9210 - recall: 0.9208 - f1: 0.9210 - val_loss: 0.2732 - val_accuracy: 0.8863 - val_recall: 0.8861 - val_f1: 0.8863\n",
      "Epoch 22/200\n",
      " 99/100 [============================>.] - ETA: 1s - loss: 0.1785 - accuracy: 0.9260 - recall: 0.9260 - f1: 0.9260\n",
      "Epoch 00022: val_loss did not improve from 0.27323\n",
      "100/100 [==============================] - 152s 2s/step - loss: 0.1782 - accuracy: 0.9262 - recall: 0.9263 - f1: 0.9262 - val_loss: 0.2776 - val_accuracy: 0.8922 - val_recall: 0.8924 - val_f1: 0.8922\n",
      "Epoch 23/200\n",
      " 99/100 [============================>.] - ETA: 1s - loss: 0.1746 - accuracy: 0.9276 - recall: 0.9278 - f1: 0.9276\n",
      "Epoch 00023: val_loss did not improve from 0.27323\n",
      "100/100 [==============================] - 152s 2s/step - loss: 0.1740 - accuracy: 0.9280 - recall: 0.9282 - f1: 0.9280 - val_loss: 0.2796 - val_accuracy: 0.8893 - val_recall: 0.8896 - val_f1: 0.8894\n",
      "Epoch 24/200\n",
      " 99/100 [============================>.] - ETA: 1s - loss: 0.1733 - accuracy: 0.9265 - recall: 0.9266 - f1: 0.9265\n",
      "Epoch 00024: val_loss improved from 0.27323 to 0.25785, saving model to saved_models/Unet_batchnorm_validation-024-0.889627.h5\n",
      "100/100 [==============================] - 156s 2s/step - loss: 0.1734 - accuracy: 0.9262 - recall: 0.9263 - f1: 0.9262 - val_loss: 0.2578 - val_accuracy: 0.8896 - val_recall: 0.8898 - val_f1: 0.8896\n",
      "Epoch 25/200\n",
      " 99/100 [============================>.] - ETA: 1s - loss: 0.1670 - accuracy: 0.9305 - recall: 0.9306 - f1: 0.9305\n",
      "Epoch 00025: val_loss did not improve from 0.25785\n",
      "100/100 [==============================] - 152s 2s/step - loss: 0.1664 - accuracy: 0.9308 - recall: 0.9309 - f1: 0.9308 - val_loss: 0.2793 - val_accuracy: 0.8865 - val_recall: 0.8865 - val_f1: 0.8865\n",
      "Epoch 26/200\n",
      " 99/100 [============================>.] - ETA: 1s - loss: 0.1696 - accuracy: 0.9287 - recall: 0.9285 - f1: 0.9287\n",
      "Epoch 00026: val_loss did not improve from 0.25785\n",
      "100/100 [==============================] - 152s 2s/step - loss: 0.1691 - accuracy: 0.9289 - recall: 0.9287 - f1: 0.9289 - val_loss: 0.2888 - val_accuracy: 0.8784 - val_recall: 0.8788 - val_f1: 0.8785\n",
      "Epoch 27/200\n",
      " 99/100 [============================>.] - ETA: 1s - loss: 0.1628 - accuracy: 0.9327 - recall: 0.9328 - f1: 0.9327\n",
      "Epoch 00027: val_loss did not improve from 0.25785\n",
      "100/100 [==============================] - 156s 2s/step - loss: 0.1634 - accuracy: 0.9324 - recall: 0.9325 - f1: 0.9324 - val_loss: 0.2926 - val_accuracy: 0.8837 - val_recall: 0.8839 - val_f1: 0.8837\n",
      "Epoch 28/200\n",
      " 99/100 [============================>.] - ETA: 1s - loss: 0.1600 - accuracy: 0.9326 - recall: 0.9325 - f1: 0.9326"
     ]
    }
   ],
   "source": [
    "history = model.train(X_train, Y_train, n_train, X_val, Y_val, n_val)\n",
    "model.save(\"best_unet.h5\")"
   ]
  },
  {
   "cell_type": "code",
   "execution_count": null,
   "metadata": {},
   "outputs": [],
   "source": [
    "# plot the training loss and accuracy\n",
    "plt.style.use(\"ggplot\")\n",
    "plt.figure(figsize=(15, 10))\n",
    "plt.plot(history.history[\"loss\"][1:], label=\"train_loss\")\n",
    "plt.plot(history.history[\"val_loss\"][1:], label=\"val_loss\")\n",
    "plt.plot(history.history[\"accuracy\"][1:], label=\"train_acc\")\n",
    "plt.plot(history.history[\"val_accuracy\"][1:], label=\"val_acc\")\n",
    "plt.title(\"Training Loss and Accuracy on Dataset\")\n",
    "plt.xlabel(\"Epoch #\")\n",
    "plt.ylabel(\"Loss/Accuracy\")\n",
    "plt.legend(loc=\"lower left\")\n",
    "plt.savefig(\"plots/Unet_batchnorm_validation.pdf\")\n",
    "plt.show()"
   ]
  },
  {
   "cell_type": "markdown",
   "metadata": {},
   "source": [
    "# Generate Submission"
   ]
  },
  {
   "cell_type": "code",
   "execution_count": null,
   "metadata": {},
   "outputs": [],
   "source": [
    "model = U_NET(\n",
    "    shape=(WINDOW_SIZE, WINDOW_SIZE, 3),\n",
    "    BATCH_SIZE=BATCH_SIZE,\n",
    "    WINDOW_SIZE=WINDOW_SIZE,\n",
    "    PATCH_SIZE=PATCH_SIZE,\n",
    "    EPOCHS=EPOCHS,\n",
    "    STEPS_PER_EPOCH=STEPS_PER_EPOCH,\n",
    "    WIDTH=WIDTH,\n",
    ")\n",
    "model.load(\"best_unet.h5\")\n",
    "image_filenames = []\n",
    "for i in range(1, 51):\n",
    "    image_filename = \"data/test_set_images/test_\" + str(i) + \"/test_\" + str(i) + \".png\"\n",
    "    image_filenames.append(image_filename)\n",
    "\n",
    "submission_filename = \"best_unet.csv\"\n",
    "generate_submission(model, submission_filename, *image_filenames)"
   ]
  },
  {
   "cell_type": "code",
   "execution_count": null,
   "metadata": {},
   "outputs": [],
   "source": []
  }
 ],
 "metadata": {
  "kernelspec": {
   "display_name": "Python 3",
   "language": "python",
   "name": "python3"
  },
  "language_info": {
   "codemirror_mode": {
    "name": "ipython",
    "version": 3
   },
   "file_extension": ".py",
   "mimetype": "text/x-python",
   "name": "python",
   "nbconvert_exporter": "python",
   "pygments_lexer": "ipython3",
   "version": "3.7.5"
  }
 },
 "nbformat": 4,
 "nbformat_minor": 4
}
