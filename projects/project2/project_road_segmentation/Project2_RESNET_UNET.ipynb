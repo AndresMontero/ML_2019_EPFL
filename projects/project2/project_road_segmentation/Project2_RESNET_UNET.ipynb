{
 "cells": [
  {
   "cell_type": "code",
   "execution_count": 1,
   "metadata": {
    "colab": {},
    "colab_type": "code",
    "id": "y9QrlBVnTHvK"
   },
   "outputs": [],
   "source": [
    "%load_ext autoreload\n",
    "%autoreload 2\n",
    "%matplotlib inline"
   ]
  },
  {
   "cell_type": "code",
   "execution_count": 2,
   "metadata": {
    "colab": {
     "base_uri": "https://localhost:8080/",
     "height": 80
    },
    "colab_type": "code",
    "id": "hhm8rVAYTHvQ",
    "outputId": "2b885797-c8fb-4fc0-939e-a23a1c9f7f4d"
   },
   "outputs": [],
   "source": [
    "import matplotlib.pyplot as plt\n",
    "import numpy as np\n",
    "import os\n",
    "import tensorflow as tf\n",
    "\n",
    "\n",
    "from tensorflow.keras.callbacks import Callback\n",
    "from tensorflow.keras.models import *\n",
    "from tensorflow.keras.layers import *\n",
    "from tensorflow.keras.optimizers import *\n",
    "from tensorflow.keras.callbacks import (\n",
    "    ModelCheckpoint,\n",
    "    LearningRateScheduler,\n",
    "    ReduceLROnPlateau,\n",
    "    EarlyStopping,\n",
    "    TensorBoard,\n",
    ")\n",
    "from tensorflow.keras import backend as K\n",
    "from tensorflow.keras.layers import GaussianNoise\n",
    "from tensorflow.keras.regularizers import l2\n",
    "from tensorflow.compat.v2.keras.layers import BatchNormalization\n",
    "from tensorflow.python.client import device_lib\n",
    "from utils import *\n",
    "from models.resnet import *"
   ]
  },
  {
   "cell_type": "code",
   "execution_count": 3,
   "metadata": {
    "colab": {
     "base_uri": "https://localhost:8080/",
     "height": 564
    },
    "colab_type": "code",
    "id": "LUZtS-NPTHvU",
    "outputId": "85e9a8d4-26e9-4fee-aa6b-5b9b5fc43a04"
   },
   "outputs": [
    {
     "name": "stdout",
     "output_type": "stream",
     "text": [
      "[name: \"/device:CPU:0\"\n",
      "device_type: \"CPU\"\n",
      "memory_limit: 268435456\n",
      "locality {\n",
      "}\n",
      "incarnation: 15644305416587029307\n",
      ", name: \"/device:GPU:0\"\n",
      "device_type: \"GPU\"\n",
      "memory_limit: 3156787200\n",
      "locality {\n",
      "  bus_id: 1\n",
      "  links {\n",
      "  }\n",
      "}\n",
      "incarnation: 7509853080228481431\n",
      "physical_device_desc: \"device: 0, name: GeForce GTX 980M, pci bus id: 0000:01:00.0, compute capability: 5.2\"\n",
      "]\n"
     ]
    }
   ],
   "source": [
    "np.random.seed(1)\n",
    "print(device_lib.list_local_devices())"
   ]
  },
  {
   "cell_type": "markdown",
   "metadata": {
    "colab_type": "text",
    "id": "OuFpNh-RTHvW"
   },
   "source": [
    "# Loading images"
   ]
  },
  {
   "cell_type": "code",
   "execution_count": 4,
   "metadata": {
    "colab": {
     "base_uri": "https://localhost:8080/",
     "height": 34
    },
    "colab_type": "code",
    "id": "xqBDpjnoTHvX",
    "outputId": "8e4a8110-555c-4966-803d-92431e2a2186"
   },
   "outputs": [
    {
     "name": "stdout",
     "output_type": "stream",
     "text": [
      "Load images and groundtruth for train: 80 \n"
     ]
    }
   ],
   "source": [
    "train_folder_img = \"data/training/images/\"\n",
    "train_folder_gt = \"data/training/groundtruth/\"\n",
    "\n",
    "filenames = os.listdir(train_folder_img)\n",
    "n_train = len(filenames)\n",
    "print(f\"Load images and groundtruth for train: {n_train} \")\n",
    "\n",
    "img_train = [load_img(train_folder_img+filenames[i]) for i in range(n_train)] \n",
    "gt_train = [load_img(train_folder_gt+filenames[i]) for i in range(n_train)] \n",
    "\n",
    "img_train = np.asarray(img_train)\n",
    "gt_train = np.asarray(gt_train)"
   ]
  },
  {
   "cell_type": "code",
   "execution_count": 5,
   "metadata": {
    "colab": {
     "base_uri": "https://localhost:8080/",
     "height": 34
    },
    "colab_type": "code",
    "id": "PiBx0HB8ZD44",
    "outputId": "193f3930-9ff9-40f2-87cb-a9568dc0bd4a"
   },
   "outputs": [
    {
     "name": "stdout",
     "output_type": "stream",
     "text": [
      "Load images and groundtruth for validation: 20 \n"
     ]
    }
   ],
   "source": [
    "val_folder_img = \"data/validating/images/\"\n",
    "val_folder_gt = \"data/validating/groundtruth/\"\n",
    "\n",
    "filenames = os.listdir(val_folder_img)\n",
    "n_val = len(filenames)\n",
    "print(f\"Load images and groundtruth for validation: {n_val} \")\n",
    "\n",
    "img_val = [load_img(val_folder_img+filenames[i]) for i in range(n_val)] \n",
    "gt_val = [load_img(val_folder_gt+filenames[i]) for i in range(n_val)] \n",
    "\n",
    "img_val = np.asarray(img_val)\n",
    "gt_val = np.asarray(gt_val)"
   ]
  },
  {
   "cell_type": "code",
   "execution_count": 6,
   "metadata": {
    "colab": {
     "base_uri": "https://localhost:8080/",
     "height": 34
    },
    "colab_type": "code",
    "id": "clofa2PlTHvY",
    "outputId": "0d3dd0d5-81a0-4cdc-a05c-e5c65f44be12"
   },
   "outputs": [
    {
     "data": {
      "text/plain": [
       "(80, 400, 400, 3)"
      ]
     },
     "execution_count": 6,
     "metadata": {},
     "output_type": "execute_result"
    }
   ],
   "source": [
    "img_train.shape"
   ]
  },
  {
   "cell_type": "code",
   "execution_count": 7,
   "metadata": {
    "colab": {
     "base_uri": "https://localhost:8080/",
     "height": 34
    },
    "colab_type": "code",
    "id": "4Q6BaC2fbFPi",
    "outputId": "0575b32e-1b82-43fd-9614-e31209baede1"
   },
   "outputs": [
    {
     "data": {
      "text/plain": [
       "(80, 400, 400)"
      ]
     },
     "execution_count": 7,
     "metadata": {},
     "output_type": "execute_result"
    }
   ],
   "source": [
    "gt_train.shape"
   ]
  },
  {
   "cell_type": "code",
   "execution_count": 8,
   "metadata": {
    "colab": {
     "base_uri": "https://localhost:8080/",
     "height": 34
    },
    "colab_type": "code",
    "id": "EBvQfOcJbCDi",
    "outputId": "529a0bdf-ccf3-42ee-a2f5-a218bbade669"
   },
   "outputs": [
    {
     "data": {
      "text/plain": [
       "(20, 400, 400, 3)"
      ]
     },
     "execution_count": 8,
     "metadata": {},
     "output_type": "execute_result"
    }
   ],
   "source": [
    "img_val.shape"
   ]
  },
  {
   "cell_type": "code",
   "execution_count": 9,
   "metadata": {
    "colab": {
     "base_uri": "https://localhost:8080/",
     "height": 34
    },
    "colab_type": "code",
    "id": "bJhVfuqhbIiO",
    "outputId": "d77a838d-13c3-49cf-eceb-1babea0acc62"
   },
   "outputs": [
    {
     "data": {
      "text/plain": [
       "(20, 400, 400)"
      ]
     },
     "execution_count": 9,
     "metadata": {},
     "output_type": "execute_result"
    }
   ],
   "source": [
    "gt_val.shape"
   ]
  },
  {
   "cell_type": "code",
   "execution_count": 10,
   "metadata": {
    "colab": {},
    "colab_type": "code",
    "id": "h_IqMCqoXtzT"
   },
   "outputs": [],
   "source": [
    "X_train, Y_train = imag_rotation_aug(img_train, gt_train)"
   ]
  },
  {
   "cell_type": "code",
   "execution_count": 11,
   "metadata": {
    "colab": {},
    "colab_type": "code",
    "id": "lprKegv0cKID"
   },
   "outputs": [],
   "source": [
    "X_train = np.asarray(X_train)\n",
    "Y_train = np.asarray(Y_train)"
   ]
  },
  {
   "cell_type": "code",
   "execution_count": 12,
   "metadata": {
    "colab": {
     "base_uri": "https://localhost:8080/",
     "height": 51
    },
    "colab_type": "code",
    "id": "VjUsefYlb_tw",
    "outputId": "60794787-3db4-417a-d945-faf5fcac9128"
   },
   "outputs": [
    {
     "name": "stdout",
     "output_type": "stream",
     "text": [
      "(720, 448, 448, 3)\n",
      "(720, 448, 448)\n"
     ]
    }
   ],
   "source": [
    "print(X_train.shape)\n",
    "print(Y_train.shape)\n",
    "n_train = Y_train.shape[0]"
   ]
  },
  {
   "cell_type": "code",
   "execution_count": 13,
   "metadata": {
    "colab": {},
    "colab_type": "code",
    "id": "N1-ccLNWa5kN"
   },
   "outputs": [],
   "source": [
    "X_val, Y_val = imag_rotation_aug(img_val,gt_val)"
   ]
  },
  {
   "cell_type": "code",
   "execution_count": 14,
   "metadata": {
    "colab": {},
    "colab_type": "code",
    "id": "gpABRdAgYyAZ"
   },
   "outputs": [],
   "source": [
    "X_val = np.asarray(X_val)\n",
    "Y_val = np.asarray(Y_val)"
   ]
  },
  {
   "cell_type": "code",
   "execution_count": 15,
   "metadata": {
    "colab": {
     "base_uri": "https://localhost:8080/",
     "height": 51
    },
    "colab_type": "code",
    "id": "4Aumst9KbwBm",
    "outputId": "b5b6fcfb-7a0a-4420-c9a2-2ce37633fd3f"
   },
   "outputs": [
    {
     "name": "stdout",
     "output_type": "stream",
     "text": [
      "(180, 448, 448, 3)\n",
      "(180, 448, 448)\n"
     ]
    }
   ],
   "source": [
    "print(X_val.shape)\n",
    "print(Y_val.shape)\n",
    "n_val = Y_val.shape[0]"
   ]
  },
  {
   "cell_type": "markdown",
   "metadata": {
    "colab_type": "text",
    "id": "s_q9hoDDTHvl"
   },
   "source": [
    "# ResNet-UNet Architecture"
   ]
  },
  {
   "cell_type": "code",
   "execution_count": 16,
   "metadata": {
    "colab": {},
    "colab_type": "code",
    "id": "ReCVh1mcTHvm"
   },
   "outputs": [],
   "source": [
    "data_aug_factor = 1\n",
    "batch_normalization = False\n",
    "activation = \"relu\"\n",
    "dropout = 0\n",
    "amsgrad = False\n",
    "lr = 1e-4\n",
    "BATCH_SIZE = 100\n",
    "WINDOW_SIZE = 64\n",
    "PATCH_SIZE = 16\n",
    "EPOCHS = 80\n",
    "STEPS_PER_EPOCH = 100\n",
    "WIDTH = 448"
   ]
  },
  {
   "cell_type": "code",
   "execution_count": 17,
   "metadata": {
    "colab": {
     "base_uri": "https://localhost:8080/",
     "height": 1000
    },
    "colab_type": "code",
    "id": "Ae5cWG7WTHvm",
    "outputId": "a629bc98-ee49-4911-fab3-22f0646f1b5a"
   },
   "outputs": [],
   "source": [
    "model = resnet_unet_model(\n",
    "    shape=(64, 64, 3),\n",
    "    batch_normalization=batch_normalization,\n",
    "    activation=activation,\n",
    "    dropout=dropout,\n",
    "    amsgrad=amsgrad,\n",
    "    lr=lr,\n",
    "    BATCH_SIZE=BATCH_SIZE,\n",
    "    WINDOW_SIZE=WINDOW_SIZE,\n",
    "    PATCH_SIZE=PATCH_SIZE,\n",
    "    EPOCHS=EPOCHS,\n",
    "    STEPS_PER_EPOCH=STEPS_PER_EPOCH,\n",
    "    WIDTH=WIDTH,\n",
    ")"
   ]
  },
  {
   "cell_type": "markdown",
   "metadata": {
    "colab_type": "text",
    "id": "6hjmT-8HTHvn"
   },
   "source": [
    "# Train the Model\n"
   ]
  },
  {
   "cell_type": "code",
   "execution_count": 18,
   "metadata": {
    "colab": {
     "base_uri": "https://localhost:8080/",
     "height": 1000
    },
    "colab_type": "code",
    "id": "QcmnxVKiTHvn",
    "outputId": "f20d8e24-3673-4403-f1d9-85ae48a42d52"
   },
   "outputs": [
    {
     "name": "stdout",
     "output_type": "stream",
     "text": [
      "Epoch 1/80\n",
      " 99/100 [============================>.] - ETA: 0s - loss: 0.4931 - accuracy: 0.7627 - recall: 0.7606 - f1: 0.7627\n",
      "Epoch 00001: val_loss improved from inf to 3.77969, saving model to best_resnet_unet.h5\n",
      "100/100 [==============================] - 69s 689ms/step - loss: 0.4917 - accuracy: 0.7627 - recall: 0.7602 - f1: 0.7626 - val_loss: 3.7797 - val_accuracy: 0.7513 - val_recall: 0.7513 - val_f1: 0.7513\n",
      "Epoch 2/80\n",
      " 99/100 [============================>.] - ETA: 0s - loss: 0.3195 - accuracy: 0.8599 - recall: 0.8572 - f1: 0.8595\n",
      "Epoch 00002: val_loss improved from 3.77969 to 0.97835, saving model to best_resnet_unet.h5\n",
      "100/100 [==============================] - 65s 652ms/step - loss: 0.3188 - accuracy: 0.8603 - recall: 0.8576 - f1: 0.8598 - val_loss: 0.9784 - val_accuracy: 0.7470 - val_recall: 0.7470 - val_f1: 0.7470\n",
      "Epoch 3/80\n",
      " 99/100 [============================>.] - ETA: 0s - loss: 0.2647 - accuracy: 0.8954 - recall: 0.8955 - f1: 0.8954\n",
      "Epoch 00003: val_loss improved from 0.97835 to 0.63216, saving model to best_resnet_unet.h5\n",
      "100/100 [==============================] - 65s 650ms/step - loss: 0.2643 - accuracy: 0.8953 - recall: 0.8953 - f1: 0.8953 - val_loss: 0.6322 - val_accuracy: 0.7429 - val_recall: 0.7429 - val_f1: 0.7429\n",
      "Epoch 4/80\n",
      " 99/100 [============================>.] - ETA: 0s - loss: 0.2292 - accuracy: 0.9077 - recall: 0.9073 - f1: 0.9077\n",
      "Epoch 00004: val_loss did not improve from 0.63216\n",
      "100/100 [==============================] - 63s 632ms/step - loss: 0.2287 - accuracy: 0.9077 - recall: 0.9072 - f1: 0.9077 - val_loss: 0.8692 - val_accuracy: 0.7394 - val_recall: 0.7394 - val_f1: 0.7394\n",
      "Epoch 5/80\n",
      " 99/100 [============================>.] - ETA: 0s - loss: 0.2021 - accuracy: 0.9215 - recall: 0.9201 - f1: 0.9214\n",
      "Epoch 00005: val_loss did not improve from 0.63216\n",
      "100/100 [==============================] - 63s 633ms/step - loss: 0.2032 - accuracy: 0.9213 - recall: 0.9199 - f1: 0.9212 - val_loss: 0.7969 - val_accuracy: 0.7536 - val_recall: 0.7536 - val_f1: 0.7536\n",
      "Epoch 6/80\n",
      " 99/100 [============================>.] - ETA: 0s - loss: 0.2030 - accuracy: 0.9191 - recall: 0.9195 - f1: 0.9192\n",
      "Epoch 00006: val_loss did not improve from 0.63216\n",
      "100/100 [==============================] - 63s 630ms/step - loss: 0.2026 - accuracy: 0.9194 - recall: 0.9198 - f1: 0.9195 - val_loss: 0.6849 - val_accuracy: 0.7422 - val_recall: 0.7424 - val_f1: 0.7423\n",
      "Epoch 7/80\n",
      " 99/100 [============================>.] - ETA: 0s - loss: 0.1899 - accuracy: 0.9240 - recall: 0.9238 - f1: 0.9240\n",
      "Epoch 00007: val_loss improved from 0.63216 to 0.59904, saving model to best_resnet_unet.h5\n",
      "100/100 [==============================] - 66s 658ms/step - loss: 0.1892 - accuracy: 0.9245 - recall: 0.9244 - f1: 0.9245 - val_loss: 0.5990 - val_accuracy: 0.7288 - val_recall: 0.7292 - val_f1: 0.7289\n",
      "Epoch 8/80\n",
      " 99/100 [============================>.] - ETA: 0s - loss: 0.1839 - accuracy: 0.9284 - recall: 0.9280 - f1: 0.9284\n",
      "Epoch 00008: val_loss did not improve from 0.59904\n",
      "100/100 [==============================] - 65s 651ms/step - loss: 0.1845 - accuracy: 0.9281 - recall: 0.9278 - f1: 0.9281 - val_loss: 1.1302 - val_accuracy: 0.7518 - val_recall: 0.7521 - val_f1: 0.7519\n",
      "Epoch 9/80\n",
      " 99/100 [============================>.] - ETA: 0s - loss: 0.1777 - accuracy: 0.9289 - recall: 0.9290 - f1: 0.9289\n",
      "Epoch 00009: val_loss improved from 0.59904 to 0.49665, saving model to best_resnet_unet.h5\n",
      "100/100 [==============================] - 66s 660ms/step - loss: 0.1786 - accuracy: 0.9288 - recall: 0.9290 - f1: 0.9289 - val_loss: 0.4967 - val_accuracy: 0.8027 - val_recall: 0.8054 - val_f1: 0.8032\n",
      "Epoch 10/80\n",
      " 99/100 [============================>.] - ETA: 0s - loss: 0.1721 - accuracy: 0.9361 - recall: 0.9363 - f1: 0.9361\n",
      "Epoch 00010: val_loss did not improve from 0.49665\n",
      "100/100 [==============================] - 63s 631ms/step - loss: 0.1717 - accuracy: 0.9359 - recall: 0.9361 - f1: 0.9360 - val_loss: 0.5276 - val_accuracy: 0.8179 - val_recall: 0.8188 - val_f1: 0.8181\n",
      "Epoch 11/80\n",
      " 99/100 [============================>.] - ETA: 0s - loss: 0.1636 - accuracy: 0.9372 - recall: 0.9373 - f1: 0.9372\n",
      "Epoch 00011: val_loss improved from 0.49665 to 0.34944, saving model to best_resnet_unet.h5\n",
      "100/100 [==============================] - 65s 648ms/step - loss: 0.1635 - accuracy: 0.9372 - recall: 0.9373 - f1: 0.9372 - val_loss: 0.3494 - val_accuracy: 0.8383 - val_recall: 0.8408 - val_f1: 0.8387\n",
      "Epoch 12/80\n",
      " 99/100 [============================>.] - ETA: 0s - loss: 0.1591 - accuracy: 0.9376 - recall: 0.9383 - f1: 0.9377\n",
      "Epoch 00012: val_loss improved from 0.34944 to 0.28015, saving model to best_resnet_unet.h5\n",
      "100/100 [==============================] - 65s 650ms/step - loss: 0.1587 - accuracy: 0.9377 - recall: 0.9384 - f1: 0.9378 - val_loss: 0.2801 - val_accuracy: 0.8823 - val_recall: 0.8830 - val_f1: 0.8824\n",
      "Epoch 13/80\n",
      " 99/100 [============================>.] - ETA: 0s - loss: 0.1541 - accuracy: 0.9427 - recall: 0.9428 - f1: 0.9427\n",
      "Epoch 00013: val_loss did not improve from 0.28015\n",
      "100/100 [==============================] - 63s 630ms/step - loss: 0.1538 - accuracy: 0.9428 - recall: 0.9429 - f1: 0.9428 - val_loss: 0.3303 - val_accuracy: 0.8661 - val_recall: 0.8674 - val_f1: 0.8662\n",
      "Epoch 14/80\n",
      " 99/100 [============================>.] - ETA: 0s - loss: 0.1516 - accuracy: 0.9414 - recall: 0.9415 - f1: 0.9414\n",
      "Epoch 00014: val_loss improved from 0.28015 to 0.24105, saving model to best_resnet_unet.h5\n",
      "100/100 [==============================] - 66s 658ms/step - loss: 0.1513 - accuracy: 0.9416 - recall: 0.9418 - f1: 0.9417 - val_loss: 0.2410 - val_accuracy: 0.9007 - val_recall: 0.9012 - val_f1: 0.9008\n",
      "Epoch 15/80\n",
      " 99/100 [============================>.] - ETA: 0s - loss: 0.1525 - accuracy: 0.9403 - recall: 0.9402 - f1: 0.9403\n",
      "Epoch 00015: val_loss did not improve from 0.24105\n",
      "100/100 [==============================] - 64s 637ms/step - loss: 0.1525 - accuracy: 0.9404 - recall: 0.9403 - f1: 0.9404 - val_loss: 0.2881 - val_accuracy: 0.8950 - val_recall: 0.8959 - val_f1: 0.8951\n",
      "Epoch 16/80\n",
      " 99/100 [============================>.] - ETA: 0s - loss: 0.1560 - accuracy: 0.9390 - recall: 0.9388 - f1: 0.9390\n",
      "Epoch 00016: val_loss did not improve from 0.24105\n",
      "100/100 [==============================] - 63s 633ms/step - loss: 0.1555 - accuracy: 0.9391 - recall: 0.9389 - f1: 0.9391 - val_loss: 0.2609 - val_accuracy: 0.9154 - val_recall: 0.9152 - val_f1: 0.9153\n",
      "Epoch 17/80\n",
      " 99/100 [============================>.] - ETA: 0s - loss: 0.1452 - accuracy: 0.9429 - recall: 0.9421 - f1: 0.9428\n",
      "Epoch 00017: val_loss did not improve from 0.24105\n",
      "100/100 [==============================] - 64s 644ms/step - loss: 0.1448 - accuracy: 0.9430 - recall: 0.9423 - f1: 0.9430 - val_loss: 0.2576 - val_accuracy: 0.9140 - val_recall: 0.9141 - val_f1: 0.9140\n",
      "Epoch 18/80\n",
      " 99/100 [============================>.] - ETA: 0s - loss: 0.1542 - accuracy: 0.9424 - recall: 0.9415 - f1: 0.9423\n",
      "Epoch 00018: val_loss did not improve from 0.24105\n",
      "100/100 [==============================] - 64s 636ms/step - loss: 0.1544 - accuracy: 0.9423 - recall: 0.9415 - f1: 0.9423 - val_loss: 0.2537 - val_accuracy: 0.9039 - val_recall: 0.9037 - val_f1: 0.9039\n",
      "Epoch 19/80\n",
      " 99/100 [============================>.] - ETA: 0s - loss: 0.1456 - accuracy: 0.9453 - recall: 0.9444 - f1: 0.9452\n",
      "Epoch 00019: val_loss improved from 0.24105 to 0.23010, saving model to best_resnet_unet.h5\n",
      "100/100 [==============================] - 65s 647ms/step - loss: 0.1452 - accuracy: 0.9456 - recall: 0.9448 - f1: 0.9456 - val_loss: 0.2301 - val_accuracy: 0.9158 - val_recall: 0.9162 - val_f1: 0.9158\n",
      "Epoch 20/80\n",
      " 99/100 [============================>.] - ETA: 0s - loss: 0.1372 - accuracy: 0.9446 - recall: 0.9440 - f1: 0.9446\n",
      "Epoch 00020: val_loss did not improve from 0.23010\n",
      "100/100 [==============================] - 63s 631ms/step - loss: 0.1369 - accuracy: 0.9448 - recall: 0.9442 - f1: 0.9447 - val_loss: 0.2499 - val_accuracy: 0.9083 - val_recall: 0.9084 - val_f1: 0.9083\n",
      "Epoch 21/80\n",
      " 99/100 [============================>.] - ETA: 0s - loss: 0.1298 - accuracy: 0.9489 - recall: 0.9481 - f1: 0.9489\n",
      "Epoch 00021: val_loss did not improve from 0.23010\n",
      "100/100 [==============================] - 63s 631ms/step - loss: 0.1295 - accuracy: 0.9490 - recall: 0.9481 - f1: 0.9490 - val_loss: 0.2562 - val_accuracy: 0.9096 - val_recall: 0.9088 - val_f1: 0.9095\n",
      "Epoch 22/80\n",
      " 99/100 [============================>.] - ETA: 0s - loss: 0.1363 - accuracy: 0.9494 - recall: 0.9491 - f1: 0.9494\n",
      "Epoch 00022: val_loss improved from 0.23010 to 0.20896, saving model to best_resnet_unet.h5\n",
      "100/100 [==============================] - 65s 649ms/step - loss: 0.1365 - accuracy: 0.9495 - recall: 0.9491 - f1: 0.9494 - val_loss: 0.2090 - val_accuracy: 0.9208 - val_recall: 0.9202 - val_f1: 0.9207\n",
      "Epoch 23/80\n",
      " 99/100 [============================>.] - ETA: 0s - loss: 0.1289 - accuracy: 0.9504 - recall: 0.9502 - f1: 0.9504\n",
      "Epoch 00023: val_loss did not improve from 0.20896\n",
      "100/100 [==============================] - 63s 631ms/step - loss: 0.1291 - accuracy: 0.9503 - recall: 0.9502 - f1: 0.9503 - val_loss: 0.2364 - val_accuracy: 0.9140 - val_recall: 0.9142 - val_f1: 0.9141\n",
      "Epoch 24/80\n",
      " 99/100 [============================>.] - ETA: 0s - loss: 0.1335 - accuracy: 0.9467 - recall: 0.9459 - f1: 0.9467\n",
      "Epoch 00024: val_loss did not improve from 0.20896\n",
      "100/100 [==============================] - 63s 634ms/step - loss: 0.1334 - accuracy: 0.9469 - recall: 0.9460 - f1: 0.9468 - val_loss: 0.2482 - val_accuracy: 0.9096 - val_recall: 0.9094 - val_f1: 0.9095\n",
      "Epoch 25/80\n",
      " 99/100 [============================>.] - ETA: 0s - loss: 0.1300 - accuracy: 0.9497 - recall: 0.9498 - f1: 0.9497\n",
      "Epoch 00025: val_loss did not improve from 0.20896\n",
      "100/100 [==============================] - 63s 629ms/step - loss: 0.1296 - accuracy: 0.9499 - recall: 0.9500 - f1: 0.9499 - val_loss: 0.2715 - val_accuracy: 0.9129 - val_recall: 0.9135 - val_f1: 0.9130\n",
      "Epoch 26/80\n",
      " 99/100 [============================>.] - ETA: 0s - loss: 0.1223 - accuracy: 0.9515 - recall: 0.9518 - f1: 0.9515\n",
      "Epoch 00026: val_loss did not improve from 0.20896\n",
      "100/100 [==============================] - 63s 633ms/step - loss: 0.1221 - accuracy: 0.9516 - recall: 0.9519 - f1: 0.9516 - val_loss: 0.2814 - val_accuracy: 0.9020 - val_recall: 0.9024 - val_f1: 0.9020\n",
      "Epoch 27/80\n",
      " 99/100 [============================>.] - ETA: 0s - loss: 0.1355 - accuracy: 0.9469 - recall: 0.9470 - f1: 0.9469\n",
      "Epoch 00027: val_loss did not improve from 0.20896\n",
      "100/100 [==============================] - 64s 635ms/step - loss: 0.1352 - accuracy: 0.9470 - recall: 0.9471 - f1: 0.9470 - val_loss: 0.2178 - val_accuracy: 0.9173 - val_recall: 0.9176 - val_f1: 0.9174\n",
      "Epoch 28/80\n",
      " 99/100 [============================>.] - ETA: 0s - loss: 0.1242 - accuracy: 0.9513 - recall: 0.9500 - f1: 0.9512\n",
      "Epoch 00028: val_loss did not improve from 0.20896\n",
      "100/100 [==============================] - 64s 635ms/step - loss: 0.1238 - accuracy: 0.9514 - recall: 0.9501 - f1: 0.9513 - val_loss: 0.2544 - val_accuracy: 0.9137 - val_recall: 0.9135 - val_f1: 0.9137\n",
      "Epoch 29/80\n",
      " 99/100 [============================>.] - ETA: 0s - loss: 0.1257 - accuracy: 0.9528 - recall: 0.9526 - f1: 0.9528\n",
      "Epoch 00029: val_loss did not improve from 0.20896\n",
      "100/100 [==============================] - 63s 633ms/step - loss: 0.1258 - accuracy: 0.9528 - recall: 0.9527 - f1: 0.9528 - val_loss: 0.2293 - val_accuracy: 0.9137 - val_recall: 0.9136 - val_f1: 0.9137\n",
      "Epoch 30/80\n",
      " 99/100 [============================>.] - ETA: 0s - loss: 0.1219 - accuracy: 0.9537 - recall: 0.9535 - f1: 0.9537\n",
      "Epoch 00030: val_loss did not improve from 0.20896\n",
      "100/100 [==============================] - 63s 635ms/step - loss: 0.1218 - accuracy: 0.9538 - recall: 0.9536 - f1: 0.9538 - val_loss: 0.2535 - val_accuracy: 0.9069 - val_recall: 0.9065 - val_f1: 0.9069\n",
      "Epoch 31/80\n",
      " 99/100 [============================>.] - ETA: 0s - loss: 0.1188 - accuracy: 0.9522 - recall: 0.9520 - f1: 0.9522\n",
      "Epoch 00031: val_loss did not improve from 0.20896\n",
      "100/100 [==============================] - 63s 634ms/step - loss: 0.1185 - accuracy: 0.9524 - recall: 0.9522 - f1: 0.9524 - val_loss: 0.2797 - val_accuracy: 0.9176 - val_recall: 0.9175 - val_f1: 0.9175\n",
      "Epoch 32/80\n",
      " 99/100 [============================>.] - ETA: 0s - loss: 0.1092 - accuracy: 0.9572 - recall: 0.9571 - f1: 0.9572\n",
      "Epoch 00032: val_loss did not improve from 0.20896\n",
      "Restoring model weights from the end of the best epoch.\n",
      "100/100 [==============================] - 63s 632ms/step - loss: 0.1089 - accuracy: 0.9574 - recall: 0.9572 - f1: 0.9573 - val_loss: 0.3055 - val_accuracy: 0.9139 - val_recall: 0.9139 - val_f1: 0.9139\n",
      "Epoch 00032: early stopping\n"
     ]
    }
   ],
   "source": [
    "# Train the model\n",
    "history = model.train(\n",
    "    X_train, Y_train, n_train, X_val, Y_val, n_val\n",
    ")\n",
    "model.save(\"best_resnet_unet_data_aug.h5\")"
   ]
  },
  {
   "cell_type": "code",
   "execution_count": 19,
   "metadata": {
    "colab": {
     "base_uri": "https://localhost:8080/",
     "height": 626
    },
    "colab_type": "code",
    "id": "McZsw9HMTHvo",
    "outputId": "6850adf1-4f49-4c9f-a818-909fbaba20cf"
   },
   "outputs": [
    {
     "data": {
      "image/png": "[encoded data removed]",
      "text/plain": [
       "<Figure size 1080x720 with 1 Axes>"
      ]
     },
     "metadata": {},
     "output_type": "display_data"
    }
   ],
   "source": [
    "# plot the training loss and accuracy\n",
    "plt.style.use(\"ggplot\")\n",
    "plt.figure(figsize=(15, 10))\n",
    "plt.plot(history.history[\"loss\"][1:], label=\"train_loss\")\n",
    "plt.plot(history.history[\"val_loss\"][1:], label=\"val_loss\")\n",
    "\n",
    "# If running on Google Colab use val_acc, if not val_accuracy\n",
    "plt.plot(history.history[\"accuracy\"][1:], label=\"train_acc\")\n",
    "plt.plot(history.history[\"val_accuracy\"][1:], label=\"val_acc\")\n",
    "plt.title(\"Training Loss and Accuracy on Dataset\")\n",
    "plt.xlabel(\"Epoch #\")\n",
    "plt.ylabel(\"Loss/Accuracy\")\n",
    "plt.legend(loc=\"lower left\")\n",
    "plt.savefig(\"resnet_unet.pdf\")\n",
    "plt.show()"
   ]
  },
  {
   "cell_type": "code",
   "execution_count": 20,
   "metadata": {
    "colab": {
     "base_uri": "https://localhost:8080/",
     "height": 1000
    },
    "colab_type": "code",
    "id": "eETY0XNsTHvo",
    "outputId": "2e380e30-a79c-458a-d463-bf535bbfce1a"
   },
   "outputs": [
    {
     "name": "stdout",
     "output_type": "stream",
     "text": [
      "Generating predictions for image:  data/test_set_images/test_1/test_1.png\n",
      "Generating predictions for image:  data/test_set_images/test_2/test_2.png\n",
      "Generating predictions for image:  data/test_set_images/test_3/test_3.png\n",
      "Generating predictions for image:  data/test_set_images/test_4/test_4.png\n",
      "Generating predictions for image:  data/test_set_images/test_5/test_5.png\n",
      "Generating predictions for image:  data/test_set_images/test_6/test_6.png\n",
      "Generating predictions for image:  data/test_set_images/test_7/test_7.png\n",
      "Generating predictions for image:  data/test_set_images/test_8/test_8.png\n",
      "Generating predictions for image:  data/test_set_images/test_9/test_9.png\n",
      "Generating predictions for image:  data/test_set_images/test_10/test_10.png\n",
      "Generating predictions for image:  data/test_set_images/test_11/test_11.png\n",
      "Generating predictions for image:  data/test_set_images/test_12/test_12.png\n",
      "Generating predictions for image:  data/test_set_images/test_13/test_13.png\n",
      "Generating predictions for image:  data/test_set_images/test_14/test_14.png\n",
      "Generating predictions for image:  data/test_set_images/test_15/test_15.png\n",
      "Generating predictions for image:  data/test_set_images/test_16/test_16.png\n",
      "Generating predictions for image:  data/test_set_images/test_17/test_17.png\n",
      "Generating predictions for image:  data/test_set_images/test_18/test_18.png\n",
      "Generating predictions for image:  data/test_set_images/test_19/test_19.png\n",
      "Generating predictions for image:  data/test_set_images/test_20/test_20.png\n",
      "Generating predictions for image:  data/test_set_images/test_21/test_21.png\n",
      "Generating predictions for image:  data/test_set_images/test_22/test_22.png\n",
      "Generating predictions for image:  data/test_set_images/test_23/test_23.png\n",
      "Generating predictions for image:  data/test_set_images/test_24/test_24.png\n",
      "Generating predictions for image:  data/test_set_images/test_25/test_25.png\n",
      "Generating predictions for image:  data/test_set_images/test_26/test_26.png\n",
      "Generating predictions for image:  data/test_set_images/test_27/test_27.png\n",
      "Generating predictions for image:  data/test_set_images/test_28/test_28.png\n",
      "Generating predictions for image:  data/test_set_images/test_29/test_29.png\n",
      "Generating predictions for image:  data/test_set_images/test_30/test_30.png\n",
      "Generating predictions for image:  data/test_set_images/test_31/test_31.png\n",
      "Generating predictions for image:  data/test_set_images/test_32/test_32.png\n",
      "Generating predictions for image:  data/test_set_images/test_33/test_33.png\n",
      "Generating predictions for image:  data/test_set_images/test_34/test_34.png\n",
      "Generating predictions for image:  data/test_set_images/test_35/test_35.png\n",
      "Generating predictions for image:  data/test_set_images/test_36/test_36.png\n",
      "Generating predictions for image:  data/test_set_images/test_37/test_37.png\n",
      "Generating predictions for image:  data/test_set_images/test_38/test_38.png\n",
      "Generating predictions for image:  data/test_set_images/test_39/test_39.png\n",
      "Generating predictions for image:  data/test_set_images/test_40/test_40.png\n",
      "Generating predictions for image:  data/test_set_images/test_41/test_41.png\n",
      "Generating predictions for image:  data/test_set_images/test_42/test_42.png\n",
      "Generating predictions for image:  data/test_set_images/test_43/test_43.png\n",
      "Generating predictions for image:  data/test_set_images/test_44/test_44.png\n",
      "Generating predictions for image:  data/test_set_images/test_45/test_45.png\n",
      "Generating predictions for image:  data/test_set_images/test_46/test_46.png\n",
      "Generating predictions for image:  data/test_set_images/test_47/test_47.png\n",
      "Generating predictions for image:  data/test_set_images/test_48/test_48.png\n",
      "Generating predictions for image:  data/test_set_images/test_49/test_49.png\n",
      "Generating predictions for image:  data/test_set_images/test_50/test_50.png\n"
     ]
    }
   ],
   "source": [
    "model = resnet_unet_model(\n",
    "    shape=(64, 64, 3),\n",
    "    batch_normalization=batch_normalization,\n",
    "    activation=activation,\n",
    "    dropout=dropout,\n",
    "    amsgrad=amsgrad,\n",
    "    lr=lr,\n",
    "    BATCH_SIZE=BATCH_SIZE,\n",
    "    WINDOW_SIZE=WINDOW_SIZE,\n",
    "    PATCH_SIZE=PATCH_SIZE,\n",
    "    EPOCHS=EPOCHS,\n",
    "    STEPS_PER_EPOCH=STEPS_PER_EPOCH,\n",
    "    WIDTH=WIDTH,\n",
    ")\n",
    "model.load(\"best_resnet_unet.h5\")\n",
    "image_filenames = []\n",
    "for i in range(1, 51):\n",
    "    image_filename = \"data/test_set_images/test_\" + str(i) + \"/test_\" + str(i) + \".png\"\n",
    "    image_filenames.append(image_filename)\n",
    "submission_filename = \"resnet_unet_data_augmentation.csv\"\n",
    "generate_submission(model, submission_filename, *image_filenames)"
   ]
  },
  {
   "cell_type": "code",
   "execution_count": null,
   "metadata": {
    "colab": {},
    "colab_type": "code",
    "id": "wUt_px1bp7x7"
   },
   "outputs": [],
   "source": []
  }
 ],
 "metadata": {
  "accelerator": "GPU",
  "colab": {
   "collapsed_sections": [],
   "name": "Project2_RESNET-UNET.ipynb",
   "provenance": [],
   "toc_visible": true
  },
  "kernelspec": {
   "display_name": "Python 3",
   "language": "python",
   "name": "python3"
  },
  "language_info": {
   "codemirror_mode": {
    "name": "ipython",
    "version": 3
   },
   "file_extension": ".py",
   "mimetype": "text/x-python",
   "name": "python",
   "nbconvert_exporter": "python",
   "pygments_lexer": "ipython3",
   "version": "3.7.5"
  }
 },
 "nbformat": 4,
 "nbformat_minor": 4
}
