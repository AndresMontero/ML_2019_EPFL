{
 "cells": [
  {
   "cell_type": "code",
   "execution_count": null,
   "metadata": {
    "colab": {},
    "colab_type": "code",
    "id": "y9QrlBVnTHvK"
   },
   "outputs": [],
   "source": [
    "%load_ext autoreload\n",
    "%autoreload 2\n",
    "%matplotlib inline"
   ]
  },
  {
   "cell_type": "code",
   "execution_count": null,
   "metadata": {
    "colab": {
     "base_uri": "https://localhost:8080/",
     "height": 80
    },
    "colab_type": "code",
    "id": "hhm8rVAYTHvQ",
    "outputId": "2b885797-c8fb-4fc0-939e-a23a1c9f7f4d"
   },
   "outputs": [],
   "source": [
    "import matplotlib.pyplot as plt\n",
    "import numpy as np\n",
    "import os\n",
    "import tensorflow as tf\n",
    "\n",
    "\n",
    "from tensorflow.keras.callbacks import Callback\n",
    "from tensorflow.keras.models import *\n",
    "from tensorflow.keras.layers import *\n",
    "from tensorflow.keras.optimizers import *\n",
    "from tensorflow.keras.callbacks import (\n",
    "    ModelCheckpoint,\n",
    "    LearningRateScheduler,\n",
    "    ReduceLROnPlateau,\n",
    "    EarlyStopping,\n",
    "    TensorBoard,\n",
    ")\n",
    "from tensorflow.keras import backend as K\n",
    "from tensorflow.keras.layers import GaussianNoise\n",
    "from tensorflow.keras.regularizers import l2\n",
    "from tensorflow.compat.v2.keras.layers import BatchNormalization\n",
    "from tensorflow.python.client import device_lib\n",
    "from utils import *\n",
    "from models.resnet import *"
   ]
  },
  {
   "cell_type": "code",
   "execution_count": null,
   "metadata": {
    "colab": {
     "base_uri": "https://localhost:8080/",
     "height": 564
    },
    "colab_type": "code",
    "id": "LUZtS-NPTHvU",
    "outputId": "85e9a8d4-26e9-4fee-aa6b-5b9b5fc43a04"
   },
   "outputs": [],
   "source": [
    "np.random.seed(1)\n",
    "print(device_lib.list_local_devices())"
   ]
  },
  {
   "cell_type": "markdown",
   "metadata": {
    "colab_type": "text",
    "id": "OuFpNh-RTHvW"
   },
   "source": [
    "# Loading images"
   ]
  },
  {
   "cell_type": "code",
   "execution_count": null,
   "metadata": {
    "colab": {
     "base_uri": "https://localhost:8080/",
     "height": 34
    },
    "colab_type": "code",
    "id": "xqBDpjnoTHvX",
    "outputId": "8e4a8110-555c-4966-803d-92431e2a2186"
   },
   "outputs": [],
   "source": [
    "train_folder_img = \"data/training/images/\"\n",
    "train_folder_gt = \"data/training/groundtruth/\"\n",
    "\n",
    "filenames = os.listdir(train_folder_img)\n",
    "n_train = len(filenames)\n",
    "print(f\"Load images and groundtruth for train: {n_train} \")\n",
    "\n",
    "img_train = [load_img(train_folder_img+filenames[i]) for i in range(n_train)] \n",
    "gt_train = [load_img(train_folder_gt+filenames[i]) for i in range(n_train)] \n",
    "\n",
    "img_train = np.asarray(img_train)\n",
    "gt_train = np.asarray(gt_train)"
   ]
  },
  {
   "cell_type": "code",
   "execution_count": null,
   "metadata": {
    "colab": {
     "base_uri": "https://localhost:8080/",
     "height": 34
    },
    "colab_type": "code",
    "id": "PiBx0HB8ZD44",
    "outputId": "193f3930-9ff9-40f2-87cb-a9568dc0bd4a"
   },
   "outputs": [],
   "source": [
    "val_folder_img = \"data/validating/images/\"\n",
    "val_folder_gt = \"data/validating/groundtruth/\"\n",
    "\n",
    "filenames = os.listdir(val_folder_img)\n",
    "n_val = len(filenames)\n",
    "print(f\"Load images and groundtruth for validation: {n_val} \")\n",
    "\n",
    "img_val = [load_img(val_folder_img+filenames[i]) for i in range(n_val)] \n",
    "gt_val = [load_img(val_folder_gt+filenames[i]) for i in range(n_val)] \n",
    "\n",
    "img_val = np.asarray(img_val)\n",
    "gt_val = np.asarray(gt_val)"
   ]
  },
  {
   "cell_type": "code",
   "execution_count": null,
   "metadata": {
    "colab": {
     "base_uri": "https://localhost:8080/",
     "height": 34
    },
    "colab_type": "code",
    "id": "clofa2PlTHvY",
    "outputId": "0d3dd0d5-81a0-4cdc-a05c-e5c65f44be12"
   },
   "outputs": [],
   "source": [
    "img_train.shape"
   ]
  },
  {
   "cell_type": "code",
   "execution_count": null,
   "metadata": {
    "colab": {
     "base_uri": "https://localhost:8080/",
     "height": 34
    },
    "colab_type": "code",
    "id": "4Q6BaC2fbFPi",
    "outputId": "0575b32e-1b82-43fd-9614-e31209baede1"
   },
   "outputs": [],
   "source": [
    "gt_train.shape"
   ]
  },
  {
   "cell_type": "code",
   "execution_count": null,
   "metadata": {
    "colab": {
     "base_uri": "https://localhost:8080/",
     "height": 34
    },
    "colab_type": "code",
    "id": "EBvQfOcJbCDi",
    "outputId": "529a0bdf-ccf3-42ee-a2f5-a218bbade669"
   },
   "outputs": [],
   "source": [
    "img_val.shape"
   ]
  },
  {
   "cell_type": "code",
   "execution_count": null,
   "metadata": {
    "colab": {
     "base_uri": "https://localhost:8080/",
     "height": 34
    },
    "colab_type": "code",
    "id": "bJhVfuqhbIiO",
    "outputId": "d77a838d-13c3-49cf-eceb-1babea0acc62"
   },
   "outputs": [],
   "source": [
    "gt_val.shape"
   ]
  },
  {
   "cell_type": "code",
   "execution_count": null,
   "metadata": {
    "colab": {},
    "colab_type": "code",
    "id": "h_IqMCqoXtzT"
   },
   "outputs": [],
   "source": [
    "X_train, Y_train = imag_rotation_aug(img_train, gt_train)"
   ]
  },
  {
   "cell_type": "code",
   "execution_count": null,
   "metadata": {
    "colab": {},
    "colab_type": "code",
    "id": "lprKegv0cKID"
   },
   "outputs": [],
   "source": [
    "X_train = np.asarray(X_train)\n",
    "Y_train = np.asarray(Y_train)"
   ]
  },
  {
   "cell_type": "code",
   "execution_count": null,
   "metadata": {
    "colab": {
     "base_uri": "https://localhost:8080/",
     "height": 51
    },
    "colab_type": "code",
    "id": "VjUsefYlb_tw",
    "outputId": "60794787-3db4-417a-d945-faf5fcac9128"
   },
   "outputs": [],
   "source": [
    "print(X_train.shape)\n",
    "print(Y_train.shape)\n",
    "n_train = Y_train.shape[0]"
   ]
  },
  {
   "cell_type": "code",
   "execution_count": null,
   "metadata": {
    "colab": {},
    "colab_type": "code",
    "id": "N1-ccLNWa5kN"
   },
   "outputs": [],
   "source": [
    "X_val, Y_val = imag_rotation_aug(img_val,gt_val)"
   ]
  },
  {
   "cell_type": "code",
   "execution_count": null,
   "metadata": {
    "colab": {},
    "colab_type": "code",
    "id": "gpABRdAgYyAZ"
   },
   "outputs": [],
   "source": [
    "X_val = np.asarray(X_val)\n",
    "Y_val = np.asarray(Y_val)"
   ]
  },
  {
   "cell_type": "code",
   "execution_count": null,
   "metadata": {
    "colab": {
     "base_uri": "https://localhost:8080/",
     "height": 51
    },
    "colab_type": "code",
    "id": "4Aumst9KbwBm",
    "outputId": "b5b6fcfb-7a0a-4420-c9a2-2ce37633fd3f"
   },
   "outputs": [],
   "source": [
    "print(X_val.shape)\n",
    "print(Y_val.shape)\n",
    "n_val = Y_val.shape[0]"
   ]
  },
  {
   "cell_type": "markdown",
   "metadata": {
    "colab_type": "text",
    "id": "s_q9hoDDTHvl"
   },
   "source": [
    "# ResNet-UNet Architecture"
   ]
  },
  {
   "cell_type": "code",
   "execution_count": null,
   "metadata": {
    "colab": {},
    "colab_type": "code",
    "id": "ReCVh1mcTHvm"
   },
   "outputs": [],
   "source": [
    "data_aug_factor = 1\n",
    "batch_normalization = False\n",
    "activation = \"relu\"\n",
    "dropout = 0\n",
    "amsgrad = False\n",
    "lr = 1e-4\n",
    "BATCH_SIZE = 10\n",
    "# BATCH_SIZE = 100\n",
    "WINDOW_SIZE = 64\n",
    "PATCH_SIZE = 16\n",
    "# EPOCHS = 80\n",
    "EPOCHS = 1\n",
    "STEPS_PER_EPOCH = 1\n",
    "WIDTH = 448"
   ]
  },
  {
   "cell_type": "code",
   "execution_count": null,
   "metadata": {
    "colab": {
     "base_uri": "https://localhost:8080/",
     "height": 1000
    },
    "colab_type": "code",
    "id": "Ae5cWG7WTHvm",
    "outputId": "a629bc98-ee49-4911-fab3-22f0646f1b5a"
   },
   "outputs": [],
   "source": [
    "model = resnet_unet_model(\n",
    "    shape=(64, 64, 3),\n",
    "    batch_normalization=batch_normalization,\n",
    "    activation=activation,\n",
    "    dropout=dropout,\n",
    "    amsgrad=amsgrad,\n",
    "    lr=lr,\n",
    "    BATCH_SIZE=BATCH_SIZE,\n",
    "    WINDOW_SIZE=WINDOW_SIZE,\n",
    "    PATCH_SIZE=PATCH_SIZE,\n",
    "    EPOCHS=EPOCHS,\n",
    "    STEPS_PER_EPOCH=STEPS_PER_EPOCH,\n",
    "    WIDTH=WIDTH,\n",
    ")"
   ]
  },
  {
   "cell_type": "markdown",
   "metadata": {
    "colab_type": "text",
    "id": "6hjmT-8HTHvn"
   },
   "source": [
    "# Train the Model\n"
   ]
  },
  {
   "cell_type": "code",
   "execution_count": null,
   "metadata": {
    "colab": {
     "base_uri": "https://localhost:8080/",
     "height": 1000
    },
    "colab_type": "code",
    "id": "QcmnxVKiTHvn",
    "outputId": "f20d8e24-3673-4403-f1d9-85ae48a42d52"
   },
   "outputs": [],
   "source": [
    "# Train the model\n",
    "history = model.train(\n",
    "    X_train, Y_train, n_train, X_val, Y_val, n_val\n",
    ")\n",
    "model.save(\"best_resnet_unet.h5\")"
   ]
  },
  {
   "cell_type": "code",
   "execution_count": null,
   "metadata": {
    "colab": {
     "base_uri": "https://localhost:8080/",
     "height": 626
    },
    "colab_type": "code",
    "id": "McZsw9HMTHvo",
    "outputId": "6850adf1-4f49-4c9f-a818-909fbaba20cf"
   },
   "outputs": [],
   "source": [
    "# plot the training loss and accuracy\n",
    "plt.style.use(\"ggplot\")\n",
    "plt.figure(figsize=(15, 10))\n",
    "plt.plot(history.history[\"loss\"][1:], label=\"train_loss\")\n",
    "plt.plot(history.history[\"val_loss\"][1:], label=\"val_loss\")\n",
    "\n",
    "# If running on Google Colab use val_acc, if not val_accuracy\n",
    "plt.plot(history.history[\"accuracy\"][1:], label=\"train_acc\")\n",
    "plt.plot(history.history[\"val_accuracy\"][1:], label=\"val_acc\")\n",
    "# plt.plot(history.history[\"acc\"][1:], label=\"train_acc\")\n",
    "# plt.plot(history.history[\"val_acc\"][1:], label=\"val_acc\")\n",
    "plt.title(\"Training Loss and Accuracy on Dataset\")\n",
    "plt.xlabel(\"Epoch #\")\n",
    "plt.ylabel(\"Loss/Accuracy\")\n",
    "plt.legend(loc=\"lower left\")\n",
    "plt.savefig(\"resnet_unet.pdf\")\n",
    "plt.show()"
   ]
  },
  {
   "cell_type": "code",
   "execution_count": null,
   "metadata": {
    "colab": {
     "base_uri": "https://localhost:8080/",
     "height": 1000
    },
    "colab_type": "code",
    "id": "eETY0XNsTHvo",
    "outputId": "2e380e30-a79c-458a-d463-bf535bbfce1a"
   },
   "outputs": [],
   "source": [
    "# Instantiate the model\n",
    "model = resnet_unet_model(\n",
    "    shape=(64, 64, 3),\n",
    "    batch_normalization=batch_normalization,\n",
    "    activation=activation,\n",
    "    dropout=dropout,\n",
    "    amsgrad=amsgrad,\n",
    "    lr=lr,\n",
    "    BATCH_SIZE=BATCH_SIZE,\n",
    "    WINDOW_SIZE=WINDOW_SIZE,\n",
    "    PATCH_SIZE=PATCH_SIZE,\n",
    "    EPOCHS=EPOCHS,\n",
    "    STEPS_PER_EPOCH=STEPS_PER_EPOCH,\n",
    "    WIDTH=WIDTH,\n",
    ")\n",
    "\n",
    "# Load the model\n",
    "model.load(\"best_resnet_unet.h5\")\n",
    "\n",
    "model.model.summary()\n",
    "\n",
    "# We add all test images to an array, used later for generating a submission\n",
    "image_filenames = []\n",
    "for i in range(1, 51):\n",
    "    image_filename = \"data/test_set_images/test_\" + str(i) + \"/test_\" + str(i) + \".png\"\n",
    "    image_filenames.append(image_filename)\n",
    "\n",
    "# Set-up submission filename\n",
    "submission_filename = \"resnet_unet.csv\"\n",
    "\n",
    "# Generates the submission\n",
    "generate_submission(model, submission_filename, *image_filenames)"
   ]
  },
  {
   "cell_type": "code",
   "execution_count": null,
   "metadata": {
    "colab": {},
    "colab_type": "code",
    "id": "wUt_px1bp7x7"
   },
   "outputs": [],
   "source": []
  }
 ],
 "metadata": {
  "accelerator": "GPU",
  "colab": {
   "collapsed_sections": [],
   "name": "Project2_RESNET-UNET.ipynb",
   "provenance": [],
   "toc_visible": true
  },
  "kernelspec": {
   "display_name": "Python 3",
   "language": "python",
   "name": "python3"
  },
  "language_info": {
   "codemirror_mode": {
    "name": "ipython",
    "version": 3
   },
   "file_extension": ".py",
   "mimetype": "text/x-python",
   "name": "python",
   "nbconvert_exporter": "python",
   "pygments_lexer": "ipython3",
   "version": "3.7.3"
  }
 },
 "nbformat": 4,
 "nbformat_minor": 4
}
