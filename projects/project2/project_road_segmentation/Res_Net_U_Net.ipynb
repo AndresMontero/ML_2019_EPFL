{
 "cells": [
  {
   "cell_type": "code",
   "execution_count": null,
   "metadata": {
    "colab": {
     "base_uri": "https://localhost:8080/",
     "height": 80
    },
    "colab_type": "code",
    "executionInfo": {
     "elapsed": 2242,
     "status": "ok",
     "timestamp": 1574507268811,
     "user": {
      "displayName": "Adrian Villarroel",
      "photoUrl": "",
      "userId": "11582251307877981593"
     },
     "user_tz": -60
    },
    "id": "xV7f9cZJn-9c",
    "outputId": "53533f09-03dc-4f60-d68a-6de6f4f00dda"
   },
   "outputs": [],
   "source": [
    "import numpy as np \n",
    "import os\n",
    "import cv2\n",
    "\n",
    "from keras.models import *\n",
    "from keras.layers import *\n",
    "from keras.optimizers import *\n",
    "from keras.applications.resnet import *\n",
    "from keras.callbacks import ModelCheckpoint\n",
    "from keras import backend as K\n",
    "from keras.utils import plot_model\n",
    "\n",
    "import matplotlib.pyplot as plt"
   ]
  },
  {
   "cell_type": "code",
   "execution_count": null,
   "metadata": {
    "colab": {},
    "colab_type": "code",
    "id": "ftKJVEToqomI"
   },
   "outputs": [],
   "source": [
    "import numpy as np\n",
    "import os, os.path\n",
    "import functools\n",
    "import cv2\n",
    "from PIL import Image\n",
    "\n",
    "from google.colab.patches import cv2_imshow\n",
    "from google.colab import drive"
   ]
  },
  {
   "cell_type": "code",
   "execution_count": null,
   "metadata": {
    "colab": {},
    "colab_type": "code",
    "id": "Pi-QdYx_fjkJ"
   },
   "outputs": [],
   "source": [
    "def conv_act(inputs,out_filters,activation='relu'):\n",
    "  return Conv2D(filters = out_filters , activation=activation, kernel_size=3, strides=1, padding='same')(inputs)"
   ]
  },
  {
   "cell_type": "code",
   "execution_count": null,
   "metadata": {
    "colab": {},
    "colab_type": "code",
    "id": "rbgmMUozSIBX"
   },
   "outputs": [],
   "source": [
    "def decoder(inputs, mid_filters=512, out_filters=256, activation='relu', block_name='decoder'):\n",
    "  with K.name_scope(block_name):\n",
    "    conv = conv_act(inputs,mid_filters,activation)\n",
    "    conv_tr = Conv2DTranspose(filters = out_filters, activation=activation, kernel_size=4, strides=2, padding='same')(conv)\n",
    "    return conv_tr"
   ]
  },
  {
   "cell_type": "code",
   "execution_count": null,
   "metadata": {
    "colab": {
     "base_uri": "https://localhost:8080/",
     "height": 564
    },
    "colab_type": "code",
    "executionInfo": {
     "elapsed": 17974,
     "status": "ok",
     "timestamp": 1574507288689,
     "user": {
      "displayName": "Adrian Villarroel",
      "photoUrl": "",
      "userId": "11582251307877981593"
     },
     "user_tz": -60
    },
    "id": "P9VdtmX9RsMB",
    "outputId": "c78285b9-799c-4927-ba56-506b0825430f"
   },
   "outputs": [],
   "source": [
    "num_classes = 2\n",
    "input_shape = (256,256,3)\n",
    "resnet101 = ResNet101(include_top=False, weights='imagenet', classes=num_classes, input_shape= input_shape)\n",
    "resnet101.compile(optimizer = Adam(lr = 1e-3), loss = 'binary_crossentropy', metrics = ['accuracy'])"
   ]
  },
  {
   "cell_type": "code",
   "execution_count": null,
   "metadata": {
    "colab": {},
    "colab_type": "code",
    "id": "-v6qqlCDciLZ"
   },
   "outputs": [],
   "source": [
    "for layer in resnet101.layers:\n",
    "   layer.trainable = False"
   ]
  },
  {
   "cell_type": "code",
   "execution_count": null,
   "metadata": {
    "colab": {},
    "colab_type": "code",
    "id": "zDsYfDTsiC1K"
   },
   "outputs": [],
   "source": [
    "pool = MaxPooling2D(2,strides=2)(resnet101.get_output_at(0))\n",
    "# output = decoder(pool,block_name='decoder_center')\n",
    "dec_center = decoder(pool,block_name='decoder_center')\n",
    "cat1 = Concatenate()([dec_center,resnet101.get_layer('conv5_block3_out').output])\n",
    "# output = decoder(cat1,block_name='decoder1')\n",
    "dec5 = decoder(cat1,block_name='decoder5')\n",
    "cat2 = Concatenate()([dec5,resnet101.get_layer('conv4_block23_out').output])\n",
    "dec4 = decoder(cat2,block_name='decoder4')\n",
    "cat3 = Concatenate()([dec4,resnet101.get_layer('conv3_block3_out').output])\n",
    "dec3 = decoder(cat3,256,64,block_name='decoder3')\n",
    "cat2 = Concatenate() ([dec3,resnet101.get_layer('conv2_block2_out').output])\n",
    "dec2 = decoder(cat2,128,128,block_name='decoder2')\n",
    "dec1 = decoder(dec2,128,32,block_name='decoder1')\n",
    "dec0 = conv_act(dec1,32)\n",
    "output = Conv2D(1,1,activation='sigmoid',padding='same')(dec0)"
   ]
  },
  {
   "cell_type": "code",
   "execution_count": null,
   "metadata": {
    "colab": {
     "base_uri": "https://localhost:8080/",
     "height": 1000
    },
    "colab_type": "code",
    "executionInfo": {
     "elapsed": 2989,
     "status": "ok",
     "timestamp": 1574507832066,
     "user": {
      "displayName": "Adrian Villarroel",
      "photoUrl": "",
      "userId": "11582251307877981593"
     },
     "user_tz": -60
    },
    "id": "Lbzen7tJSg9T",
    "outputId": "b2861cdf-e2f9-4fbb-8906-495889f2c1ce"
   },
   "outputs": [],
   "source": [
    "model = Model(input= [resnet101.get_input_at(0)], output=output)\n",
    "optimizer = Adam(lr = 1e-3,decay = 1e-6,amsgrad=False)\n",
    "#optimizer = SGD(lr = 1e-1,decay=1e-6,momentum=0.9,nesterov=True)\n",
    "model.compile(optimizer = optimizer , loss = 'binary_crossentropy', metrics = ['accuracy'])\n",
    "# Visually inspect new model to confirm it the correct architecture\n",
    "model.summary()"
   ]
  },
  {
   "cell_type": "code",
   "execution_count": null,
   "metadata": {
    "colab": {},
    "colab_type": "code",
    "id": "UOjiMYripIKm"
   },
   "outputs": [],
   "source": [
    "plot_model(model)"
   ]
  },
  {
   "cell_type": "markdown",
   "metadata": {
    "colab_type": "text",
    "id": "8lobiDKjq7i7"
   },
   "source": [
    "## Try to use resnet101_v2\n",
    "\n"
   ]
  },
  {
   "cell_type": "code",
   "execution_count": null,
   "metadata": {
    "colab": {},
    "colab_type": "code",
    "id": "l1CTfjiVoH1v"
   },
   "outputs": [],
   "source": [
    "#resnet101_v2 = ResNet101V2(include_top=False, weights='imagenet',classes=2)"
   ]
  },
  {
   "cell_type": "code",
   "execution_count": null,
   "metadata": {
    "colab": {},
    "colab_type": "code",
    "id": "DQgXejlkn_7q"
   },
   "outputs": [],
   "source": [
    "#resnet101_v2.compile(optimizer = Adam(lr = 1e-3), loss = 'binary_crossentropy', metrics = ['accuracy'])"
   ]
  },
  {
   "cell_type": "code",
   "execution_count": null,
   "metadata": {
    "colab": {},
    "colab_type": "code",
    "id": "tCk5WDCcodwD"
   },
   "outputs": [],
   "source": [
    "#resnet101_v2.summary()"
   ]
  },
  {
   "cell_type": "markdown",
   "metadata": {
    "colab_type": "text",
    "id": "pxlqm6NYqZ9j"
   },
   "source": [
    "## Resnet101"
   ]
  },
  {
   "cell_type": "code",
   "execution_count": null,
   "metadata": {
    "colab": {},
    "colab_type": "code",
    "id": "A-xMzGbhBO4O"
   },
   "outputs": [],
   "source": [
    "def get_layer_by_name(layer_list,name):\n",
    "  return [layer for layer in layer1_list if layer.name == name] [0]"
   ]
  },
  {
   "cell_type": "code",
   "execution_count": null,
   "metadata": {
    "colab": {},
    "colab_type": "code",
    "id": "06j3l53bBvyr"
   },
   "outputs": [],
   "source": [
    "sel_layer = get_layer_by_name(layer1_list,'conv2_block1_3_conv')\n",
    "sel_layer.get_config()m"
   ]
  },
  {
   "cell_type": "code",
   "execution_count": null,
   "metadata": {
    "colab": {},
    "colab_type": "code",
    "id": "SgXOVAFw8ob6"
   },
   "outputs": [],
   "source": [
    "def build_block_layer(layer_list):\n",
    "    def block_layer(x):\n",
    "        for layer in layer_list:\n",
    "            x = layer(x)\n",
    "        return x\n",
    "    return block_layer"
   ]
  },
  {
   "cell_type": "code",
   "execution_count": null,
   "metadata": {
    "colab": {},
    "colab_type": "code",
    "id": "hGmkFu3l4CsA"
   },
   "outputs": [],
   "source": [
    "def build_block_layer(layer_list,**kwargs):\n",
    "  return Lambda(lambda x: functools.reduce(lambda t, layer: layer(t), layer_list, x), **kwargs)"
   ]
  },
  {
   "cell_type": "code",
   "execution_count": null,
   "metadata": {
    "colab": {},
    "colab_type": "code",
    "id": "Gfjgzft7qeIq"
   },
   "outputs": [],
   "source": [
    "from torchvision import models\n",
    "model = models.resnet101()\n",
    "print(model)"
   ]
  },
  {
   "cell_type": "code",
   "execution_count": null,
   "metadata": {
    "colab": {
     "base_uri": "https://localhost:8080/",
     "height": 221
    },
    "colab_type": "code",
    "executionInfo": {
     "elapsed": 341,
     "status": "ok",
     "timestamp": 1574451048333,
     "user": {
      "displayName": "Adrian Villarroel",
      "photoUrl": "",
      "userId": "11582251307877981593"
     },
     "user_tz": -60
    },
    "id": "bulV8WqkjJAQ",
    "outputId": "1b2484d9-841f-4963-f5aa-476ec88ec06a"
   },
   "outputs": [],
   "source": [
    "model.summary()"
   ]
  },
  {
   "cell_type": "code",
   "execution_count": null,
   "metadata": {
    "colab": {
     "base_uri": "https://localhost:8080/",
     "height": 34
    },
    "colab_type": "code",
    "executionInfo": {
     "elapsed": 897,
     "status": "ok",
     "timestamp": 1574507382704,
     "user": {
      "displayName": "Adrian Villarroel",
      "photoUrl": "",
      "userId": "11582251307877981593"
     },
     "user_tz": -60
    },
    "id": "hex9EkqMur63",
    "outputId": "972eef67-65b2-44a9-bfc1-013392154067"
   },
   "outputs": [],
   "source": [
    "drive.mount('/content/drive')"
   ]
  },
  {
   "cell_type": "code",
   "execution_count": null,
   "metadata": {
    "colab": {
     "base_uri": "https://localhost:8080/",
     "height": 34
    },
    "colab_type": "code",
    "executionInfo": {
     "elapsed": 1249,
     "status": "ok",
     "timestamp": 1574507845375,
     "user": {
      "displayName": "Adrian Villarroel",
      "photoUrl": "",
      "userId": "11582251307877981593"
     },
     "user_tz": -60
    },
    "id": "Q6X4ck2CxgDC",
    "outputId": "dde12d4a-b7a0-4865-d972-97cbc22c53f1"
   },
   "outputs": [],
   "source": [
    "path = \"/content/drive/My Drive/EPFL_2019/ML_project_2/\"\n",
    "raw_img_path = path + \"training/images/\"\n",
    "raw_masks_path = path + \"training/groundtruth/\"\n",
    "rsz_img_path = path + \"training/rsz_images/\"\n",
    "rsz_masks_path = path + \"training/rsz_groundtruth/\"\n",
    "n = len([name for name in os.listdir(raw_img_path)])\n",
    "print(\"Number of training images: \" + str(n))"
   ]
  },
  {
   "cell_type": "code",
   "execution_count": null,
   "metadata": {
    "colab": {
     "base_uri": "https://localhost:8080/",
     "height": 34
    },
    "colab_type": "code",
    "executionInfo": {
     "elapsed": 82263,
     "status": "ok",
     "timestamp": 1574364129118,
     "user": {
      "displayName": "Erick Maraz",
      "photoUrl": "",
      "userId": "08693751007744362362"
     },
     "user_tz": -60
    },
    "id": "RueKxknhxyno",
    "outputId": "c4b073ce-d24a-4ebb-9508-69e2d71c95c2"
   },
   "outputs": [],
   "source": [
    "# Resize images\n",
    "not_rsz_imgs = []\n",
    "for i in range(1,n+1):\n",
    "    dim = (256, 256) #(w,h)\n",
    "    if i < 10:\n",
    "      filename = \"satImage_00\" + str(i) + \".png\"\n",
    "    elif i < 100:\n",
    "      filename = \"satImage_0\" + str(i) + \".png\"  \n",
    "    else: \n",
    "      filename = \"satImage_\" + str(i) + \".png\"\n",
    "    filepath = raw_img_path + filename\n",
    "    image = cv2.imread(filepath,1)\n",
    "    try:\n",
    "      resized = cv2.resize(image, dim, interpolation=cv2.INTER_AREA)\n",
    "    except:\n",
    "      print(\"Cannot resize: \" + str(filename))\n",
    "      not_rsz_imgs.append(filename)\n",
    "    (thresh, im_bw) = cv2.threshold(resized, 128, 255, cv2.THRESH_BINARY)\n",
    "    cv2.imwrite(rsz_img_path + filename, im_bw)\n",
    "print(not_rsz_imgs)"
   ]
  },
  {
   "cell_type": "code",
   "execution_count": null,
   "metadata": {
    "colab": {
     "base_uri": "https://localhost:8080/",
     "height": 34
    },
    "colab_type": "code",
    "executionInfo": {
     "elapsed": 78767,
     "status": "ok",
     "timestamp": 1574364220036,
     "user": {
      "displayName": "Erick Maraz",
      "photoUrl": "",
      "userId": "08693751007744362362"
     },
     "user_tz": -60
    },
    "id": "7Sl0UGrX27AH",
    "outputId": "fafc751f-5e06-4f04-a66b-c39bf27b363b"
   },
   "outputs": [],
   "source": [
    "# Resize masks\n",
    "not_rsz_masks = []\n",
    "for i in range(1,n+1):\n",
    "    dim = (256, 256) #(w,h)\n",
    "    if i < 10:\n",
    "      filename = \"satImage_00\" + str(i) + \".png\"\n",
    "    elif i<100:\n",
    "      filename = \"satImage_0\" + str(i) + \".png\"  \n",
    "    else: \n",
    "      filename = \"satImage_\" + str(i) + \".png\"\n",
    "    filepath = raw_masks_path + filename\n",
    "    image = cv2.imread(filepath, 0)\n",
    "    try:\n",
    "      resized = cv2.resize(image, dim, interpolation=cv2.INTER_AREA)\n",
    "    except:\n",
    "      print(\"Cannot resize: \" + str(filename))\n",
    "      not_rsz_imgs.append(filename)\n",
    "    (thresh, im_bw) = cv2.threshold(resized, 128, 255, cv2.THRESH_BINARY)\n",
    "    cv2.imwrite(rsz_masks_path + filename, im_bw)\n",
    "print(not_rsz_imgs)"
   ]
  },
  {
   "cell_type": "code",
   "execution_count": null,
   "metadata": {
    "colab": {},
    "colab_type": "code",
    "id": "uiSosOgwu2ig"
   },
   "outputs": [],
   "source": [
    "from __future__ import print_function\n",
    "from tensorflow.keras.preprocessing.image import ImageDataGenerator\n",
    "import numpy as np \n",
    "import os\n",
    "import glob\n",
    "import skimage.io as io\n",
    "import skimage.transform as trans\n",
    "\n",
    "def adjustData(img,gt):\n",
    "    #make sure img value is between 0 and 1, and that mask is either 1 or 0\n",
    "    if(np.max(img) > 1):\n",
    "        img = img / 255\n",
    "        gt = gt /255\n",
    "        gt[gt > 0.5] = 1\n",
    "        gt[gt <= 0.5] = 0\n",
    "    return (img,gt)\n",
    "\n",
    "def trainGenerator(batch_size,path,image_folder,gt_folder,augmentation_variables,save_to_dir = None,\n",
    "                    target_size = (256,256),seed = 1):\n",
    "\n",
    "    #create generators generating coresponding images using same seed, that will yield coresponding images\n",
    "    image_generator = ImageDataGenerator(validation_split=0.2,**augmentation_variables)\n",
    "    gt_generator = ImageDataGenerator(validation_split=0.2,**augmentation_variables)\n",
    "    \n",
    "#     print(path)\n",
    "#     print([image_folder])\n",
    "#     print(gt_folder)\n",
    "    image_generator = image_generator.flow_from_directory(\n",
    "        path,\n",
    "        classes = [image_folder],\n",
    "        class_mode = None,\n",
    "        color_mode = \"rgb\",\n",
    "        target_size = target_size,\n",
    "        batch_size = batch_size,\n",
    "        save_to_dir = save_to_dir,\n",
    "        seed = seed)\n",
    "    \n",
    "    gt_generator = gt_generator.flow_from_directory(\n",
    "        path,\n",
    "        classes = [gt_folder],\n",
    "        class_mode = None,\n",
    "        color_mode = \"grayscale\",\n",
    "        target_size = target_size,\n",
    "        batch_size = batch_size,\n",
    "        save_to_dir = save_to_dir,\n",
    "        seed = seed)\n",
    "    \n",
    "    #zip both generators into a shared generator\n",
    "    train_generator = zip(image_generator, gt_generator)\n",
    "    #adjust image values to be between 0 and 1, and gt images to be 0 or 1\n",
    "    for (image,gt) in train_generator:\n",
    "        image,gt = adjustData(image,gt)\n",
    "        yield (image,gt)"
   ]
  },
  {
   "cell_type": "code",
   "execution_count": null,
   "metadata": {
    "colab": {
     "base_uri": "https://localhost:8080/",
     "height": 68
    },
    "colab_type": "code",
    "executionInfo": {
     "elapsed": 1381,
     "status": "ok",
     "timestamp": 1574507554402,
     "user": {
      "displayName": "Adrian Villarroel",
      "photoUrl": "",
      "userId": "11582251307877981593"
     },
     "user_tz": -60
    },
    "id": "x53pLXRJn-9i",
    "outputId": "1273a19a-9ab0-409d-f6e5-9e453e01ca10"
   },
   "outputs": [],
   "source": [
    "print('*'*30)\n",
    "print('Loading and preprocessing train data...')\n",
    "print('*'*30)\n",
    "\n",
    "imgs_train = []\n",
    "imgs_mask_train = []\n",
    "for i in range(1, n+1):\n",
    "    if i < 10:\n",
    "      filename = \"satImage_00\" + str(i) + \".png\"\n",
    "    elif i<100:\n",
    "      filename = \"satImage_0\" + str(i) + \".png\"  \n",
    "    else: \n",
    "      filename = \"satImage_\" + str(i) + \".png\"\n",
    "    filepath = rsz_img_path + filename\n",
    "    img = Image.open(filepath)\n",
    "    arr = np.array(img)\n",
    "    imgs_train.append(arr)\n",
    "    filepath = rsz_masks_path + filename\n",
    "    img = Image.open(filepath)\n",
    "    arr = np.array(img)\n",
    "    arr = np.expand_dims(arr, -1)\n",
    "    imgs_mask_train.append(arr)\n",
    "\n",
    "imgs_train = np.array(imgs_train)\n",
    "imgs_mask_train = np.array(imgs_mask_train)\n",
    "\n",
    "imgs_train = imgs_train.astype('float32')\n",
    "mean = np.mean(imgs_train)  # mean for data centering\n",
    "std = np.std(imgs_train)  # std for data normalization\n",
    "\n",
    "imgs_train -= mean\n",
    "imgs_train /= std\n",
    "\n",
    "imgs_mask_train = imgs_mask_train.astype('float32')\n",
    "imgs_mask_train /= 255  # scale masks to [0, 1]\n",
    "\n",
    "model_checkpoint = ModelCheckpoint('weights.h5', monitor='val_loss', save_best_only=True)\n",
    "# tensorboard = TensorBoard(log_dir='tensorboard/', write_graph=True, write_images=True)"
   ]
  },
  {
   "cell_type": "code",
   "execution_count": null,
   "metadata": {
    "colab": {},
    "colab_type": "code",
    "id": "HQawQp3SxEfR"
   },
   "outputs": [],
   "source": [
    "generator_variables = dict(rotation_range=90,\n",
    "                           width_shift_range=0.4,\n",
    "                           height_shift_range=0.4,\n",
    "                           zoom_range=0.5,\n",
    "                           horizontal_flip = True,\n",
    "                           vertical_flip = True,\n",
    "                           fill_mode='reflect')\n",
    "batch_size = 128\n",
    "steps_per_epoch = 10\n",
    "epochs = 100\n",
    "train_generator = trainGenerator(batch_size,path+\"/training/\",\"rsz_images\",\"rsz_groundtruth\",generator_variables)"
   ]
  },
  {
   "cell_type": "code",
   "execution_count": null,
   "metadata": {
    "colab": {
     "base_uri": "https://localhost:8080/",
     "height": 1000
    },
    "colab_type": "code",
    "executionInfo": {
     "elapsed": 2604979,
     "status": "ok",
     "timestamp": 1574510620511,
     "user": {
      "displayName": "Adrian Villarroel",
      "photoUrl": "",
      "userId": "11582251307877981593"
     },
     "user_tz": -60
    },
    "id": "uns9mEGdn-9n",
    "outputId": "727b6d7f-1c15-4443-e8fa-4ce2b44350a8"
   },
   "outputs": [],
   "source": [
    "print('*'*30)\n",
    "print('Fitting model...')\n",
    "print('*'*30)\n",
    "# history = model.fit(imgs_train, imgs_mask_train, batch_size=8, epochs=30, verbose=2, shuffle=True,\n",
    "history = model.fit(train_generator, steps_per_epoch = steps_per_epoch, epochs=epochs, verbose=2, shuffle=True,callbacks=[model_checkpoint])"
   ]
  },
  {
   "cell_type": "code",
   "execution_count": null,
   "metadata": {
    "colab": {},
    "colab_type": "code",
    "id": "9mmID0Men-9p"
   },
   "outputs": [],
   "source": [
    "file = h5py.File('Dataset_test.h5', 'r')\n",
    "imgs_test = file.get('images')\n",
    "#imgs_mask_test = file.get('masks')\n",
    "imgs_test = np.array(imgs_test)\n",
    "#imgs_mask_test = np.array(imgs_mask_test)\n",
    "imgs_test = imgs_test.astype('float32')\n",
    "imgs_test -= mean\n",
    "imgs_test /= std\n",
    "\n",
    "print('*'*30)\n",
    "print('Loading saved weights...')\n",
    "print('*'*30)\n",
    "model.load_weights('weights.h5')\n",
    "\n",
    "print('*'*30)\n",
    "print('Predicting masks on test data...')\n",
    "print('*'*30)\n",
    "imgs_mask_test = model.predict(imgs_test, verbose=1)"
   ]
  },
  {
   "cell_type": "code",
   "execution_count": null,
   "metadata": {
    "colab": {},
    "colab_type": "code",
    "id": "_IPVkGNJn-9r"
   },
   "outputs": [],
   "source": [
    "print('*' * 30)\n",
    "print('Saving predicted masks to files...')\n",
    "print('*' * 30)\n",
    "pred_dir = 'Preds2'\n",
    "if not os.path.exists(pred_dir):\n",
    "    os.mkdir(pred_dir)\n",
    "for i, image in enumerate(imgs_mask_test):\n",
    "    image = (image * 255).astype(np.uint8)\n",
    "    cv2.imwrite(os.path.join(pred_dir, str(i + 1) + '_pred.png'), image)"
   ]
  },
  {
   "cell_type": "code",
   "execution_count": null,
   "metadata": {
    "colab": {},
    "colab_type": "code",
    "id": "ccNOM3Bwn-9t"
   },
   "outputs": [],
   "source": [
    "plt.figure(figsize=(60, 30))\n",
    "plt.plot(history.history['loss'], linewidth=8, color='r')                   #visualising training and validation loss curves\n",
    "plt.plot(history.history['val_loss'], linewidth=8, color='b')\n",
    "plt.title('Model train vs Validation Loss', fontsize=100, fontweight=\"bold\")\n",
    "plt.ylabel('Loss', fontsize=80)\n",
    "plt.xlabel('Epoch', fontsize=80)\n",
    "plt.legend(['Train', 'Validation'], loc='upper right', fontsize=50)\n",
    "plt.xticks(fontsize=60)\n",
    "plt.yticks(fontsize=60)\n",
    "plt.show()"
   ]
  }
 ],
 "metadata": {
  "accelerator": "GPU",
  "colab": {
   "name": "Res_Net_U_Net.ipynb",
   "provenance": []
  },
  "kernelspec": {
   "display_name": "Python 3",
   "language": "python",
   "name": "python3"
  },
  "language_info": {
   "codemirror_mode": {
    "name": "ipython",
    "version": 3
   },
   "file_extension": ".py",
   "mimetype": "text/x-python",
   "name": "python",
   "nbconvert_exporter": "python",
   "pygments_lexer": "ipython3",
   "version": "3.7.3"
  }
 },
 "nbformat": 4,
 "nbformat_minor": 4
}
