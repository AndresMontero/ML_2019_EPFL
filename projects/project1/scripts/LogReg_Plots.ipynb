{
 "cells": [
  {
   "cell_type": "code",
   "execution_count": 1,
   "metadata": {},
   "outputs": [],
   "source": [
    "# Useful starting lines\n",
    "# %matplotlib inline\n",
    "import numpy as np\n",
    "import matplotlib.pyplot as plt\n",
    "%load_ext autoreload\n",
    "%autoreload 2\n",
    "\n",
    "from proj1_helpers import *\n",
    "from proj1_utils import *\n",
    "from implementations_utils import *\n",
    "from implementations import *\n",
    "from proj1_visualization import *\n",
    "from proj1_cross_validation import *\n",
    "from sklearn.metrics import accuracy_score\n"
   ]
  },
  {
   "cell_type": "markdown",
   "metadata": {},
   "source": [
    "## Load the data into feature matrix, class labels, and event ids:"
   ]
  },
  {
   "cell_type": "code",
   "execution_count": 2,
   "metadata": {},
   "outputs": [],
   "source": [
    "DATA_TRAIN_PATH = '../data/train.csv' \n",
    "y_trainRaw, tX_trainRaw, ids_train = load_csv_data(DATA_TRAIN_PATH)\n",
    "DATA_TEST_PATH = '../data/test.csv' \n",
    "y_testRaw, tX_testRaw, ids_test = load_csv_data(DATA_TEST_PATH)\n"
   ]
  },
  {
   "cell_type": "markdown",
   "metadata": {},
   "source": [
    "# Data Pre-processing"
   ]
  },
  {
   "cell_type": "code",
   "execution_count": 4,
   "metadata": {},
   "outputs": [],
   "source": [
    "# Preprocessing of Training \n",
    "\n",
    "cat_cols = [22]\n",
    "full_x_train_num, full_x_train_cat = split_numerical_categorical(tX_trainRaw,cat_cols)\n",
    "\n",
    "# Treat numerical values\n",
    "full_x_train_num_nan = replace_undef_val_with_nan(full_x_train_num)\n",
    "full_x_train_num_nan_std, train_mean, train_std = nan_standardize_fit(full_x_train_num_nan)\n",
    "\n",
    "full_x_train_num_valid_std = replace_nan_val_with_median(full_x_train_num_nan_std)\n",
    "full_x_train_num_valid_std = replace_iqr_outliers(full_x_train_num_valid_std)\n",
    "\n",
    "# Treat categorical values\n",
    "full_x_train_ohe_cat = one_hot_encode(full_x_train_cat)\n",
    "x_train_poly = build_poly(full_x_train_num_valid_std,3)\n",
    "full_x_train = np.hstack((x_train_poly,full_x_train_ohe_cat))\n",
    "\n",
    "# Treat labels\n",
    "full_y_train = y_trainRaw\n",
    "full_y_train = relabel_y_non_negative(full_y_train).reshape(-1,1)\n",
    "full_y_train = full_y_train.reshape(-1,1)\n"
   ]
  },
  {
   "cell_type": "code",
   "execution_count": 5,
   "metadata": {},
   "outputs": [],
   "source": [
    "# Split in train and validation set\n",
    "x_train, y_train, x_val, y_val = split_data(full_x_train,full_y_train,0.8)\n"
   ]
  },
  {
   "cell_type": "code",
   "execution_count": 6,
   "metadata": {},
   "outputs": [],
   "source": [
    "# Preprocessing of Test\n",
    "\n",
    "cat_cols = [22]\n",
    "x_test_num, x_test_cat = split_numerical_categorical(tX_testRaw,cat_cols)\n",
    "\n",
    "# Treat numerical values\n",
    "x_test_num_nan = replace_undef_val_with_nan(x_test_num)\n",
    "x_test_num_nan_std = nan_standardize_transform(x_test_num_nan,train_mean,train_std)\n",
    "x_test_num_valid_std = replace_nan_val_with_median(x_test_num_nan_std)\n",
    "x_test_num_valid_std = replace_iqr_outliers(x_test_num_valid_std)\n",
    "x_test_ohe_cat = one_hot_encode(x_test_cat)\n",
    "x_test_poly = build_poly(x_test_num_valid_std,3)\n",
    "x_test = np.hstack((x_test_poly,x_test_ohe_cat))\n"
   ]
  },
  {
   "cell_type": "markdown",
   "metadata": {},
   "source": [
    "# Training and Validation "
   ]
  },
  {
   "cell_type": "markdown",
   "metadata": {},
   "source": [
    "### Logistic Regression"
   ]
  },
  {
   "cell_type": "code",
   "execution_count": 121,
   "metadata": {},
   "outputs": [
    {
     "name": "stdout",
     "output_type": "stream",
     "text": [
      "#Iteration: 0, Loss: 138629.4361119856\n",
      "#Iteration: 250, Loss: 83172.43329205224\n",
      "#Iteration: 500, Loss: 82407.19470367681\n",
      "#Iteration: 750, Loss: 82093.8299196013\n",
      "#Iteration: 1000, Loss: 81913.68058817775\n"
     ]
    }
   ],
   "source": [
    "# Best Degree was polynomial 3\n",
    "max_iters = 1000\n",
    "# gamma = 0.00000038\n",
    "gamma = 0.0000022\n",
    "w_initial = np.zeros((full_x_train.shape[1], 1))\n",
    "# y_train = relabel_y_negative(y_train)\n",
    "# y_val = relabel_y_negative(y_val)\n",
    "weights, loss_tr,losses = logistic_regression(y_train, x_train, w_initial, max_iters, gamma)"
   ]
  },
  {
   "cell_type": "code",
   "execution_count": 122,
   "metadata": {},
   "outputs": [
    {
     "data": {
      "text/plain": [
       "0.8132"
      ]
     },
     "execution_count": 122,
     "metadata": {},
     "output_type": "execute_result"
    }
   ],
   "source": [
    "y_val = relabel_y_negative(y_val)\n",
    "y_pred = predict_labels(weights, x_val)\n",
    "accuracy_score(y_val,y_pred)"
   ]
  },
  {
   "cell_type": "markdown",
   "metadata": {},
   "source": [
    "### Regularized Logistic Regression"
   ]
  },
  {
   "cell_type": "code",
   "execution_count": 8,
   "metadata": {},
   "outputs": [
    {
     "name": "stdout",
     "output_type": "stream",
     "text": [
      "#Iteration: 0, Loss: 138629.4361119856\n",
      "#Iteration: 250, Loss: 83172.43534418503\n",
      "#Iteration: 500, Loss: 82407.19696020427\n",
      "#Iteration: 750, Loss: 82093.83239926312\n",
      "#Iteration: 1000, Loss: 81913.68325053682\n"
     ]
    }
   ],
   "source": [
    "max_iters = 1000\n",
    "gamma = 0.0000022\n",
    "lambda_ = 0.001\n",
    "w_initial = np.zeros((x_train.shape[1], 1))\n",
    "weights,_,_ = reg_logistic_regression(y_train, x_train, w_initial, max_iters, gamma, lambda_)"
   ]
  },
  {
   "cell_type": "code",
   "execution_count": 9,
   "metadata": {},
   "outputs": [
    {
     "data": {
      "text/plain": [
       "0.8132"
      ]
     },
     "execution_count": 9,
     "metadata": {},
     "output_type": "execute_result"
    }
   ],
   "source": [
    "y_val = relabel_y_negative(y_val)\n",
    "y_pred = predict_labels(weights, x_val)\n",
    "accuracy_score(y_val,y_pred)"
   ]
  },
  {
   "cell_type": "markdown",
   "metadata": {},
   "source": [
    "### Cross Validation Verification"
   ]
  },
  {
   "cell_type": "code",
   "execution_count": 84,
   "metadata": {},
   "outputs": [
    {
     "name": "stdout",
     "output_type": "stream",
     "text": [
      "#Iteration: 0, Loss: 110903.5488895897\n",
      "#Iteration: 250, Loss: 82072.09888413879\n",
      "#Iteration: 500, Loss: 81423.94330442013\n",
      "#Iteration: 750, Loss: 81170.25836338224\n",
      "#Iteration: 1000, Loss: 81062.41611466254\n",
      "#Iteration: 0, Loss: 110903.5488895897\n",
      "#Iteration: 250, Loss: 81773.72354215583\n",
      "#Iteration: 500, Loss: 81116.78609756686\n",
      "#Iteration: 750, Loss: 80858.08928338837\n",
      "#Iteration: 1000, Loss: 80746.97307460723\n",
      "#Iteration: 0, Loss: 110903.54888958971\n",
      "#Iteration: 250, Loss: 82017.11789027408\n",
      "#Iteration: 500, Loss: 81359.97059785506\n",
      "#Iteration: 750, Loss: 81104.12483037444\n",
      "#Iteration: 1000, Loss: 80995.7036607954\n",
      "#Iteration: 0, Loss: 110903.54888958971\n",
      "#Iteration: 250, Loss: 82005.01144943002\n",
      "#Iteration: 500, Loss: 81368.1641812502\n",
      "#Iteration: 750, Loss: 81119.07447475575\n",
      "#Iteration: 1000, Loss: 81013.00952447571\n",
      "#Iteration: 0, Loss: 110903.54888958971\n",
      "#Iteration: 250, Loss: 81835.47199738745\n",
      "#Iteration: 500, Loss: 81176.33427003892\n",
      "#Iteration: 750, Loss: 80917.02450029316\n",
      "#Iteration: 1000, Loss: 80806.03203994498\n",
      "#Iteration: 0, Loss: 110903.5488895897\n",
      "#Iteration: 250, Loss: 68310.33686720129\n",
      "#Iteration: 500, Loss: 67739.97555085113\n",
      "#Iteration: 750, Loss: 67521.62369344117\n",
      "#Iteration: 1000, Loss: 67404.65108846301\n",
      "#Iteration: 0, Loss: 110903.5488895897\n",
      "#Iteration: 250, Loss: 68012.83984176813\n",
      "#Iteration: 500, Loss: 67451.05990152546\n",
      "#Iteration: 750, Loss: 67240.17040329646\n",
      "#Iteration: 1000, Loss: 67127.0228261357\n",
      "#Iteration: 0, Loss: 110903.54888958971\n",
      "#Iteration: 250, Loss: 68212.44895348177\n",
      "#Iteration: 500, Loss: 67648.67513120492\n",
      "#Iteration: 750, Loss: 67435.66117896116\n",
      "#Iteration: 1000, Loss: 67322.00888644827\n",
      "#Iteration: 0, Loss: 110903.54888958971\n",
      "#Iteration: 250, Loss: 68352.12567248187\n",
      "#Iteration: 500, Loss: 67790.7630220095\n",
      "#Iteration: 750, Loss: 67577.38481151832\n",
      "#Iteration: 1000, Loss: 67463.37874754459\n",
      "#Iteration: 0, Loss: 110903.54888958971\n",
      "#Iteration: 250, Loss: 68093.20675293167\n",
      "#Iteration: 500, Loss: 67524.31293048033\n",
      "#Iteration: 750, Loss: 67307.80651312228\n",
      "#Iteration: 1000, Loss: 67191.6904559416\n",
      "#Iteration: 0, Loss: 110903.5488895897\n",
      "#Iteration: 250, Loss: 66871.69121421681\n",
      "#Iteration: 500, Loss: 66144.87041582608\n",
      "#Iteration: 750, Loss: 65853.96448672665\n",
      "#Iteration: 1000, Loss: 65686.91044459997\n",
      "#Iteration: 0, Loss: 110903.5488895897\n",
      "#Iteration: 250, Loss: 66652.62250747692\n",
      "#Iteration: 500, Loss: 65935.08871240469\n",
      "#Iteration: 750, Loss: 65649.55800679537\n",
      "#Iteration: 1000, Loss: 65485.15344760102\n",
      "#Iteration: 0, Loss: 110903.54888958971\n",
      "#Iteration: 250, Loss: 66838.89597300175\n",
      "#Iteration: 500, Loss: 66125.29071682601\n",
      "#Iteration: 750, Loss: 65841.60631750815\n",
      "#Iteration: 1000, Loss: 65678.43090706963\n",
      "#Iteration: 0, Loss: 110903.54888958971\n",
      "#Iteration: 250, Loss: 66976.89870602249\n",
      "#Iteration: 500, Loss: 66260.03305200928\n",
      "#Iteration: 750, Loss: 65973.16169032741\n",
      "#Iteration: 1000, Loss: 65808.4434064412\n",
      "#Iteration: 0, Loss: 110903.54888958971\n",
      "#Iteration: 250, Loss: 66699.07011160802\n",
      "#Iteration: 500, Loss: 65973.84976568058\n",
      "#Iteration: 750, Loss: 65683.50248515762\n",
      "#Iteration: 1000, Loss: 65516.055163788464\n",
      "#Iteration: 0, Loss: 110903.5488895897\n",
      "#Iteration: 250, Loss: 113875.53408393\n",
      "#Iteration: 500, Loss: 103560.88213576395\n",
      "#Iteration: 750, Loss: 110283.56107539071\n",
      "#Iteration: 1000, Loss: 101850.59934203945\n",
      "#Iteration: 0, Loss: 110903.5488895897\n",
      "#Iteration: 250, Loss: 111976.58936280895\n",
      "#Iteration: 500, Loss: 102543.51954660601\n",
      "#Iteration: 750, Loss: 108704.93471224153\n",
      "#Iteration: 1000, Loss: 100908.74374878785\n",
      "#Iteration: 0, Loss: 110903.54888958971\n",
      "#Iteration: 250, Loss: 114486.73947260203\n",
      "#Iteration: 500, Loss: 103585.27475485366\n",
      "#Iteration: 750, Loss: 110987.67444642786\n",
      "#Iteration: 1000, Loss: 101951.34281498594\n",
      "#Iteration: 0, Loss: 110903.54888958971\n",
      "#Iteration: 250, Loss: 114268.59208686672\n",
      "#Iteration: 500, Loss: 103549.00166611245\n",
      "#Iteration: 750, Loss: 110903.94475854542\n",
      "#Iteration: 1000, Loss: 101890.17691564679\n",
      "#Iteration: 0, Loss: 110903.54888958971\n",
      "#Iteration: 250, Loss: 113080.54828904764\n",
      "#Iteration: 500, Loss: 102864.21276560135\n",
      "#Iteration: 750, Loss: 109659.00137485549\n",
      "#Iteration: 1000, Loss: 101210.26076258694\n",
      "#Iteration: 0, Loss: 110903.5488895897\n",
      "#Iteration: 250, Loss: 75815.0443168803\n",
      "#Iteration: 500, Loss: 72669.24250611025\n",
      "#Iteration: 750, Loss: 71230.94807647752\n",
      "#Iteration: 1000, Loss: 70388.04167751742\n",
      "#Iteration: 0, Loss: 110903.5488895897\n",
      "#Iteration: 250, Loss: 75647.48017665008\n",
      "#Iteration: 500, Loss: 72467.76537409652\n",
      "#Iteration: 750, Loss: 71008.17360605767\n",
      "#Iteration: 1000, Loss: 70152.97217985816\n",
      "#Iteration: 0, Loss: 110903.54888958971\n",
      "#Iteration: 250, Loss: 75843.30555781463\n",
      "#Iteration: 500, Loss: 72674.60058463538\n",
      "#Iteration: 750, Loss: 71222.34683811893\n",
      "#Iteration: 1000, Loss: 70370.98654938856\n",
      "#Iteration: 0, Loss: 110903.54888958971\n",
      "#Iteration: 250, Loss: 75848.84583411073\n",
      "#Iteration: 500, Loss: 72730.58352880694\n",
      "#Iteration: 750, Loss: 71304.21484336386\n",
      "#Iteration: 1000, Loss: 70467.12252169239\n",
      "#Iteration: 0, Loss: 110903.54888958971\n",
      "#Iteration: 250, Loss: 75665.17022152976\n",
      "#Iteration: 500, Loss: 72503.27411230106\n",
      "#Iteration: 750, Loss: 71049.88033554608\n",
      "#Iteration: 1000, Loss: 70196.99655811074\n",
      "#Iteration: 0, Loss: 110903.5488895897\n",
      "#Iteration: 250, Loss: 95757.51336040007\n",
      "#Iteration: 500, Loss: 100360.60183002662\n",
      "#Iteration: 750, Loss: 92432.79724006151\n",
      "#Iteration: 1000, Loss: 99466.8026545553\n",
      "#Iteration: 0, Loss: 110903.5488895897\n",
      "#Iteration: 250, Loss: 109511.86077445427\n",
      "#Iteration: 500, Loss: 92362.10507902059\n",
      "#Iteration: 750, Loss: 103413.13986013943\n",
      "#Iteration: 1000, Loss: 90595.8760752461\n",
      "#Iteration: 0, Loss: 110903.54888958971\n",
      "#Iteration: 250, Loss: 105434.35619102234\n",
      "#Iteration: 500, Loss: 93960.29676284268\n",
      "#Iteration: 750, Loss: 102068.81848773162\n",
      "#Iteration: 1000, Loss: 91523.74713199139\n",
      "#Iteration: 0, Loss: 110903.54888958971\n",
      "#Iteration: 250, Loss: 107184.34406458536\n",
      "#Iteration: 500, Loss: 93722.04006127361\n",
      "#Iteration: 750, Loss: 102998.11854322748\n",
      "#Iteration: 1000, Loss: 91952.14442845822\n",
      "#Iteration: 0, Loss: 110903.54888958971\n",
      "#Iteration: 250, Loss: 95019.4104614115\n",
      "#Iteration: 500, Loss: 102759.35185531367\n",
      "#Iteration: 750, Loss: 91794.23276004153\n",
      "#Iteration: 1000, Loss: 101492.20750604755\n"
     ]
    }
   ],
   "source": [
    "degrees = range(1,7)\n",
    "max_iters = 1000\n",
    "loss_train_plot = []\n",
    "loss_val_plot = []\n",
    "acc_train_plot = []\n",
    "acc_val_plot = []\n",
    "gamma = 0.0000022\n",
    "lambda_ = 0.001\n",
    "for degree in degrees:\n",
    "# Preprocessing of Training \n",
    "\n",
    "    cat_cols = [22]\n",
    "    full_x_train_num, full_x_train_cat = split_numerical_categorical(tX_trainRaw,cat_cols)\n",
    "\n",
    "    # Treat numerical values\n",
    "    full_x_train_num_nan = replace_undef_val_with_nan(full_x_train_num)\n",
    "    full_x_train_num_nan_std, train_mean, train_std = nan_standardize_fit(full_x_train_num_nan)\n",
    "\n",
    "    full_x_train_num_valid_std = replace_nan_val_with_median(full_x_train_num_nan_std)\n",
    "    full_x_train_num_valid_std = replace_iqr_outliers(full_x_train_num_valid_std)\n",
    "\n",
    "    # Treat categorical values\n",
    "    full_x_train_ohe_cat = one_hot_encode(full_x_train_cat)\n",
    "    x_train_poly = build_poly(full_x_train_num_valid_std,degree)\n",
    "    full_x_train = np.hstack((x_train_poly,full_x_train_ohe_cat))\n",
    "\n",
    "    # Treat labels\n",
    "    full_y_train = y_trainRaw\n",
    "    full_y_train = relabel_y_non_negative(full_y_train).reshape(-1,1)\n",
    "    full_y_train = full_y_train.reshape(-1,1)\n",
    "    \n",
    "    # Split in train and validation set\n",
    "    x_train, y_train, x_val, y_val = split_data(full_x_train,full_y_train,0.8)\n",
    "    \n",
    "    if degree>4:\n",
    "        gamma = 0.0000001\n",
    "    loss_train, loss_val, accuracy_train, accuracy_val = cross_validation_log(x_train, y_train, lambda_, gamma, max_iters)\n",
    "    loss_train_plot.append(loss_train)\n",
    "    loss_val_plot.append(loss_val)    \n",
    "    acc_train_plot.append(accuracy_train)    \n",
    "    acc_val_plot.append(accuracy_val)    \n",
    "    "
   ]
  },
  {
   "cell_type": "code",
   "execution_count": 114,
   "metadata": {},
   "outputs": [
    {
     "data": {
      "image/png": "[encoded data removed]",
      "text/plain": [
       "<Figure size 1296x864 with 1 Axes>"
      ]
     },
     "metadata": {
      "needs_background": "light"
     },
     "output_type": "display_data"
    }
   ],
   "source": [
    "fig = plot_figures(degrees,loss_train_plot, loss_val_plot, \"Loss Train vs Loss Val \", ['Val', 'Train'])\n",
    "fig.savefig('../results/Loss_trainvsval.png')\n"
   ]
  },
  {
   "cell_type": "code",
   "execution_count": 115,
   "metadata": {},
   "outputs": [
    {
     "data": {
      "image/png": "[encoded data removed]",
      "text/plain": [
       "<Figure size 1296x864 with 1 Axes>"
      ]
     },
     "metadata": {
      "needs_background": "light"
     },
     "output_type": "display_data"
    }
   ],
   "source": [
    "fig = plot_figures(degrees,acc_train_plot, acc_val_plot, \"Accuracy Train vs Accuracy Validation \", ['Acc Train', 'Acc Test'])\n",
    "fig.savefig('../results/Acc_trainvsval.png')"
   ]
  },
  {
   "cell_type": "code",
   "execution_count": 42,
   "metadata": {},
   "outputs": [
    {
     "data": {
      "text/plain": [
       "[0.67671625]"
      ]
     },
     "execution_count": 42,
     "metadata": {},
     "output_type": "execute_result"
    }
   ],
   "source": [
    "acc_train_plot"
   ]
  },
  {
   "cell_type": "code",
   "execution_count": 43,
   "metadata": {},
   "outputs": [
    {
     "data": {
      "text/plain": [
       "[0.6766650000000001]"
      ]
     },
     "execution_count": 43,
     "metadata": {},
     "output_type": "execute_result"
    }
   ],
   "source": [
    "acc_val_plot"
   ]
  },
  {
   "cell_type": "code",
   "execution_count": 24,
   "metadata": {},
   "outputs": [
    {
     "data": {
      "text/plain": [
       "[74.5435, 80.744, 81.1535, 79.2685, 79.674, 77.364]"
      ]
     },
     "execution_count": 24,
     "metadata": {},
     "output_type": "execute_result"
    }
   ],
   "source": [
    "acc_val_plot_t = [i * 100 for i in acc_val_plot]\n",
    "acc_val_plot_t"
   ]
  },
  {
   "cell_type": "code",
   "execution_count": 26,
   "metadata": {},
   "outputs": [
    {
     "data": {
      "text/plain": [
       "[0.17994000000000002,\n",
       " 0.23041874999999998,\n",
       " 0.23483749999999998,\n",
       " 0.25893749999999993,\n",
       " 0.22010749999999998,\n",
       " 0.24214249999999998]"
      ]
     },
     "execution_count": 26,
     "metadata": {},
     "output_type": "execute_result"
    }
   ],
   "source": [
    "acc_train_plot"
   ]
  },
  {
   "cell_type": "code",
   "execution_count": null,
   "metadata": {},
   "outputs": [],
   "source": [
    "accuracy_val"
   ]
  },
  {
   "cell_type": "markdown",
   "metadata": {},
   "source": [
    "## Generate predictions and save ouput in csv format for submission:"
   ]
  },
  {
   "cell_type": "code",
   "execution_count": 129,
   "metadata": {},
   "outputs": [
    {
     "data": {
      "text/plain": [
       "568238"
      ]
     },
     "execution_count": 129,
     "metadata": {},
     "output_type": "execute_result"
    }
   ],
   "source": [
    "y_pred = predict_labels(weights, x_test)\n",
    "np.unique(y_pred)\n",
    "y_pred.size"
   ]
  },
  {
   "cell_type": "code",
   "execution_count": 130,
   "metadata": {},
   "outputs": [],
   "source": [
    "OUTPUT_PATH = '../results/reg_log_reg_cv.csv' \n",
    "create_csv_submission(ids_test, y_pred, OUTPUT_PATH)"
   ]
  },
  {
   "cell_type": "code",
   "execution_count": 131,
   "metadata": {},
   "outputs": [],
   "source": [
    "# Script to delete empty rows\n",
    "with open('../results/reg_log_reg_cv.csv') as input, open('../results/reg_log_reg_cv_cleaned.csv', 'w', newline='') as output:\n",
    "    writer = csv.writer(output)\n",
    "    for row in csv.reader(input):\n",
    "        if any(field.strip() for field in row):\n",
    "            writer.writerow(row)"
   ]
  },
  {
   "cell_type": "code",
   "execution_count": null,
   "metadata": {},
   "outputs": [],
   "source": []
  }
 ],
 "metadata": {
  "anaconda-cloud": {},
  "kernelspec": {
   "display_name": "Python 3",
   "language": "python",
   "name": "python3"
  },
  "language_info": {
   "codemirror_mode": {
    "name": "ipython",
    "version": 3
   },
   "file_extension": ".py",
   "mimetype": "text/x-python",
   "name": "python",
   "nbconvert_exporter": "python",
   "pygments_lexer": "ipython3",
   "version": "3.7.3"
  }
 },
 "nbformat": 4,
 "nbformat_minor": 4
}
