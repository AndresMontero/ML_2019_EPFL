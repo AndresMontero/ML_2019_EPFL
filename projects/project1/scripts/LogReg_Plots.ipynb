{
 "cells": [
  {
   "cell_type": "code",
   "execution_count": 17,
   "metadata": {},
   "outputs": [
    {
     "name": "stdout",
     "output_type": "stream",
     "text": [
      "The autoreload extension is already loaded. To reload it, use:\n",
      "  %reload_ext autoreload\n"
     ]
    }
   ],
   "source": [
    "# Useful starting lines\n",
    "# %matplotlib inline\n",
    "import numpy as np\n",
    "import matplotlib.pyplot as plt\n",
    "%load_ext autoreload\n",
    "%autoreload 2\n",
    "\n",
    "from proj1_helpers import *\n",
    "from proj1_utils import *\n",
    "from implementations_utils import *\n",
    "from implementations import *\n",
    "from proj1_visualization import *\n",
    "from proj1_cross_validation import *\n",
    "from sklearn.metrics import accuracy_score\n"
   ]
  },
  {
   "cell_type": "markdown",
   "metadata": {},
   "source": [
    "## Load the data into feature matrix, class labels, and event ids:"
   ]
  },
  {
   "cell_type": "code",
   "execution_count": 18,
   "metadata": {},
   "outputs": [],
   "source": [
    "DATA_TRAIN_PATH = '../data/train.csv' \n",
    "y_trainRaw, tX_trainRaw, ids_train = load_csv_data(DATA_TRAIN_PATH)\n",
    "DATA_TEST_PATH = '../data/test.csv' \n",
    "y_testRaw, tX_testRaw, ids_test = load_csv_data(DATA_TEST_PATH)\n"
   ]
  },
  {
   "cell_type": "markdown",
   "metadata": {},
   "source": [
    "# Data Pre-processing"
   ]
  },
  {
   "cell_type": "code",
   "execution_count": 28,
   "metadata": {},
   "outputs": [],
   "source": [
    "# Preprocessing of Training \n",
    "\n",
    "cat_cols = [22]\n",
    "full_x_train_num, full_x_train_cat = split_numerical_categorical(tX_trainRaw,cat_cols)\n",
    "\n",
    "# Treat numerical values\n",
    "full_x_train_num_nan = replace_undef_val_with_nan(full_x_train_num)\n",
    "full_x_train_num_nan_std, train_mean, train_std = nan_standardize_fit(full_x_train_num_nan)\n",
    "\n",
    "full_x_train_num_valid_std = replace_nan_val_with_median(full_x_train_num_nan_std)\n",
    "full_x_train_num_valid_std = replace_iqr_outliers(full_x_train_num_valid_std)\n",
    "\n",
    "# Treat categorical values\n",
    "full_x_train_ohe_cat = one_hot_encode(full_x_train_cat)\n",
    "x_train_poly = build_poly(full_x_train_num_valid_std,3)\n",
    "full_x_train = np.hstack((x_train_poly,full_x_train_ohe_cat))\n",
    "\n",
    "# Treat labels\n",
    "full_y_train = y_trainRaw\n",
    "full_y_train = relabel_y_non_negative(full_y_train).reshape(-1,1)\n",
    "full_y_train = full_y_train.reshape(-1,1)\n"
   ]
  },
  {
   "cell_type": "code",
   "execution_count": 29,
   "metadata": {},
   "outputs": [],
   "source": [
    "# Split in train and validation set\n",
    "x_train, y_train, x_val, y_val = split_data(full_x_train,full_y_train,0.8)\n"
   ]
  },
  {
   "cell_type": "code",
   "execution_count": 30,
   "metadata": {},
   "outputs": [],
   "source": [
    "# Preprocessing of Test\n",
    "\n",
    "cat_cols = [22]\n",
    "x_test_num, x_test_cat = split_numerical_categorical(tX_testRaw,cat_cols)\n",
    "\n",
    "# Treat numerical values\n",
    "x_test_num_nan = replace_undef_val_with_nan(x_test_num)\n",
    "x_test_num_nan_std = nan_standardize_transform(x_test_num_nan,train_mean,train_std)\n",
    "x_test_num_valid_std = replace_nan_val_with_median(x_test_num_nan_std)\n",
    "x_test_num_valid_std = replace_iqr_outliers(x_test_num_valid_std)\n",
    "x_test_ohe_cat = one_hot_encode(x_test_cat)\n",
    "x_test_poly = build_poly(x_test_num_valid_std,3)\n",
    "x_test = np.hstack((x_test_poly,x_test_ohe_cat))\n"
   ]
  },
  {
   "cell_type": "markdown",
   "metadata": {},
   "source": [
    "# Training and Validation "
   ]
  },
  {
   "cell_type": "markdown",
   "metadata": {},
   "source": [
    "### Logistic Regression"
   ]
  },
  {
   "cell_type": "code",
   "execution_count": 11,
   "metadata": {},
   "outputs": [
    {
     "name": "stdout",
     "output_type": "stream",
     "text": [
      "#Iteration: 0, Loss: 138629.4361119856\n",
      "#Iteration: 250, Loss: 83172.43329205224\n",
      "#Iteration: 500, Loss: 82407.19470367681\n",
      "#Iteration: 750, Loss: 82093.8299196013\n",
      "#Iteration: 1000, Loss: 81913.68058817775\n",
      "#Iteration: 1250, Loss: 81796.50420644283\n",
      "#Iteration: 1500, Loss: 81715.57116523769\n",
      "#Iteration: 1750, Loss: 81657.7350351174\n",
      "#Iteration: 2000, Loss: 81615.50151609059\n"
     ]
    }
   ],
   "source": [
    "# Best Degree was polynomial 3\n",
    "max_iters = 2000\n",
    "# gamma = 0.00000038\n",
    "gamma = 0.0000022\n",
    "w_initial = np.zeros((full_x_train.shape[1], 1))\n",
    "# y_train = relabel_y_negative(y_train)\n",
    "# y_val = relabel_y_negative(y_val)\n",
    "weights, loss_tr = logistic_regression(y_train, x_train, w_initial, max_iters, gamma)"
   ]
  },
  {
   "cell_type": "code",
   "execution_count": 36,
   "metadata": {},
   "outputs": [],
   "source": [
    "def get_accuracy_score(y_pred,y_val):\n",
    "    \"\"\"Get the accuracy score.\n",
    "        Args:\n",
    "            y_pred (numpy.array): the predicted labels\n",
    "            y_val (numpy.array): the ground truth labels\n",
    "        Returns:\n",
    "            numpy.in64: the accuracy score. Range 0 to 1.\n",
    "\n",
    "    \"\"\"\n",
    "    return np.sum(y_pred == y_val)/len(y_pred)"
   ]
  },
  {
   "cell_type": "code",
   "execution_count": 38,
   "metadata": {},
   "outputs": [
    {
     "data": {
      "text/plain": [
       "0.81294"
      ]
     },
     "execution_count": 38,
     "metadata": {},
     "output_type": "execute_result"
    }
   ],
   "source": [
    "y_val = relabel_y_negative(y_val)\n",
    "y_pred = predict_labels(weights, x_val)\n",
    "get_accuracy_score(y_val,y_pred)"
   ]
  },
  {
   "cell_type": "markdown",
   "metadata": {},
   "source": [
    "### Regularized Logistic Regression"
   ]
  },
  {
   "cell_type": "code",
   "execution_count": 31,
   "metadata": {},
   "outputs": [
    {
     "name": "stdout",
     "output_type": "stream",
     "text": [
      "#Iteration: 0, Loss: 138629.4361119856\n",
      "#Iteration: 250, Loss: 83172.43329410438\n",
      "#Iteration: 500, Loss: 82407.19470593333\n",
      "#Iteration: 750, Loss: 82093.82992208099\n",
      "#Iteration: 1000, Loss: 81913.68059084011\n",
      "#Iteration: 1250, Loss: 81796.50420925005\n",
      "#Iteration: 1500, Loss: 81715.57116815365\n",
      "#Iteration: 1750, Loss: 81657.73503810934\n",
      "#Iteration: 2000, Loss: 81615.50151913016\n"
     ]
    }
   ],
   "source": [
    "max_iters = 2000\n",
    "gamma = 0.0000022\n",
    "lambda_ = 1e-6\n",
    "w_initial = np.zeros((x_train.shape[1], 1))\n",
    "weights,_ = reg_logistic_regression(y_train, x_train, w_initial, max_iters, gamma, lambda_)"
   ]
  },
  {
   "cell_type": "code",
   "execution_count": 40,
   "metadata": {},
   "outputs": [
    {
     "data": {
      "text/plain": [
       "0.81294"
      ]
     },
     "execution_count": 40,
     "metadata": {},
     "output_type": "execute_result"
    }
   ],
   "source": [
    "y_val = relabel_y_negative(y_val)\n",
    "y_pred = predict_labels(weights, x_val)\n",
    "get_accuracy_score(y_val,y_pred)"
   ]
  },
  {
   "cell_type": "markdown",
   "metadata": {},
   "source": [
    "### Cross Validation Verification"
   ]
  },
  {
   "cell_type": "code",
   "execution_count": 23,
   "metadata": {},
   "outputs": [
    {
     "name": "stdout",
     "output_type": "stream",
     "text": [
      "#Iteration: 0, Loss: 138629.4361119856\n",
      "#Iteration: 250, Loss: 102351.92315410798\n",
      "#Iteration: 500, Loss: 101634.30238543342\n",
      "#Iteration: 750, Loss: 101402.22032475789\n",
      "#Iteration: 1000, Loss: 101319.10045410668\n",
      "#Iteration: 1250, Loss: 101286.87698266497\n",
      "#Iteration: 1500, Loss: 101273.18304964197\n",
      "#Iteration: 1750, Loss: 101266.59575720038\n",
      "#Iteration: 2000, Loss: 101262.89683517034\n",
      "#Iteration: 0, Loss: 138629.4361119856\n",
      "#Iteration: 250, Loss: 85268.33484329686\n",
      "#Iteration: 500, Loss: 84678.55535159571\n",
      "#Iteration: 750, Loss: 84451.54176565602\n",
      "#Iteration: 1000, Loss: 84337.1399953833\n",
      "#Iteration: 1250, Loss: 84274.18866237359\n",
      "#Iteration: 1500, Loss: 84237.39525957023\n",
      "#Iteration: 1750, Loss: 84214.5773673723\n",
      "#Iteration: 2000, Loss: 84199.49553272303\n",
      "#Iteration: 0, Loss: 138629.4361119856\n",
      "#Iteration: 250, Loss: 83471.72194574717\n",
      "#Iteration: 500, Loss: 82714.67903910893\n",
      "#Iteration: 750, Loss: 82402.6352980146\n",
      "#Iteration: 1000, Loss: 82223.94182833021\n",
      "#Iteration: 1250, Loss: 82108.21931055131\n",
      "#Iteration: 1500, Loss: 82028.6594256548\n",
      "#Iteration: 1750, Loss: 81972.07175833355\n",
      "#Iteration: 2000, Loss: 81930.93876502111\n",
      "#Iteration: 0, Loss: 138629.4361119856\n",
      "#Iteration: 250, Loss: 171713.0256997506\n",
      "#Iteration: 500, Loss: 151471.5449947062\n",
      "#Iteration: 750, Loss: 166405.2340274269\n",
      "#Iteration: 1000, Loss: 148875.3002551199\n",
      "#Iteration: 1250, Loss: 164102.68841277578\n",
      "#Iteration: 1500, Loss: 147236.23456445115\n",
      "#Iteration: 1750, Loss: 162561.81115237597\n",
      "#Iteration: 2000, Loss: 146072.92471632143\n",
      "#Iteration: 0, Loss: 138629.4361119856\n"
     ]
    },
    {
     "name": "stderr",
     "output_type": "stream",
     "text": [
      "D:\\EPFL\\Machine-Learning\\2019-2020\\ML_2019_EPFL\\projects\\project1\\scripts\\implementations_utils.py:41: RuntimeWarning: divide by zero encountered in log\n",
      "  loss = y.T.dot(np.log(pred)) + (1 - y).T.dot(np.log(1 - pred))\n"
     ]
    },
    {
     "name": "stdout",
     "output_type": "stream",
     "text": [
      "#Iteration: 250, Loss: nan\n",
      "#Iteration: 500, Loss: nan\n",
      "#Iteration: 750, Loss: nan\n",
      "#Iteration: 1000, Loss: nan\n",
      "#Iteration: 1250, Loss: nan\n",
      "#Iteration: 1500, Loss: nan\n",
      "#Iteration: 1750, Loss: nan\n",
      "#Iteration: 2000, Loss: nan\n",
      "#Iteration: 0, Loss: 138629.4361119856\n",
      "#Iteration: 250, Loss: nan\n",
      "#Iteration: 500, Loss: nan\n",
      "#Iteration: 750, Loss: nan\n",
      "#Iteration: 1000, Loss: nan\n",
      "#Iteration: 1250, Loss: nan\n",
      "#Iteration: 1500, Loss: nan\n",
      "#Iteration: 1750, Loss: nan\n",
      "#Iteration: 2000, Loss: nan\n",
      "#Iteration: 0, Loss: 138629.4361119856\n",
      "#Iteration: 250, Loss: 102351.92316620123\n",
      "#Iteration: 500, Loss: 101634.30240164351\n",
      "#Iteration: 750, Loss: 101402.22034201607\n",
      "#Iteration: 1000, Loss: 101319.10047107236\n",
      "#Iteration: 1250, Loss: 101286.87699896433\n",
      "#Iteration: 1500, Loss: 101273.18306529867\n",
      "#Iteration: 1750, Loss: 101266.59577235859\n",
      "#Iteration: 2000, Loss: 101262.89684998208\n",
      "#Iteration: 0, Loss: 138629.4361119856\n",
      "#Iteration: 250, Loss: 85268.33485957404\n",
      "#Iteration: 500, Loss: 84678.55536982918\n",
      "#Iteration: 750, Loss: 84451.54178523381\n",
      "#Iteration: 1000, Loss: 84337.14001566949\n",
      "#Iteration: 1250, Loss: 84274.1886828824\n",
      "#Iteration: 1500, Loss: 84237.39528001891\n",
      "#Iteration: 1750, Loss: 84214.57738763344\n",
      "#Iteration: 2000, Loss: 84199.49555276647\n",
      "#Iteration: 0, Loss: 138629.4361119856\n",
      "#Iteration: 250, Loss: 83471.72196340044\n",
      "#Iteration: 500, Loss: 82714.6790592914\n",
      "#Iteration: 750, Loss: 82402.6353202053\n",
      "#Iteration: 1000, Loss: 82223.94185214366\n",
      "#Iteration: 1250, Loss: 82108.21933563624\n",
      "#Iteration: 1500, Loss: 82028.65945168074\n",
      "#Iteration: 1750, Loss: 81972.07178500427\n",
      "#Iteration: 2000, Loss: 81930.93879208324\n",
      "#Iteration: 0, Loss: 138629.4361119856\n",
      "#Iteration: 250, Loss: 171713.0257664284\n",
      "#Iteration: 500, Loss: 151471.54503347262\n",
      "#Iteration: 750, Loss: 166405.23414571673\n",
      "#Iteration: 1000, Loss: 148875.30032424512\n",
      "#Iteration: 1250, Loss: 164102.68857641533\n",
      "#Iteration: 1500, Loss: 147236.23466721844\n",
      "#Iteration: 1750, Loss: 162561.81136210982\n",
      "#Iteration: 2000, Loss: 146072.9248526492\n",
      "#Iteration: 0, Loss: 138629.4361119856\n",
      "#Iteration: 250, Loss: nan\n",
      "#Iteration: 500, Loss: nan\n",
      "#Iteration: 750, Loss: nan\n",
      "#Iteration: 1000, Loss: nan\n",
      "#Iteration: 1250, Loss: nan\n",
      "#Iteration: 1500, Loss: nan\n",
      "#Iteration: 1750, Loss: nan\n",
      "#Iteration: 2000, Loss: nan\n",
      "#Iteration: 0, Loss: 138629.4361119856\n",
      "#Iteration: 250, Loss: nan\n",
      "#Iteration: 500, Loss: nan\n",
      "#Iteration: 750, Loss: nan\n",
      "#Iteration: 1000, Loss: nan\n",
      "#Iteration: 1250, Loss: nan\n",
      "#Iteration: 1500, Loss: nan\n",
      "#Iteration: 1750, Loss: nan\n",
      "#Iteration: 2000, Loss: nan\n",
      "#Iteration: 0, Loss: 138629.4361119856\n",
      "#Iteration: 250, Loss: 102351.92328713389\n",
      "#Iteration: 500, Loss: 101634.30256374451\n",
      "#Iteration: 750, Loss: 101402.22051459774\n",
      "#Iteration: 1000, Loss: 101319.10064072898\n",
      "#Iteration: 1250, Loss: 101286.87716195815\n",
      "#Iteration: 1500, Loss: 101273.18322186575\n",
      "#Iteration: 1750, Loss: 101266.5959239407\n",
      "#Iteration: 2000, Loss: 101262.89699809958\n",
      "#Iteration: 0, Loss: 138629.4361119856\n",
      "#Iteration: 250, Loss: 85268.3350223461\n",
      "#Iteration: 500, Loss: 84678.55555216373\n",
      "#Iteration: 750, Loss: 84451.54198101182\n",
      "#Iteration: 1000, Loss: 84337.14021853109\n",
      "#Iteration: 1250, Loss: 84274.18888797068\n",
      "#Iteration: 1500, Loss: 84237.395484506\n",
      "#Iteration: 1750, Loss: 84214.57759024478\n",
      "#Iteration: 2000, Loss: 84199.4957532007\n",
      "#Iteration: 0, Loss: 138629.4361119856\n",
      "#Iteration: 250, Loss: 83471.72213993335\n",
      "#Iteration: 500, Loss: 82714.67926111638\n",
      "#Iteration: 750, Loss: 82402.63554211253\n",
      "#Iteration: 1000, Loss: 82223.94209027801\n",
      "#Iteration: 1250, Loss: 82108.21958648572\n",
      "#Iteration: 1500, Loss: 82028.65971194045\n",
      "#Iteration: 1750, Loss: 81972.07205171163\n",
      "#Iteration: 2000, Loss: 81930.93906270443\n",
      "#Iteration: 0, Loss: 138629.4361119856\n",
      "#Iteration: 250, Loss: 171713.02643912658\n",
      "#Iteration: 500, Loss: 151471.54542064772\n",
      "#Iteration: 750, Loss: 166405.23533412226\n",
      "#Iteration: 1000, Loss: 148875.30101521488\n",
      "#Iteration: 1250, Loss: 164102.69021397486\n",
      "#Iteration: 1500, Loss: 147236.23569421555\n",
      "#Iteration: 1750, Loss: 162561.81348694573\n",
      "#Iteration: 2000, Loss: 146072.92621576678\n",
      "#Iteration: 0, Loss: 138629.4361119856\n",
      "#Iteration: 250, Loss: nan\n",
      "#Iteration: 500, Loss: nan\n",
      "#Iteration: 750, Loss: nan\n",
      "#Iteration: 1000, Loss: nan\n",
      "#Iteration: 1250, Loss: nan\n",
      "#Iteration: 1500, Loss: nan\n",
      "#Iteration: 1750, Loss: nan\n",
      "#Iteration: 2000, Loss: nan\n",
      "#Iteration: 0, Loss: 138629.4361119856\n",
      "#Iteration: 250, Loss: nan\n",
      "#Iteration: 500, Loss: nan\n",
      "#Iteration: 750, Loss: nan\n",
      "#Iteration: 1000, Loss: nan\n",
      "#Iteration: 1250, Loss: nan\n",
      "#Iteration: 1500, Loss: nan\n",
      "#Iteration: 1750, Loss: nan\n",
      "#Iteration: 2000, Loss: nan\n",
      "#Iteration: 0, Loss: 138629.4361119856\n",
      "#Iteration: 250, Loss: 102351.92449646043\n",
      "#Iteration: 500, Loss: 101634.30418475413\n",
      "#Iteration: 750, Loss: 101402.22224041456\n",
      "#Iteration: 1000, Loss: 101319.1023372953\n",
      "#Iteration: 1250, Loss: 101286.87879189699\n",
      "#Iteration: 1500, Loss: 101273.1847875377\n",
      "#Iteration: 1750, Loss: 101266.59743976317\n",
      "#Iteration: 2000, Loss: 101262.89847927622\n",
      "#Iteration: 0, Loss: 138629.4361119856\n",
      "#Iteration: 250, Loss: 85268.33665006665\n",
      "#Iteration: 500, Loss: 84678.55737550951\n",
      "#Iteration: 750, Loss: 84451.54393879234\n",
      "#Iteration: 1000, Loss: 84337.14224714752\n",
      "#Iteration: 1250, Loss: 84274.19093885408\n",
      "#Iteration: 1500, Loss: 84237.39752937778\n",
      "#Iteration: 1750, Loss: 84214.57961635965\n",
      "#Iteration: 2000, Loss: 84199.49775754476\n",
      "#Iteration: 0, Loss: 138629.4361119856\n",
      "#Iteration: 250, Loss: 83471.72390526258\n",
      "#Iteration: 500, Loss: 82714.6812793663\n",
      "#Iteration: 750, Loss: 82402.63776118486\n",
      "#Iteration: 1000, Loss: 82223.94447162241\n",
      "#Iteration: 1250, Loss: 82108.22209498096\n",
      "#Iteration: 1500, Loss: 82028.66231453799\n",
      "#Iteration: 1750, Loss: 81972.07471878645\n",
      "#Iteration: 2000, Loss: 81930.94176891801\n",
      "#Iteration: 0, Loss: 138629.4361119856\n",
      "#Iteration: 250, Loss: 171713.0331477375\n",
      "#Iteration: 500, Loss: 151471.54929288142\n",
      "#Iteration: 750, Loss: 166405.247243299\n",
      "#Iteration: 1000, Loss: 148875.30792627408\n",
      "#Iteration: 1250, Loss: 164102.7066773876\n",
      "#Iteration: 1500, Loss: 147236.24596118924\n",
      "#Iteration: 1750, Loss: 162561.83448676483\n",
      "#Iteration: 2000, Loss: 146072.9398490813\n",
      "#Iteration: 0, Loss: 138629.4361119856\n",
      "#Iteration: 250, Loss: nan\n",
      "#Iteration: 500, Loss: nan\n",
      "#Iteration: 750, Loss: nan\n",
      "#Iteration: 1000, Loss: nan\n",
      "#Iteration: 1250, Loss: nan\n",
      "#Iteration: 1500, Loss: nan\n",
      "#Iteration: 1750, Loss: nan\n",
      "#Iteration: 2000, Loss: nan\n",
      "#Iteration: 0, Loss: 138629.4361119856\n",
      "#Iteration: 250, Loss: nan\n",
      "#Iteration: 500, Loss: nan\n",
      "#Iteration: 750, Loss: nan\n",
      "#Iteration: 1000, Loss: nan\n",
      "#Iteration: 1250, Loss: nan\n",
      "#Iteration: 1500, Loss: nan\n",
      "#Iteration: 1750, Loss: nan\n",
      "#Iteration: 2000, Loss: nan\n",
      "#Iteration: 0, Loss: 138629.4361119856\n",
      "#Iteration: 250, Loss: 102351.93658971608\n",
      "#Iteration: 500, Loss: 101634.32039483398\n",
      "#Iteration: 750, Loss: 101402.23949858261\n",
      "#Iteration: 1000, Loss: 101319.11930299255\n",
      "#Iteration: 1250, Loss: 101286.89509135956\n",
      "#Iteration: 1500, Loss: 101273.20044437017\n",
      "#Iteration: 1750, Loss: 101266.61259813423\n",
      "#Iteration: 2000, Loss: 101262.91329121609\n",
      "#Iteration: 0, Loss: 138629.4361119856\n",
      "#Iteration: 250, Loss: 85268.35292727429\n",
      "#Iteration: 500, Loss: 84678.57560898381\n",
      "#Iteration: 750, Loss: 84451.56351662701\n",
      "#Iteration: 1000, Loss: 84337.16253335963\n",
      "#Iteration: 1250, Loss: 84274.21144776119\n",
      "#Iteration: 1500, Loss: 84237.4179781997\n",
      "#Iteration: 1750, Loss: 84214.59987764621\n",
      "#Iteration: 2000, Loss: 84199.51780115691\n",
      "#Iteration: 0, Loss: 138629.4361119856\n",
      "#Iteration: 250, Loss: 83471.74155857718\n",
      "#Iteration: 500, Loss: 82714.70146188301\n",
      "#Iteration: 750, Loss: 82402.65995193954\n",
      "#Iteration: 1000, Loss: 82223.96828511\n",
      "#Iteration: 1250, Loss: 82108.24717999181\n",
      "#Iteration: 1500, Loss: 82028.6883405919\n",
      "#Iteration: 1750, Loss: 81972.1013896393\n",
      "#Iteration: 2000, Loss: 81930.96883119243\n",
      "#Iteration: 0, Loss: 138629.4361119856\n",
      "#Iteration: 250, Loss: 171713.0993557756\n",
      "#Iteration: 500, Loss: 151471.58801662503\n",
      "#Iteration: 750, Loss: 166405.36667661506\n",
      "#Iteration: 1000, Loss: 148875.37703498895\n",
      "#Iteration: 1250, Loss: 164102.8711907246\n",
      "#Iteration: 1500, Loss: 147236.34862951096\n",
      "#Iteration: 1750, Loss: 162562.04431335357\n",
      "#Iteration: 2000, Loss: 146073.07618113759\n",
      "#Iteration: 0, Loss: 138629.4361119856\n",
      "#Iteration: 250, Loss: nan\n",
      "#Iteration: 500, Loss: nan\n",
      "#Iteration: 750, Loss: nan\n",
      "#Iteration: 1000, Loss: nan\n",
      "#Iteration: 1250, Loss: nan\n",
      "#Iteration: 1500, Loss: nan\n",
      "#Iteration: 1750, Loss: nan\n",
      "#Iteration: 2000, Loss: nan\n",
      "#Iteration: 0, Loss: 138629.4361119856\n",
      "#Iteration: 250, Loss: nan\n",
      "#Iteration: 500, Loss: nan\n",
      "#Iteration: 750, Loss: nan\n",
      "#Iteration: 1000, Loss: nan\n",
      "#Iteration: 1250, Loss: nan\n",
      "#Iteration: 1500, Loss: nan\n",
      "#Iteration: 1750, Loss: nan\n",
      "#Iteration: 2000, Loss: nan\n",
      "#Iteration: 0, Loss: 138629.4361119856\n",
      "#Iteration: 250, Loss: 102352.05752129234\n",
      "#Iteration: 500, Loss: 101634.48249396498\n",
      "#Iteration: 750, Loss: 101402.41208024698\n",
      "#Iteration: 1000, Loss: 101319.28896334533\n",
      "#Iteration: 1250, Loss: 101287.05809341324\n",
      "#Iteration: 1500, Loss: 101273.35702402034\n",
      "#Iteration: 1750, Loss: 101266.76419650852\n",
      "#Iteration: 2000, Loss: 101263.0614279328\n",
      "#Iteration: 0, Loss: 138629.4361119856\n",
      "#Iteration: 250, Loss: 85268.5156995834\n",
      "#Iteration: 500, Loss: 84678.75794539045\n",
      "#Iteration: 750, Loss: 84451.75929792183\n",
      "#Iteration: 1000, Loss: 84337.36540023565\n",
      "#Iteration: 1250, Loss: 84274.41654413717\n",
      "#Iteration: 1500, Loss: 84237.62247683444\n",
      "#Iteration: 1750, Loss: 84214.8025043017\n",
      "#Iteration: 2000, Loss: 84199.7182544363\n",
      "#Iteration: 0, Loss: 138629.4361119856\n",
      "#Iteration: 250, Loss: 83471.91809393096\n",
      "#Iteration: 500, Loss: 82714.90328882923\n",
      "#Iteration: 750, Loss: 82402.88186262178\n",
      "#Iteration: 1000, Loss: 82224.20642436482\n",
      "#Iteration: 1250, Loss: 82108.49803595281\n",
      "#Iteration: 1500, Loss: 82028.9486089611\n",
      "#Iteration: 1750, Loss: 81972.36810864811\n",
      "#Iteration: 2000, Loss: 81931.23946781179\n",
      "#Iteration: 0, Loss: 138629.4361119856\n",
      "#Iteration: 250, Loss: 171713.76894579423\n",
      "#Iteration: 500, Loss: 151471.97525142046\n",
      "#Iteration: 750, Loss: 166406.56025817618\n",
      "#Iteration: 1000, Loss: 148876.06810312002\n",
      "#Iteration: 1250, Loss: 164104.5169022142\n",
      "#Iteration: 1500, Loss: 147237.3752589461\n",
      "#Iteration: 1750, Loss: 162564.14394871137\n",
      "#Iteration: 2000, Loss: 146074.4393994736\n",
      "#Iteration: 0, Loss: 138629.4361119856\n",
      "#Iteration: 250, Loss: nan\n",
      "#Iteration: 500, Loss: nan\n",
      "#Iteration: 750, Loss: nan\n",
      "#Iteration: 1000, Loss: nan\n",
      "#Iteration: 1250, Loss: nan\n",
      "#Iteration: 1500, Loss: nan\n",
      "#Iteration: 1750, Loss: nan\n",
      "#Iteration: 2000, Loss: nan\n",
      "#Iteration: 0, Loss: 138629.4361119856\n",
      "#Iteration: 250, Loss: nan\n",
      "#Iteration: 500, Loss: nan\n",
      "#Iteration: 750, Loss: nan\n",
      "#Iteration: 1000, Loss: nan\n",
      "#Iteration: 1250, Loss: nan\n",
      "#Iteration: 1500, Loss: nan\n",
      "#Iteration: 1750, Loss: nan\n",
      "#Iteration: 2000, Loss: nan\n",
      "#Iteration: 0, Loss: 138629.4361119856\n",
      "#Iteration: 250, Loss: 102353.26673904982\n",
      "#Iteration: 500, Loss: 101636.10331852095\n",
      "#Iteration: 750, Loss: 101404.13789496872\n",
      "#Iteration: 1000, Loss: 101320.98590400351\n",
      "#Iteration: 1250, Loss: 101288.68885496512\n",
      "#Iteration: 1500, Loss: 101274.92395029755\n",
      "#Iteration: 1750, Loss: 101268.28164285015\n",
      "#Iteration: 2000, Loss: 101264.54452228424\n",
      "#Iteration: 0, Loss: 138629.4361119856\n",
      "#Iteration: 250, Loss: 85270.14344587855\n",
      "#Iteration: 500, Loss: 84680.58147557781\n",
      "#Iteration: 750, Loss: 84453.71740517061\n",
      "#Iteration: 1000, Loss: 84339.39454353275\n",
      "#Iteration: 1250, Loss: 84276.4682367322\n",
      "#Iteration: 1500, Loss: 84239.66850217457\n",
      "#Iteration: 1750, Loss: 84216.83014620678\n",
      "#Iteration: 2000, Loss: 84201.72449815045\n",
      "#Iteration: 0, Loss: 138629.4361119856\n",
      "#Iteration: 250, Loss: 83473.6836691053\n",
      "#Iteration: 500, Loss: 82716.92173587243\n",
      "#Iteration: 750, Loss: 82405.1012823557\n",
      "#Iteration: 1000, Loss: 82226.58825372596\n",
      "#Iteration: 1250, Loss: 82111.00717911968\n",
      "#Iteration: 1500, Loss: 82031.55207311433\n",
      "#Iteration: 1750, Loss: 81975.03634304332\n",
      "#Iteration: 2000, Loss: 81933.9472162852\n",
      "#Iteration: 0, Loss: 138629.4361119856\n",
      "#Iteration: 250, Loss: 171720.46580730376\n",
      "#Iteration: 500, Loss: 151475.8473198875\n",
      "#Iteration: 750, Loss: 166418.48950753492\n",
      "#Iteration: 1000, Loss: 148882.97669116463\n",
      "#Iteration: 1250, Loss: 164120.96671190913\n",
      "#Iteration: 1500, Loss: 147247.63610354986\n",
      "#Iteration: 1750, Loss: 162585.12284179637\n",
      "#Iteration: 2000, Loss: 146088.06154962297\n",
      "#Iteration: 0, Loss: 138629.4361119856\n",
      "#Iteration: 250, Loss: nan\n",
      "#Iteration: 500, Loss: nan\n",
      "#Iteration: 750, Loss: nan\n",
      "#Iteration: 1000, Loss: nan\n",
      "#Iteration: 1250, Loss: nan\n",
      "#Iteration: 1500, Loss: nan\n",
      "#Iteration: 1750, Loss: nan\n",
      "#Iteration: 2000, Loss: nan\n",
      "#Iteration: 0, Loss: 138629.4361119856\n",
      "#Iteration: 250, Loss: nan\n",
      "#Iteration: 500, Loss: nan\n",
      "#Iteration: 750, Loss: nan\n",
      "#Iteration: 1000, Loss: nan\n",
      "#Iteration: 1250, Loss: nan\n",
      "#Iteration: 1500, Loss: nan\n",
      "#Iteration: 1750, Loss: nan\n",
      "#Iteration: 2000, Loss: nan\n"
     ]
    }
   ],
   "source": [
    "degrees = range(1,7)\n",
    "lambdas = np.logspace(-6, 0, 7)\n",
    "best_degree, best_lambda, accuracy_score, accuracy_scores_grid = degree_lambda_grid_search(y_trainRaw, tX_trainRaw, [22], 0.8, 6, degrees, lambdas, gamma = 0.0000022, max_iters = 2000, seed = 10)"
   ]
  },
  {
   "cell_type": "code",
   "execution_count": 24,
   "metadata": {},
   "outputs": [
    {
     "data": {
      "text/plain": [
       "3"
      ]
     },
     "execution_count": 24,
     "metadata": {},
     "output_type": "execute_result"
    }
   ],
   "source": [
    "best_degree"
   ]
  },
  {
   "cell_type": "code",
   "execution_count": 25,
   "metadata": {},
   "outputs": [
    {
     "data": {
      "text/plain": [
       "1e-06"
      ]
     },
     "execution_count": 25,
     "metadata": {},
     "output_type": "execute_result"
    }
   ],
   "source": [
    "best_lambda"
   ]
  },
  {
   "cell_type": "code",
   "execution_count": 26,
   "metadata": {},
   "outputs": [
    {
     "data": {
      "text/plain": [
       "0.81554"
      ]
     },
     "execution_count": 26,
     "metadata": {},
     "output_type": "execute_result"
    }
   ],
   "source": [
    "accuracy_score"
   ]
  },
  {
   "cell_type": "code",
   "execution_count": 27,
   "metadata": {},
   "outputs": [
    {
     "data": {
      "text/plain": [
       "array([[0.75084, 0.75084, 0.75084, 0.75084, 0.75084, 0.75086, 0.75082],\n",
       "       [0.81132, 0.81132, 0.81132, 0.81132, 0.81132, 0.81132, 0.81134],\n",
       "       [0.81554, 0.81554, 0.81554, 0.81554, 0.81554, 0.81554, 0.81554],\n",
       "       [0.74876, 0.74876, 0.74876, 0.74876, 0.74876, 0.74874, 0.74874],\n",
       "       [0.78622, 0.78622, 0.78622, 0.78622, 0.78622, 0.78622, 0.78618],\n",
       "       [0.77222, 0.7806 , 0.74038, 0.78122, 0.75414, 0.72944, 0.77386]])"
      ]
     },
     "execution_count": 27,
     "metadata": {},
     "output_type": "execute_result"
    }
   ],
   "source": [
    " accuracy_scores_grid"
   ]
  },
  {
   "cell_type": "code",
   "execution_count": 7,
   "metadata": {},
   "outputs": [
    {
     "name": "stdout",
     "output_type": "stream",
     "text": [
      "#Iteration: 0, Loss: 110903.5488895897\n",
      "#Iteration: 250, Loss: 82072.0965938824\n",
      "#Iteration: 500, Loss: 81423.93937101499\n",
      "#Iteration: 750, Loss: 81170.25318728908\n",
      "#Iteration: 1000, Loss: 81062.4100890658\n",
      "#Iteration: 0, Loss: 110903.5488895897\n",
      "#Iteration: 250, Loss: 81773.72122745786\n",
      "#Iteration: 500, Loss: 81116.78211689508\n",
      "#Iteration: 750, Loss: 80858.08403715804\n",
      "#Iteration: 1000, Loss: 80746.96695708556\n",
      "#Iteration: 0, Loss: 110903.54888958971\n",
      "#Iteration: 250, Loss: 82017.11558065457\n",
      "#Iteration: 500, Loss: 81359.9666200052\n",
      "#Iteration: 750, Loss: 81104.1195961408\n",
      "#Iteration: 1000, Loss: 80995.69756993819\n",
      "#Iteration: 0, Loss: 110903.54888958971\n",
      "#Iteration: 250, Loss: 82005.00918144309\n",
      "#Iteration: 500, Loss: 81368.16029949511\n",
      "#Iteration: 750, Loss: 81119.06937443698\n",
      "#Iteration: 1000, Loss: 81013.00359097448\n",
      "#Iteration: 0, Loss: 110903.54888958971\n",
      "#Iteration: 250, Loss: 81835.46968957846\n",
      "#Iteration: 500, Loss: 81176.33029075261\n",
      "#Iteration: 750, Loss: 80917.01925124082\n",
      "#Iteration: 1000, Loss: 80806.02591841108\n",
      "#Iteration: 0, Loss: 110903.5488895897\n",
      "#Iteration: 250, Loss: 68310.33174301017\n",
      "#Iteration: 500, Loss: 67739.96861408248\n",
      "#Iteration: 750, Loss: 67521.61561118641\n",
      "#Iteration: 1000, Loss: 67404.64214253674\n",
      "#Iteration: 0, Loss: 110903.5488895897\n",
      "#Iteration: 250, Loss: 68012.8346565631\n",
      "#Iteration: 500, Loss: 67451.05291106514\n",
      "#Iteration: 750, Loss: 67240.16229716514\n",
      "#Iteration: 1000, Loss: 67127.01388339752\n",
      "#Iteration: 0, Loss: 110903.54888958971\n",
      "#Iteration: 250, Loss: 68212.4437879899\n",
      "#Iteration: 500, Loss: 67648.66816396671\n",
      "#Iteration: 750, Loss: 67435.65308870866\n",
      "#Iteration: 1000, Loss: 67321.99995468935\n",
      "#Iteration: 0, Loss: 110903.54888958971\n",
      "#Iteration: 250, Loss: 68352.12059601086\n",
      "#Iteration: 500, Loss: 67790.75615968592\n",
      "#Iteration: 750, Loss: 67577.37682793576\n",
      "#Iteration: 1000, Loss: 67463.36992154278\n",
      "#Iteration: 0, Loss: 110903.54888958971\n",
      "#Iteration: 250, Loss: 68093.20160538593\n",
      "#Iteration: 500, Loss: 67524.30596862652\n",
      "#Iteration: 750, Loss: 67307.79841270496\n",
      "#Iteration: 1000, Loss: 67191.68149799347\n",
      "#Iteration: 0, Loss: 110903.5488895897\n",
      "#Iteration: 250, Loss: 66871.68564792602\n",
      "#Iteration: 500, Loss: 66144.86263954843\n",
      "#Iteration: 750, Loss: 65853.95524370397\n",
      "#Iteration: 1000, Loss: 65686.90003740712\n",
      "#Iteration: 0, Loss: 110903.5488895897\n",
      "#Iteration: 250, Loss: 66652.61692403124\n",
      "#Iteration: 500, Loss: 65935.08093589173\n",
      "#Iteration: 750, Loss: 65649.54878694858\n",
      "#Iteration: 1000, Loss: 65485.143082946044\n",
      "#Iteration: 0, Loss: 110903.54888958971\n",
      "#Iteration: 250, Loss: 66838.89040410494\n",
      "#Iteration: 500, Loss: 66125.28297166213\n",
      "#Iteration: 750, Loss: 65841.59713964594\n",
      "#Iteration: 1000, Loss: 65678.42059343189\n",
      "#Iteration: 0, Loss: 110903.54888958971\n",
      "#Iteration: 250, Loss: 66976.89322055849\n",
      "#Iteration: 500, Loss: 66260.02539450953\n",
      "#Iteration: 750, Loss: 65973.15258934775\n",
      "#Iteration: 1000, Loss: 65808.4331591594\n",
      "#Iteration: 0, Loss: 110903.54888958971\n",
      "#Iteration: 250, Loss: 66699.06453816906\n",
      "#Iteration: 500, Loss: 65973.84198199895\n",
      "#Iteration: 750, Loss: 65683.4932371957\n",
      "#Iteration: 1000, Loss: 65516.04475104478\n",
      "#Iteration: 0, Loss: 110903.5488895897\n",
      "#Iteration: 250, Loss: 113875.52339292667\n",
      "#Iteration: 500, Loss: 103560.86965342512\n",
      "#Iteration: 750, Loss: 110283.5405374265\n",
      "#Iteration: 1000, Loss: 101850.5792341142\n",
      "#Iteration: 0, Loss: 110903.5488895897\n",
      "#Iteration: 250, Loss: 111976.57912281441\n",
      "#Iteration: 500, Loss: 102543.507270465\n",
      "#Iteration: 750, Loss: 108704.91505257385\n",
      "#Iteration: 1000, Loss: 100908.72415844149\n",
      "#Iteration: 0, Loss: 110903.54888958971\n",
      "#Iteration: 250, Loss: 114486.72880368978\n",
      "#Iteration: 500, Loss: 103585.262506168\n",
      "#Iteration: 750, Loss: 110987.65412804917\n",
      "#Iteration: 1000, Loss: 101951.32318181609\n",
      "#Iteration: 0, Loss: 110903.54888958971\n",
      "#Iteration: 250, Loss: 114268.58179434166\n",
      "#Iteration: 500, Loss: 103548.9895687699\n",
      "#Iteration: 750, Loss: 110903.92494663358\n",
      "#Iteration: 1000, Loss: 101890.15738947417\n",
      "#Iteration: 0, Loss: 110903.54888958971\n",
      "#Iteration: 250, Loss: 113080.53785466358\n",
      "#Iteration: 500, Loss: 102864.20053000234\n",
      "#Iteration: 750, Loss: 109658.98138121782\n",
      "#Iteration: 1000, Loss: 101210.24113535286\n",
      "#Iteration: 0, Loss: 110903.5488895897\n",
      "#Iteration: 250, Loss: 72492.66726775112\n",
      "#Iteration: 500, Loss: 71579.2933602619\n",
      "#Iteration: 750, Loss: 69392.90030741565\n",
      "#Iteration: 1000, Loss: 69379.50381797942\n",
      "#Iteration: 0, Loss: 110903.5488895897\n",
      "#Iteration: 250, Loss: 72126.50089391437\n",
      "#Iteration: 500, Loss: 71073.37540010431\n",
      "#Iteration: 750, Loss: 69624.15414546084\n",
      "#Iteration: 1000, Loss: 69881.9653357899\n",
      "#Iteration: 0, Loss: 110903.54888958971\n",
      "#Iteration: 250, Loss: 77489.3672455198\n",
      "#Iteration: 500, Loss: 70111.62845186377\n",
      "#Iteration: 750, Loss: 69254.40603790183\n",
      "#Iteration: 1000, Loss: 69485.1057499723\n",
      "#Iteration: 0, Loss: 110903.54888958971\n",
      "#Iteration: 250, Loss: 73497.26351588033\n",
      "#Iteration: 500, Loss: 70281.45842401979\n",
      "#Iteration: 750, Loss: 69484.56021940579\n",
      "#Iteration: 1000, Loss: 69833.56214834793\n",
      "#Iteration: 0, Loss: 110903.54888958971\n",
      "#Iteration: 250, Loss: 73166.31892869613\n",
      "#Iteration: 500, Loss: 71125.56333156802\n",
      "#Iteration: 750, Loss: 69553.23498092545\n",
      "#Iteration: 1000, Loss: 72112.77417463025\n",
      "#Iteration: 0, Loss: 110903.5488895897\n"
     ]
    },
    {
     "name": "stderr",
     "output_type": "stream",
     "text": [
      "D:\\EPFL\\Machine-Learning\\2019-2020\\ML_2019_EPFL\\projects\\project1\\scripts\\implementations_utils.py:42: RuntimeWarning: divide by zero encountered in log\n",
      "  loss = y.T.dot(np.log(pred)) + (1 - y).T.dot(np.log(1 - pred))\n"
     ]
    },
    {
     "name": "stdout",
     "output_type": "stream",
     "text": [
      "#Iteration: 250, Loss: nan\n",
      "#Iteration: 500, Loss: 118070.16320630249\n",
      "#Iteration: 750, Loss: nan\n",
      "#Iteration: 1000, Loss: 119354.46814348223\n",
      "#Iteration: 0, Loss: 110903.5488895897\n",
      "#Iteration: 250, Loss: 127443.86923689504\n",
      "#Iteration: 500, Loss: nan\n",
      "#Iteration: 750, Loss: 122881.9742865664\n",
      "#Iteration: 1000, Loss: nan\n",
      "#Iteration: 0, Loss: 110903.54888958971\n",
      "#Iteration: 250, Loss: nan\n",
      "#Iteration: 500, Loss: 120125.28291070535\n",
      "#Iteration: 750, Loss: nan\n",
      "#Iteration: 1000, Loss: 120625.12568843676\n",
      "#Iteration: 0, Loss: 110903.54888958971\n",
      "#Iteration: 250, Loss: nan\n",
      "#Iteration: 500, Loss: 119637.15855675704\n",
      "#Iteration: 750, Loss: nan\n",
      "#Iteration: 1000, Loss: 118725.51372729626\n",
      "#Iteration: 0, Loss: 110903.54888958971\n",
      "#Iteration: 250, Loss: nan\n",
      "#Iteration: 500, Loss: 118018.03535434524\n",
      "#Iteration: 750, Loss: nan\n",
      "#Iteration: 1000, Loss: 116992.27784669405\n"
     ]
    }
   ],
   "source": [
    "degrees = range(1,7)\n",
    "max_iters = 1000\n",
    "loss_train_plot = []\n",
    "loss_val_plot = []\n",
    "acc_train_plot = []\n",
    "acc_val_plot = []\n",
    "gamma = 0.0000022\n",
    "lambda_ = 0.001\n",
    "for degree in degrees:\n",
    "# Preprocessing of Training \n",
    "\n",
    "    cat_cols = [22]\n",
    "    full_x_train_num, full_x_train_cat = split_numerical_categorical(tX_trainRaw,cat_cols)\n",
    "\n",
    "    # Treat numerical values\n",
    "    full_x_train_num_nan = replace_undef_val_with_nan(full_x_train_num)\n",
    "    full_x_train_num_nan_std, train_mean, train_std = nan_standardize_fit(full_x_train_num_nan)\n",
    "\n",
    "    full_x_train_num_valid_std = replace_nan_val_with_median(full_x_train_num_nan_std)\n",
    "    full_x_train_num_valid_std = replace_iqr_outliers(full_x_train_num_valid_std)\n",
    "\n",
    "    # Treat categorical values\n",
    "    full_x_train_ohe_cat = one_hot_encode(full_x_train_cat)\n",
    "    x_train_poly = build_poly(full_x_train_num_valid_std,degree)\n",
    "    full_x_train = np.hstack((x_train_poly,full_x_train_ohe_cat))\n",
    "\n",
    "    # Treat labels\n",
    "    full_y_train = y_trainRaw\n",
    "    full_y_train = relabel_y_non_negative(full_y_train).reshape(-1,1)\n",
    "    full_y_train = full_y_train.reshape(-1,1)\n",
    "    \n",
    "    # Split in train and validation set\n",
    "    x_train, y_train, x_val, y_val = split_data(full_x_train,full_y_train,0.8)\n",
    "    \n",
    "    if degree>4:\n",
    "        gamma = 0.00000022\n",
    "    loss_train, loss_val, accuracy_train, accuracy_val = cross_validation_log(x_train, y_train, lambda_, gamma, max_iters)\n",
    "    loss_train_plot.append(loss_train)\n",
    "    loss_val_plot.append(loss_val)    \n",
    "    acc_train_plot.append(accuracy_train)    \n",
    "    acc_val_plot.append(accuracy_val)    \n",
    "    "
   ]
  },
  {
   "cell_type": "code",
   "execution_count": 14,
   "metadata": {},
   "outputs": [],
   "source": [
    "def plot_figures(x_dim, y_dim1, y_dim2, title, legend, y_label,x_label):\n",
    "    fig = plt.figure(1, figsize=(18,12))\n",
    "    plt.title(title, fontsize=18)\n",
    "    plt.plot(x_dim, y_dim1)\n",
    "    plt.plot(x_dim, y_dim2, 'r')\n",
    "    plt.grid(True)\n",
    "    plt.legend(legend)\n",
    "    plt.xlabel(x_label, fontsize=18)\n",
    "    plt.ylabel(y_label, fontsize=18)\n",
    "    plt.show()\n",
    "    return fig"
   ]
  },
  {
   "cell_type": "code",
   "execution_count": 15,
   "metadata": {},
   "outputs": [
    {
     "data": {
      "image/png": "[encoded data removed]",
      "text/plain": [
       "<Figure size 1296x864 with 1 Axes>"
      ]
     },
     "metadata": {
      "needs_background": "light"
     },
     "output_type": "display_data"
    },
    {
     "name": "stderr",
     "output_type": "stream",
     "text": [
      "The PostScript backend does not support transparency; partially transparent artists will be rendered opaque.\n",
      "The PostScript backend does not support transparency; partially transparent artists will be rendered opaque.\n"
     ]
    }
   ],
   "source": [
    "fig = plot_figures(degrees,loss_train_plot, loss_val_plot, \"Loss Train vs Loss Val \", ['Val', 'Train'], \"Loss Train-Val\", \"Degree\")\n",
    "fig.savefig('../results/Loss_trainvsval.eps', format= 'eps')\n"
   ]
  },
  {
   "cell_type": "code",
   "execution_count": 16,
   "metadata": {},
   "outputs": [
    {
     "data": {
      "image/png": "[encoded data removed]",
      "text/plain": [
       "<Figure size 1296x864 with 1 Axes>"
      ]
     },
     "metadata": {
      "needs_background": "light"
     },
     "output_type": "display_data"
    },
    {
     "name": "stderr",
     "output_type": "stream",
     "text": [
      "The PostScript backend does not support transparency; partially transparent artists will be rendered opaque.\n",
      "The PostScript backend does not support transparency; partially transparent artists will be rendered opaque.\n"
     ]
    }
   ],
   "source": [
    "fig = plot_figures(degrees,acc_train_plot, acc_val_plot, \"Accuracy Train vs Accuracy Validation \", ['Acc Train', 'Acc Test'],\"Accuracy Train-Val\", \"Degree\")\n",
    "fig.savefig('../results/Acc_trainvsval.eps', format= 'eps')"
   ]
  },
  {
   "cell_type": "code",
   "execution_count": 42,
   "metadata": {},
   "outputs": [
    {
     "data": {
      "text/plain": [
       "[0.67671625]"
      ]
     },
     "execution_count": 42,
     "metadata": {},
     "output_type": "execute_result"
    }
   ],
   "source": [
    "acc_train_plot"
   ]
  },
  {
   "cell_type": "code",
   "execution_count": 43,
   "metadata": {},
   "outputs": [
    {
     "data": {
      "text/plain": [
       "[0.6766650000000001]"
      ]
     },
     "execution_count": 43,
     "metadata": {},
     "output_type": "execute_result"
    }
   ],
   "source": [
    "acc_val_plot"
   ]
  },
  {
   "cell_type": "code",
   "execution_count": 24,
   "metadata": {},
   "outputs": [
    {
     "data": {
      "text/plain": [
       "[74.5435, 80.744, 81.1535, 79.2685, 79.674, 77.364]"
      ]
     },
     "execution_count": 24,
     "metadata": {},
     "output_type": "execute_result"
    }
   ],
   "source": [
    "acc_val_plot_t = [i * 100 for i in acc_val_plot]\n",
    "acc_val_plot_t"
   ]
  },
  {
   "cell_type": "code",
   "execution_count": 26,
   "metadata": {},
   "outputs": [
    {
     "data": {
      "text/plain": [
       "[0.17994000000000002,\n",
       " 0.23041874999999998,\n",
       " 0.23483749999999998,\n",
       " 0.25893749999999993,\n",
       " 0.22010749999999998,\n",
       " 0.24214249999999998]"
      ]
     },
     "execution_count": 26,
     "metadata": {},
     "output_type": "execute_result"
    }
   ],
   "source": [
    "acc_train_plot"
   ]
  },
  {
   "cell_type": "code",
   "execution_count": null,
   "metadata": {},
   "outputs": [],
   "source": [
    "accuracy_val"
   ]
  },
  {
   "cell_type": "markdown",
   "metadata": {},
   "source": [
    "## Generate predictions and save ouput in csv format for submission:"
   ]
  },
  {
   "cell_type": "code",
   "execution_count": 41,
   "metadata": {},
   "outputs": [
    {
     "data": {
      "text/plain": [
       "568238"
      ]
     },
     "execution_count": 41,
     "metadata": {},
     "output_type": "execute_result"
    }
   ],
   "source": [
    "y_pred = predict_labels(weights, x_test)\n",
    "np.unique(y_pred)\n",
    "y_pred.size"
   ]
  },
  {
   "cell_type": "code",
   "execution_count": 42,
   "metadata": {},
   "outputs": [],
   "source": [
    "OUTPUT_PATH = '../results/new_CV_reglog.csv' \n",
    "create_csv_submission(ids_test, y_pred, OUTPUT_PATH)"
   ]
  },
  {
   "cell_type": "code",
   "execution_count": 43,
   "metadata": {},
   "outputs": [],
   "source": [
    "# Script to delete empty rows\n",
    "with open('../results/new_CV_reglog.csv') as input, open('../results/new_CV_reglog_cleaned.csv', 'w', newline='') as output:\n",
    "    writer = csv.writer(output)\n",
    "    for row in csv.reader(input):\n",
    "        if any(field.strip() for field in row):\n",
    "            writer.writerow(row)"
   ]
  },
  {
   "cell_type": "code",
   "execution_count": 18,
   "metadata": {},
   "outputs": [],
   "source": [
    "# Preprocessing of Training \n",
    "\n",
    "cat_cols = [22]\n",
    "full_x_train_num, full_x_train_cat = split_numerical_categorical(tX_trainRaw,cat_cols)\n",
    "\n",
    "# Treat numerical values\n",
    "full_x_train_num_nan = replace_undef_val_with_nan(full_x_train_num)\n",
    "full_x_train_num_nan_std, train_mean, train_std = nan_standardize_fit(full_x_train_num_nan)\n",
    "\n",
    "full_x_train_num_valid_std = replace_nan_val_with_median(full_x_train_num_nan_std)\n",
    "full_x_train_num_valid_std = replace_iqr_outliers(full_x_train_num_valid_std)\n",
    "\n",
    "# Treat categorical values\n",
    "full_x_train_ohe_cat = one_hot_encode(full_x_train_cat)\n",
    "x_train_poly = build_poly(full_x_train_num_valid_std,3)\n",
    "full_x_train = np.hstack((x_train_poly,full_x_train_ohe_cat))\n",
    "\n",
    "# Treat labels\n",
    "full_y_train = y_trainRaw\n",
    "full_y_train = relabel_y_non_negative(full_y_train).reshape(-1,1)\n",
    "full_y_train = full_y_train.reshape(-1,1)"
   ]
  },
  {
   "cell_type": "code",
   "execution_count": 19,
   "metadata": {},
   "outputs": [],
   "source": [
    "# Split in train and validation set\n",
    "x_train, y_train, x_val, y_val = split_data(tX_trainRaw,full_y_train,0.8)\n"
   ]
  },
  {
   "cell_type": "code",
   "execution_count": 20,
   "metadata": {},
   "outputs": [],
   "source": [
    "# Preprocessing of Test\n",
    "\n",
    "cat_cols = [22]\n",
    "x_test_num, x_test_cat = split_numerical_categorical(tX_testRaw,cat_cols)\n",
    "\n",
    "# Treat numerical values\n",
    "x_test_num_nan = replace_undef_val_with_nan(x_test_num)\n",
    "x_test_num_nan_std = nan_standardize_transform(x_test_num_nan,train_mean,train_std)\n",
    "x_test_num_valid_std = replace_nan_val_with_median(x_test_num_nan_std)\n",
    "x_test_num_valid_std = replace_iqr_outliers(x_test_num_valid_std)\n",
    "x_test_ohe_cat = one_hot_encode(x_test_cat)\n",
    "x_test_poly = build_poly(x_test_num_valid_std,3)\n",
    "x_test = np.hstack((x_test_poly,x_test_ohe_cat))\n"
   ]
  },
  {
   "cell_type": "code",
   "execution_count": 26,
   "metadata": {},
   "outputs": [
    {
     "name": "stdout",
     "output_type": "stream",
     "text": [
      "#Iteration: 0, Loss: 138629.4361119856\n",
      "#Iteration: 250, Loss: 126297.47056455349\n",
      "#Iteration: 500, Loss: 125279.38550868873\n",
      "#Iteration: 750, Loss: 124901.25217796533\n",
      "#Iteration: 1000, Loss: 124591.73169925899\n"
     ]
    }
   ],
   "source": [
    "max_iters = 1000\n",
    "gamma = 0.000000000000022\n",
    "lambda_ = 0.001\n",
    "w_initial = np.zeros((x_train.shape[1], 1))\n",
    "weights,_ = reg_logistic_regression(y_train, x_train, w_initial, max_iters, gamma, lambda_)"
   ]
  },
  {
   "cell_type": "code",
   "execution_count": 27,
   "metadata": {},
   "outputs": [
    {
     "data": {
      "text/plain": [
       "0.63992"
      ]
     },
     "execution_count": 27,
     "metadata": {},
     "output_type": "execute_result"
    }
   ],
   "source": [
    "y_val = relabel_y_negative(y_val)\n",
    "y_pred = predict_labels(weights, x_val)\n",
    "accuracy_score(y_val,y_pred)"
   ]
  },
  {
   "cell_type": "code",
   "execution_count": 28,
   "metadata": {},
   "outputs": [
    {
     "data": {
      "text/plain": [
       "<matplotlib.image.AxesImage at 0x2230bd3b588>"
      ]
     },
     "execution_count": 28,
     "metadata": {},
     "output_type": "execute_result"
    },
    {
     "data": {
      "image/png": "[encoded data removed]",
      "text/plain": [
       "<Figure size 432x288 with 1 Axes>"
      ]
     },
     "metadata": {
      "needs_background": "light"
     },
     "output_type": "display_data"
    }
   ],
   "source": [
    "import matplotlib.image as img \n",
    "  \n",
    "# reading png image file \n",
    "im = img.imread('../results/Acc_trainvsval.png') \n",
    "  \n",
    "# show image \n",
    "plt.imshow(im) "
   ]
  },
  {
   "cell_type": "code",
   "execution_count": null,
   "metadata": {},
   "outputs": [],
   "source": []
  }
 ],
 "metadata": {
  "anaconda-cloud": {},
  "kernelspec": {
   "display_name": "Python 3",
   "language": "python",
   "name": "python3"
  },
  "language_info": {
   "codemirror_mode": {
    "name": "ipython",
    "version": 3
   },
   "file_extension": ".py",
   "mimetype": "text/x-python",
   "name": "python",
   "nbconvert_exporter": "python",
   "pygments_lexer": "ipython3",
   "version": "3.7.4"
  }
 },
 "nbformat": 4,
 "nbformat_minor": 4
}
