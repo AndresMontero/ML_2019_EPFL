{
 "cells": [
  {
   "cell_type": "code",
   "execution_count": 1,
   "metadata": {},
   "outputs": [],
   "source": [
    "# Useful starting lines\n",
    "%matplotlib inline\n",
    "import numpy as np\n",
    "import matplotlib.pyplot as plt\n",
    "%load_ext autoreload\n",
    "%autoreload 2"
   ]
  },
  {
   "cell_type": "markdown",
   "metadata": {},
   "source": [
    "## Load the data into feature matrix, class labels, and event ids:"
   ]
  },
  {
   "cell_type": "code",
   "execution_count": 2,
   "metadata": {},
   "outputs": [],
   "source": [
    "from proj1_helpers import *\n",
    "DATA_TRAIN_PATH = '../data/train.csv' \n",
    "y_trainRaw, tX_trainRaw, ids_train = load_csv_data(DATA_TRAIN_PATH)\n",
    "DATA_TEST_PATH = '../data/test.csv' \n",
    "y_testRaw, tX_testRaw, ids_test = load_csv_data(DATA_TEST_PATH)"
   ]
  },
  {
   "cell_type": "code",
   "execution_count": 3,
   "metadata": {},
   "outputs": [],
   "source": [
    "def split_numerical_categorical(x,cat_cols):\n",
    "    x_num = np.delete(x,cat_cols,axis = 1)\n",
    "    x_cat = x[:,cat_cols]\n",
    "    return x_num, x_cat\n",
    "\n",
    "def replace_undef_val_with_nan(x):\n",
    "    return np.where(x == -999.0, np.nan, x)\n",
    "\n",
    "def nan_standardize_fit(x):                                \n",
    "    mean = np.nanmean(x, axis = 0)\n",
    "    std = np.nanstd(x, axis = 0)\n",
    "    return (x - mean)/std , mean, std\n",
    "\n",
    "def nan_standardize_with_median_fit(x):                               \n",
    "    median = np.nanmedian(x, axis = 0)\n",
    "    iqr,_,_ = calculate_iqr(x)  \n",
    "    return 2*(x - median)/iqr , median, iqr\n",
    "\n",
    "def nan_standardize_with_median_transform(x,median,iqr):                             \n",
    "    return 2*(x - median)/iqr \n",
    "    \n",
    "def nan_standardize_transform(x,mean,std):\n",
    "    return (x - mean)/std\n",
    "\n",
    "def relabel_y_non_negative(y):\n",
    "    new_y = y.copy()\n",
    "    new_y[new_y == -1] = 0\n",
    "    return new_y\n",
    " \n",
    "def relabel_y_negative(y):\n",
    "    new_y = y.copy()\n",
    "    new_y[new_y == 0] = -1\n",
    "    return new_y\n",
    "        \n",
    "def replace_nan_val_with_mean(x):\n",
    "    means = np.nanmean(x,axis = 0)\n",
    "    n_cols = x.shape[1]\n",
    "    new_x = x.copy()\n",
    "    for i in range(n_cols):\n",
    "        new_x[:,i] = np.where(np.isnan(new_x[:,i]), means[i], new_x[:,i])\n",
    "    return new_x\n",
    "\n",
    "def replace_nan_val_with_zero(x):\n",
    "    n_cols = x.shape[1]\n",
    "    new_x = x.copy()\n",
    "    for i in range(n_cols):\n",
    "        new_x[:,i] = np.where(np.isnan(new_x[:,i]), 0, new_x[:,i])\n",
    "    return new_x\n",
    "\n",
    "def calculate_iqr(x):\n",
    "    q1 = np.quantile(x,0.25,axis = 0)\n",
    "    q3 = np.quantile(x,0.75,axis = 0)\n",
    "    return q3 - q1, q1, q3\n",
    "\n",
    "def replace_iqr_outliers(x):\n",
    "    iqr, q1, q3= calculate_iqr(x)\n",
    "    upper_bound = q3 + iqr * 1.5\n",
    "    lower_bound = q1 - iqr * 1.5\n",
    "    x_trunc_up = np.where(x > upper_bound,upper_bound,x)\n",
    "    x_trunc_low = np.where(x_trunc_up < lower_bound,lower_bound,x_trunc_up)\n",
    "    return x_trunc_low\n",
    "\n",
    "def replace_nan_val_with_median(x):\n",
    "    medians = np.nanmedian(x,axis = 0)\n",
    "    n_cols = x.shape[1]\n",
    "    new_x = x.copy()\n",
    "    for i in range(n_cols):\n",
    "        new_x[:,i] = np.where(np.isnan(new_x[:,i]), medians[i], new_x[:,i])\n",
    "    return new_x\n",
    "\n",
    "def one_hot_encode(x):\n",
    "    unique_vals = set(x.ravel())\n",
    "    # print(unique_vals)\n",
    "    n_cols = len(unique_vals) - 1 \n",
    "    ohe_x = np.zeros((x.shape[0],n_cols))\n",
    "    for (row,col) in enumerate(x):\n",
    "        if col < n_cols:\n",
    "            ohe_x[int(row),int(col)] = 1\n",
    "    return ohe_x\n",
    "\n",
    "def add_bias(x):\n",
    "    return np.hstack((np.ones(x.shape[0]).reshape(-1,1),x))\n",
    "   \n",
    "def split_data(x, y, ratio, seed=1):\n",
    "    \"\"\"\n",
    "    split the dataset based on the split ratio. If ratio is 0.8 \n",
    "    you will have 80% of your data set dedicated to training \n",
    "    and the rest dedicated to testing\n",
    "    \"\"\"\n",
    "    # set seed\n",
    "    np.random.seed(seed)\n",
    "    # ***************************************************\n",
    "    # INSERT YOUR CODE HERE\n",
    "    # split the data based on the given ratio: TODO\n",
    "    # ***************************************************\n",
    "    n_train = round(y.shape[0]*ratio)\n",
    "    idx = np.random.permutation(range(y.shape[0]))\n",
    "    x_shuffled = x[idx]\n",
    "    y_shuffled = y[idx]\n",
    "    return x_shuffled[:n_train],y_shuffled[:n_train],x_shuffled[n_train:],y_shuffled[n_train:]\n",
    "    \n",
    "    \n",
    "def multiHistPlots(x,figsize = (15,15)):\n",
    "    n = x.shape[1]\n",
    "    n_rows = np.ceil(np.sqrt(n)).astype(np.int64)\n",
    "    n_cols = np.floor(np.sqrt(n)).astype(np.int64)\n",
    "\n",
    "    if n_rows * n_cols < n:\n",
    "        n_cols = np.ceil(np.sqrt(n)).astype(np.int64)\n",
    "\n",
    "    fig, axes = plt.subplots(nrows = n_rows, ncols = n_cols, figsize = figsize)\n",
    "\n",
    "    c = 0\n",
    "    for row in range(n_rows):\n",
    "        for col in range(n_cols):\n",
    "            if n > 1:\n",
    "                ax = axes[row][col]\n",
    "            else:\n",
    "                ax = axes\n",
    "            if c < x.shape[1]:\n",
    "                ax.hist(x[:,c], label = 'feature_{:d}'.format(c),density = True)\n",
    "                ax.legend(loc = 'upper left')\n",
    "                ax.set_ylabel('Probability')\n",
    "                ax.set_xlabel('Value')\n",
    "            c += 1\n",
    "    plt.show()    "
   ]
  },
  {
   "cell_type": "markdown",
   "metadata": {},
   "source": [
    "## Define functions needed for the log and reg_log"
   ]
  },
  {
   "cell_type": "markdown",
   "metadata": {},
   "source": [
    "### Logistic Regression"
   ]
  },
  {
   "cell_type": "code",
   "execution_count": 46,
   "metadata": {},
   "outputs": [],
   "source": [
    "def sigmoid(t):\n",
    "    \"\"\"Apply sigmoid function on t\n",
    "    \n",
    "    Args: \n",
    "        t=>(numpy.array): Values to apply sigmoid function\n",
    "    \n",
    "    Returns:\n",
    "        => numpy.array: Calculated values of sigmoid\n",
    "    \"\"\"\n",
    "    \n",
    "    return 1.0 / (1.0 + np.exp(-t))\n",
    "\n",
    "\n",
    "def calculate_loss_log(y, tx, w):\n",
    "    \"\"\"Compute the cost of log_regression\n",
    "    \n",
    "    Args: \n",
    "        y =>(numpy.array): Target values\n",
    "        tx =>(numpy.array): Transposed features\n",
    "        w => (numpy.array): Weigths \n",
    "          \n",
    "    Returns:\n",
    "        => numpy.array: Calculated loss\n",
    "    \"\"\"\n",
    "    pred = sigmoid(tx.dot(w))\n",
    "    loss = y.T.dot(np.log(pred)) + (1 - y).T.dot(np.log(1 - pred))\n",
    "    return np.squeeze(- loss)\n",
    "\n",
    "    \n",
    "def calculate_gradient_log(y, tx, w,):\n",
    "    \"\"\"Compute the gradient of loss for log_regression\n",
    "    \n",
    "    Args: \n",
    "        y =>(numpy.array): Target values\n",
    "        tx => (numpy.array): Transposed features\n",
    "        w => (numpy.array): Weigths \n",
    "          \n",
    "    Returns:\n",
    "        => numpy.array: Calculated logistic gradient\n",
    "    \"\"\"\n",
    "\n",
    "    pred = sigmoid(tx.dot(w))\n",
    "    grad = tx.T.dot(pred - y)\n",
    "    return grad\n",
    "\n",
    "\n",
    "def learning_by_gradient_descent_log(y, tx, w, gamma):\n",
    "    \"\"\"Compute the gradient descen using logistic regression\n",
    "    \n",
    "    Args: \n",
    "        y =>(numpy.array): Target values\n",
    "        tx => (numpy.array): Transposed features\n",
    "        w => (numpy.array): Weigths \n",
    "        gamma=> (float): the gamma to use.\n",
    "        \n",
    "    Returns:\n",
    "        w =>(numpy.array): Calculated Weights\n",
    "        loss => (numpy.array): Calculated Loss\n",
    "    \"\"\"\n",
    "\n",
    "    loss = calculate_loss_log(y, tx, w) \n",
    "    grad = calculate_gradient_log(y, tx, w)\n",
    "    w -= gamma * grad\n",
    "    return loss, w\n",
    "\n",
    "\n",
    "def learning_by_reg_gradient_descent_log(y, tx, w, gamma, lambda_=0):\n",
    "    \"\"\"Compute the gradient descen using logistic regression\n",
    "    \n",
    "    Args: \n",
    "        y =>(numpy.array): Target values\n",
    "        tx => (numpy.array): Transposed features\n",
    "        w => (numpy.array): Weigths \n",
    "        gamma=> (float): the gamma to use.\n",
    "        \n",
    "    Returns: \n",
    "        w =>(numpy.array): Calculated Weights\n",
    "        loss => (numpy.array): Calculated Loss\n",
    "    \"\"\"\n",
    "\n",
    "    loss = calculate_loss_log(y, tx, w) + lambda_ * np.squeeze(w.T.dot(w))\n",
    "    grad = calculate_gradient_log(y, tx, w) + 2 * lambda_ * w\n",
    "    w -= gamma * grad\n",
    "    return loss, w\n",
    "\n",
    "def logistic_regression(y, tx, w_initial, max_iters, gamma):\n",
    "    \"\"\"Implement logistic regression using gradient descent\n",
    "    \n",
    "    Args: \n",
    "      y =>(numpy.array): Target values\n",
    "      tx => (numpy.array): Transposed features\n",
    "      w_initial => (numpy.array): Initial Weigths \n",
    "      max_iters => (int): number of iterations.\n",
    "      gamma=> (float): the gamma to use.\n",
    "          \n",
    "    Returns: \n",
    "        w =>(numpy.array): Calculated Weights\n",
    "        loss => (numpy.array): Calculated Loss\n",
    "    \"\"\"\n",
    "\n",
    "    assert max_iters > 0, \"max_iters should be a positive number\"\n",
    "    assert y.shape[0] == tx.shape[0], \"y and tx should have the same number of entries (rows)\"\n",
    "    assert tx.shape[1] == w_initial.shape[0], \"initial_w should be the same degree as tx\"\n",
    "    \n",
    "    print_every = 250\n",
    "    w = w_initial\n",
    "    losses =[]\n",
    "    for n_iter in range(max_iters+1):\n",
    "        loss, w = learning_by_gradient_descent_log(y, tx, w, gamma)\n",
    "        if (n_iter % print_every == 0):\n",
    "            # print average loss for the last print_every iterations\n",
    "            print('iteration\\t', str(n_iter), loss)\n",
    "            losses.append(loss)\n",
    "\n",
    "            \n",
    "    loss = learning_by_gradient_descent_log(y, tx, w, gamma)\n",
    "    \n",
    "    return w, loss,losses\n",
    "\n",
    "def reg_logistic_regression(y, tx, w_initial, max_iters, gamma,lambda_):\n",
    "    \"\"\"Implement logistic regression using gradient descent\n",
    "    \n",
    "    Args: \n",
    "        y =>(numpy.array): Target values\n",
    "        tx => (numpy.array): Transposed features\n",
    "        w_initial => (numpy.array): Initial Weigths \n",
    "        max_iters => (int): number of iterations.\n",
    "        gamma=> (float): the gamma to use.\n",
    "          \n",
    "    Returns: \n",
    "        w =>(numpy.array): Calculated Weights\n",
    "        loss => (numpy.array): Calculated Loss\n",
    "    \"\"\"\n",
    "\n",
    "    assert max_iters > 0, \"max_iters should be a positive number\"\n",
    "    assert y.shape[0] == tx.shape[0], \"y and tx should have the same number of entries (rows)\"\n",
    "    assert tx.shape[1] == w_initial.shape[0], \"initial_w should be the same degree as tx\"\n",
    "    \n",
    "    print_every = 250\n",
    "    w = w_initial\n",
    "    losses =[]\n",
    "    for n_iter in range(max_iters+1):\n",
    "        loss, w = learning_by_reg_gradient_descent_log(y, tx, w, gamma,lambda_)\n",
    "        if (n_iter % print_every == 0):\n",
    "            # print average loss for the last print_every iterations\n",
    "            print('iteration\\t', str(n_iter), loss)\n",
    "            losses.append(loss)\n",
    "\n",
    "            \n",
    "    loss = learning_by_reg_gradient_descent_log(y, tx, w, gamma,lambda_)\n",
    "    \n",
    "    return w, loss,losses"
   ]
  },
  {
   "cell_type": "markdown",
   "metadata": {},
   "source": [
    "# Preprocessing"
   ]
  },
  {
   "cell_type": "code",
   "execution_count": 66,
   "metadata": {},
   "outputs": [],
   "source": [
    "cat_cols = [22]\n",
    "full_x_train_num, full_x_train_cat = split_numerical_categorical(tX_trainRaw,cat_cols)\n",
    "# Treat numerical values\n",
    "full_x_train_num_nan = replace_undef_val_with_nan(full_x_train_num)\n",
    "full_x_train_num_nan_std, train_mean, train_std = nan_standardize_fit(full_x_train_num_nan)\n",
    "# full_x_train_num_valid_std = replace_nan_val_with_mean(full_x_train_num_nan_std)\n",
    "full_x_train_num_valid_std = replace_nan_val_with_median(full_x_train_num_nan_std)\n",
    "full_x_train_num_valid_std = replace_iqr_outliers(full_x_train_num_valid_std)\n",
    "# Treat categorical values\n",
    "full_x_train_ohe_cat = one_hot_encode(full_x_train_cat)\n",
    "full_x_train = np.hstack((add_bias(full_x_train_num_valid_std),full_x_train_ohe_cat))\n",
    "# Treat labels\n",
    "full_y_train = y_trainRaw\n",
    "full_y_train = relabel_y_non_negative(full_y_train).reshape(-1,1)\n",
    "full_y_train = full_y_train.reshape(-1,1)"
   ]
  },
  {
   "cell_type": "code",
   "execution_count": 67,
   "metadata": {},
   "outputs": [],
   "source": [
    "x_train, y_train, x_val, y_val = split_data(full_x_train,full_y_train,0.8)\n"
   ]
  },
  {
   "cell_type": "code",
   "execution_count": 69,
   "metadata": {},
   "outputs": [
    {
     "data": {
      "text/plain": [
       "array([0., 1.])"
      ]
     },
     "execution_count": 69,
     "metadata": {},
     "output_type": "execute_result"
    }
   ],
   "source": [
    "np.unique(y_val)"
   ]
  },
  {
   "cell_type": "markdown",
   "metadata": {},
   "source": [
    "# Training and evaluation"
   ]
  },
  {
   "cell_type": "code",
   "execution_count": 65,
   "metadata": {},
   "outputs": [],
   "source": [
    "max_iters = 1000\n",
    "gamma = 0.000001\n",
    "w_initial = np.zeros((full_x_train.shape[1], 1))\n",
    "# weights, loss_tr,losses = logistic_regression(y_train, x_train, w_initial, max_iters, gamma)"
   ]
  },
  {
   "cell_type": "code",
   "execution_count": 40,
   "metadata": {},
   "outputs": [
    {
     "data": {
      "text/plain": [
       "array(101451.05276706)"
      ]
     },
     "execution_count": 40,
     "metadata": {},
     "output_type": "execute_result"
    }
   ],
   "source": [
    "loss_tr"
   ]
  },
  {
   "cell_type": "code",
   "execution_count": null,
   "metadata": {},
   "outputs": [],
   "source": [
    "# y_val = relabel_y_negative(y_val)\n",
    "# y_pred = predict_labels(weights, x_val)\n",
    "# from sklearn.metrics import accuracy_score\n",
    "# accuracy_score(y_val,y_pred)"
   ]
  },
  {
   "cell_type": "code",
   "execution_count": 49,
   "metadata": {},
   "outputs": [],
   "source": [
    "def build_poly(x, degree):\n",
    "    \"\"\"polynomial basis functions for input data x, for j=0 up to j=degree.\"\"\"\n",
    "    # ***************************************************\n",
    "    poly = np.ones((len(x), 1))\n",
    "    for deg in range(1, degree+1):\n",
    "        poly = np.c_[poly, np.power(x, deg)]\n",
    "    return poly"
   ]
  },
  {
   "cell_type": "code",
   "execution_count": 90,
   "metadata": {},
   "outputs": [
    {
     "name": "stdout",
     "output_type": "stream",
     "text": [
      "LAMBDA:  0.0001\n",
      "DEGREEE:  1\n",
      "iteration\t 0 138629.4361119856\n",
      "iteration\t 250 103165.10366993019\n",
      "iteration\t 500 102262.9880878215\n",
      "iteration\t 750 101778.85616060035\n",
      "iteration\t 1000 101498.15116768729\n",
      "DEGREEE:  2\n"
     ]
    },
    {
     "name": "stderr",
     "output_type": "stream",
     "text": [
      "C:\\Users\\AndresMontero\\.conda\\envs\\ML\\lib\\site-packages\\ipykernel_launcher.py:19: RuntimeWarning: invalid value encountered in sqrt\n"
     ]
    },
    {
     "name": "stdout",
     "output_type": "stream",
     "text": [
      "iteration\t 0 138629.4361119856\n",
      "iteration\t 250 86240.83526849738\n",
      "iteration\t 500 85034.5293110204\n",
      "iteration\t 750 84618.38991081335\n",
      "iteration\t 1000 84396.91037245818\n",
      "DEGREEE:  3\n",
      "iteration\t 0 138629.4361119856\n",
      "iteration\t 250 84661.03854650976\n",
      "iteration\t 500 83232.65651117722\n",
      "iteration\t 750 82715.04495158036\n",
      "iteration\t 1000 82433.6149847365\n",
      "DEGREEE:  4\n",
      "iteration\t 0 138629.4361119856\n",
      "iteration\t 250 101352.03818502187\n",
      "iteration\t 500 99332.61313520228\n",
      "iteration\t 750 98291.89340459749\n",
      "iteration\t 1000 97583.66168458774\n",
      "DEGREEE:  5\n",
      "iteration\t 0 138629.4361119856\n"
     ]
    },
    {
     "name": "stderr",
     "output_type": "stream",
     "text": [
      "C:\\Users\\AndresMontero\\.conda\\envs\\ML\\lib\\site-packages\\ipykernel_launcher.py:26: RuntimeWarning: divide by zero encountered in log\n"
     ]
    },
    {
     "name": "stdout",
     "output_type": "stream",
     "text": [
      "iteration\t 250 153543.3812160889\n",
      "iteration\t 500 nan\n",
      "iteration\t 750 152592.16936868188\n",
      "iteration\t 1000 nan\n",
      "LAMBDA:  0.0002782559402207126\n",
      "DEGREEE:  1\n",
      "iteration\t 0 138629.4361119856\n",
      "iteration\t 250 103165.1040817164\n",
      "iteration\t 500 102262.98873909761\n",
      "iteration\t 750 101778.85703253286\n",
      "iteration\t 1000 101498.15222219299\n",
      "DEGREEE:  2\n",
      "iteration\t 0 138629.4361119856\n",
      "iteration\t 250 86240.83620665241\n",
      "iteration\t 500 85034.53060546619\n",
      "iteration\t 750 84618.39141403673\n",
      "iteration\t 1000 84396.91202867417\n",
      "DEGREEE:  3\n",
      "iteration\t 0 138629.4361119856\n",
      "iteration\t 250 84661.03953964521\n",
      "iteration\t 500 83232.6579167577\n",
      "iteration\t 750 82715.04660950822\n",
      "iteration\t 1000 82433.61683089849\n",
      "DEGREEE:  4\n",
      "iteration\t 0 138629.4361119856\n",
      "iteration\t 250 101352.03931008605\n",
      "iteration\t 500 99332.61466336304\n",
      "iteration\t 750 98291.89537899844\n",
      "iteration\t 1000 97583.66406152499\n",
      "DEGREEE:  5\n",
      "iteration\t 0 138629.4361119856\n",
      "iteration\t 250 153543.3825827024\n",
      "iteration\t 500 nan\n",
      "iteration\t 750 152592.17079626315\n",
      "iteration\t 1000 nan\n",
      "LAMBDA:  0.000774263682681127\n",
      "DEGREEE:  1\n",
      "iteration\t 0 138629.4361119856\n",
      "iteration\t 250 103165.10522753585\n",
      "iteration\t 500 102262.9905513115\n",
      "iteration\t 750 101778.85945873588\n",
      "iteration\t 1000 101498.15515641605\n",
      "DEGREEE:  2\n",
      "iteration\t 0 138629.4361119856\n",
      "iteration\t 250 86240.83881712408\n",
      "iteration\t 500 85034.53420733746\n",
      "iteration\t 750 84618.39559684347\n",
      "iteration\t 1000 84396.91663719152\n",
      "DEGREEE:  3\n",
      "iteration\t 0 138629.4361119856\n",
      "iteration\t 250 84661.04230310308\n",
      "iteration\t 500 83232.66182786766\n",
      "iteration\t 750 82715.05122278912\n",
      "iteration\t 1000 82433.6219679514\n",
      "DEGREEE:  4\n",
      "iteration\t 0 138629.4361119856\n",
      "iteration\t 250 101352.04244064394\n",
      "iteration\t 500 99332.61891556003\n",
      "iteration\t 750 98291.90087288439\n",
      "iteration\t 1000 97583.67067549103\n",
      "DEGREEE:  5\n",
      "iteration\t 0 138629.4361119856\n",
      "iteration\t 250 153543.38638541332\n",
      "iteration\t 500 nan\n",
      "iteration\t 750 152592.17476839985\n",
      "iteration\t 1000 nan\n",
      "LAMBDA:  0.002154434690031882\n",
      "DEGREEE:  1\n",
      "iteration\t 0 138629.4361119856\n",
      "iteration\t 250 103165.10841584552\n",
      "iteration\t 500 102262.99559390059\n",
      "iteration\t 750 101778.8662097819\n",
      "iteration\t 1000 101498.16332105323\n",
      "DEGREEE:  2\n",
      "iteration\t 0 138629.4361119856\n",
      "iteration\t 250 86240.84608091332\n",
      "iteration\t 500 85034.54422975042\n",
      "iteration\t 750 84618.4072357394\n",
      "iteration\t 1000 84396.92946064798\n",
      "DEGREEE:  3\n",
      "iteration\t 0 138629.4361119856\n",
      "iteration\t 250 84661.04999258528\n",
      "iteration\t 500 83232.67271075469\n",
      "iteration\t 750 82715.06405950322\n",
      "iteration\t 1000 82433.63626208692\n",
      "DEGREEE:  4\n",
      "iteration\t 0 138629.4361119856\n",
      "iteration\t 250 101352.051151609\n",
      "iteration\t 500 99332.63074754157\n",
      "iteration\t 750 98291.91615993068\n",
      "iteration\t 1000 97583.68907921665\n",
      "DEGREEE:  5\n",
      "iteration\t 0 138629.4361119856\n",
      "iteration\t 250 153543.39696668077\n",
      "iteration\t 500 nan\n",
      "iteration\t 750 152592.18582136865\n",
      "iteration\t 1000 nan\n",
      "LAMBDA:  0.005994842503189409\n",
      "DEGREEE:  1\n",
      "iteration\t 0 138629.4361119856\n",
      "iteration\t 250 103165.11728749837\n",
      "iteration\t 500 102263.00962517511\n",
      "iteration\t 750 101778.88499490704\n",
      "iteration\t 1000 101498.18603954159\n",
      "DEGREEE:  2\n",
      "iteration\t 0 138629.4361119856\n",
      "iteration\t 250 86240.86629281323\n",
      "iteration\t 500 85034.57211764903\n",
      "iteration\t 750 84618.43962156333\n",
      "iteration\t 1000 84396.9651425475\n",
      "DEGREEE:  3\n",
      "iteration\t 0 138629.4361119856\n",
      "iteration\t 250 84661.07138899903\n",
      "iteration\t 500 83232.70299296641\n",
      "iteration\t 750 82715.09977831376\n",
      "iteration\t 1000 82433.67603621776\n",
      "DEGREEE:  4\n",
      "iteration\t 0 138629.4361119856\n",
      "iteration\t 250 101352.07539039727\n",
      "iteration\t 500 99332.66367066007\n",
      "iteration\t 750 98291.95869690928\n",
      "iteration\t 1000 97583.740288464\n",
      "DEGREEE:  5\n",
      "iteration\t 0 138629.4361119856\n",
      "iteration\t 250 153543.42640967944\n",
      "iteration\t 500 nan\n",
      "iteration\t 750 152592.21657668723\n",
      "iteration\t 1000 nan\n",
      "LAMBDA:  0.016681005372000592\n",
      "DEGREEE:  1\n",
      "iteration\t 0 138629.4361119856\n",
      "iteration\t 250 103165.14197333629\n",
      "iteration\t 500 102263.04866780466\n",
      "iteration\t 750 101778.93726515767\n",
      "iteration\t 1000 101498.24925431468\n",
      "DEGREEE:  2\n",
      "iteration\t 0 138629.4361119856\n",
      "iteration\t 250 86240.92253343026\n",
      "iteration\t 500 85034.64971691277\n",
      "iteration\t 750 84618.52973630407\n",
      "iteration\t 1000 84397.06442854798\n",
      "DEGREEE:  3\n",
      "iteration\t 0 138629.4361119856\n",
      "iteration\t 250 84661.13092558026\n",
      "iteration\t 500 83232.78725449281\n",
      "iteration\t 750 82715.19916718196\n",
      "iteration\t 1000 82433.78670893595\n",
      "DEGREEE:  4\n",
      "iteration\t 0 138629.4361119856\n",
      "iteration\t 250 101352.1428363503\n",
      "iteration\t 500 99332.75528062815\n",
      "iteration\t 750 98292.07705752534\n",
      "iteration\t 1000 97583.8827795915\n",
      "DEGREEE:  5\n",
      "iteration\t 0 138629.4361119856\n",
      "iteration\t 250 153543.50833665722\n",
      "iteration\t 500 nan\n",
      "iteration\t 750 152592.30215484646\n",
      "iteration\t 1000 nan\n",
      "LAMBDA:  0.046415888336127774\n",
      "DEGREEE:  1\n",
      "iteration\t 0 138629.4361119856\n",
      "iteration\t 250 103165.21066265722\n",
      "iteration\t 500 102263.1573044955\n",
      "iteration\t 750 101779.08270655021\n",
      "iteration\t 1000 101498.42514721153\n",
      "DEGREEE:  2\n",
      "iteration\t 0 138629.4361119856\n",
      "iteration\t 250 86241.07902477833\n",
      "iteration\t 500 85034.86563782961\n",
      "iteration\t 750 84618.78048020818\n",
      "iteration\t 1000 84397.34068996421\n",
      "DEGREEE:  3\n",
      "iteration\t 0 138629.4361119856\n",
      "iteration\t 250 84661.29658802069\n",
      "iteration\t 500 83233.02171311923\n",
      "iteration\t 750 82715.47571607833\n",
      "iteration\t 1000 82434.09465334001\n",
      "DEGREEE:  4\n",
      "iteration\t 0 138629.4361119856\n",
      "iteration\t 250 101352.33050937756\n",
      "iteration\t 500 99333.01018643413\n",
      "iteration\t 750 98292.40639481338\n",
      "iteration\t 1000 97584.2792568798\n",
      "DEGREEE:  5\n",
      "iteration\t 0 138629.4361119856\n",
      "iteration\t 250 153543.73630412592\n",
      "iteration\t 500 nan\n",
      "iteration\t 750 152592.5402766371\n",
      "iteration\t 1000 nan\n",
      "LAMBDA:  0.12915496650148828\n",
      "DEGREEE:  1\n",
      "iteration\t 0 138629.4361119856\n",
      "iteration\t 250 103165.40179098425\n",
      "iteration\t 500 102263.45957903052\n",
      "iteration\t 750 101779.48737733687\n",
      "iteration\t 1000 101498.91453347087\n",
      "DEGREEE:  2\n",
      "iteration\t 0 138629.4361119856\n",
      "iteration\t 250 86241.51445956143\n",
      "iteration\t 500 85035.46642239304\n",
      "iteration\t 750 84619.47814576997\n",
      "iteration\t 1000 84398.10934355034\n",
      "DEGREEE:  3\n",
      "iteration\t 0 138629.4361119856\n",
      "iteration\t 250 84661.75754095457\n",
      "iteration\t 500 83233.67407661596\n",
      "iteration\t 750 82716.2451792294\n",
      "iteration\t 1000 82434.95145719439\n",
      "DEGREEE:  4\n",
      "iteration\t 0 138629.4361119856\n",
      "iteration\t 250 101352.85272580876\n",
      "iteration\t 500 99333.71944313221\n",
      "iteration\t 750 98293.32273222797\n",
      "iteration\t 1000 97585.38237986801\n",
      "DEGREEE:  5\n",
      "iteration\t 0 138629.4361119856\n",
      "iteration\t 250 153544.3706431566\n",
      "iteration\t 500 nan\n",
      "iteration\t 750 152593.20283146537\n",
      "iteration\t 1000 nan\n",
      "LAMBDA:  0.3593813663804626\n",
      "DEGREEE:  1\n",
      "iteration\t 0 138629.4361119856\n",
      "iteration\t 250 103165.93358757407\n",
      "iteration\t 500 102264.30057128907\n",
      "iteration\t 750 101780.61317701166\n",
      "iteration\t 1000 101500.27592240502\n",
      "DEGREEE:  2\n",
      "iteration\t 0 138629.4361119856\n",
      "iteration\t 250 86242.72599221687\n",
      "iteration\t 500 85037.13792271519\n",
      "iteration\t 750 84621.41909913733\n",
      "iteration\t 1000 84400.24770172859\n",
      "DEGREEE:  3\n",
      "iteration\t 0 138629.4361119856\n",
      "iteration\t 250 84663.04007195964\n",
      "iteration\t 500 83235.48907249131\n",
      "iteration\t 750 82718.38586461887\n",
      "iteration\t 1000 82437.33502498669\n",
      "DEGREEE:  4\n",
      "iteration\t 0 138629.4361119856\n",
      "iteration\t 250 101354.30586345839\n",
      "iteration\t 500 99335.69272998697\n",
      "iteration\t 750 98295.8720066565\n",
      "iteration\t 1000 97588.45112176613\n",
      "DEGREEE:  5\n",
      "iteration\t 0 138629.4361119856\n",
      "iteration\t 250 153546.13577559163\n",
      "iteration\t 500 nan\n",
      "iteration\t 750 152595.0461724602\n",
      "iteration\t 1000 nan\n",
      "LAMBDA:  1.0\n",
      "DEGREEE:  1\n",
      "iteration\t 0 138629.4361119856\n",
      "iteration\t 250 103167.4131161017\n",
      "iteration\t 500 102266.6398727416\n",
      "iteration\t 750 101783.744072802\n",
      "iteration\t 1000 101504.061303114\n",
      "DEGREEE:  2\n",
      "iteration\t 0 138629.4361119856\n",
      "iteration\t 250 86246.09645330065\n",
      "iteration\t 500 85041.78728132386\n",
      "iteration\t 750 84626.81726702927\n",
      "iteration\t 1000 84406.19420463394\n",
      "DEGREEE:  3\n",
      "iteration\t 0 138629.4361119856\n",
      "iteration\t 250 84666.60803272693\n",
      "iteration\t 500 83240.53751562715\n",
      "iteration\t 750 82724.33941934333\n",
      "iteration\t 1000 82443.96326774797\n",
      "DEGREEE:  4\n",
      "iteration\t 0 138629.4361119856\n",
      "iteration\t 250 101358.34961125675\n",
      "iteration\t 500 99341.18148987697\n",
      "iteration\t 750 98302.96173145085\n",
      "iteration\t 1000 97596.98417279807\n",
      "DEGREEE:  5\n",
      "iteration\t 0 138629.4361119856\n",
      "iteration\t 250 153551.0477209386\n",
      "iteration\t 500 nan\n",
      "iteration\t 750 152600.17338827928\n",
      "iteration\t 1000 nan\n"
     ]
    }
   ],
   "source": [
    "degrees = range(1, 6)\n",
    "lambdas = np.logspace(-4, 0, 10)\n",
    "\n",
    "rmse_tr = np.zeros((len(lambdas),len(degrees)))\n",
    "rmse_val = np.zeros((len(lambdas),len(degrees)))\n",
    "for index_lambda_, lambda_ in enumerate(lambdas):\n",
    "    print(\"LAMBDA: \", lambda_)\n",
    "    for index_degree, degree in enumerate(degrees):\n",
    "            print(\"DEGREEE: \", degree)\n",
    "            x_tr_pol = build_poly(x_train,degree)\n",
    "            x_val_pol = build_poly(x_val,degree)\n",
    "            w_initial = np.zeros((x_tr_pol.shape[1], 1))\n",
    "            weights,_,_ = reg_logistic_regression(y_train, x_tr_pol, w_initial, max_iters, gamma,lambda_)\n",
    "            loss_train,_ = learning_by_reg_gradient_descent_log(y_train, x_tr_pol, weights, gamma,lambda_)\n",
    "            loss_val,_ = learning_by_reg_gradient_descent_log(y_val, x_val_pol, weights, gamma,lambda_)\n",
    "#             rmse_tr.append(np.sqrt(2*loss_train))        \n",
    "#             rmse_val.append(np.sqrt(2*loss_val))        \n",
    "            rmse_tr[index_lambda_, index_degree] = np.sqrt(2*loss_train)\n",
    "            rmse_val[index_lambda_, index_degree] = np.sqrt(2*loss_val)\n"
   ]
  },
  {
   "cell_type": "code",
   "execution_count": 91,
   "metadata": {},
   "outputs": [
    {
     "data": {
      "text/plain": [
       "array([[450.54921029, 410.84358126, 406.03628086, 456.40080073,\n",
       "        802.80726624],\n",
       "       [450.54921263, 410.8435853 , 406.03628541, 456.4008077 ,\n",
       "        802.80727595],\n",
       "       [450.54921915, 410.84359652, 406.03629806, 456.40082709,\n",
       "        802.807303  ],\n",
       "       [450.54923728, 410.84362774, 406.03633328, 456.40088105,\n",
       "        802.80737826],\n",
       "       [450.54928774, 410.84371462, 406.03643127, 456.4010312 ,\n",
       "        802.80758766],\n",
       "       [450.54942813, 410.84395636, 406.03670394, 456.40144897,\n",
       "        802.80817033],\n",
       "       [450.54981877, 410.844629  , 406.03746263, 456.40261144,\n",
       "        802.8097916 ],\n",
       "       [450.55090563, 410.84650052, 406.03957356, 456.4058458 ,\n",
       "        802.81430246],\n",
       "       [450.55392909, 410.85170696, 406.04544595, 456.4148436 ,\n",
       "        802.82685104],\n",
       "       [450.56233579, 410.86618504, 406.06177548, 456.43986506,\n",
       "        802.86174378]])"
      ]
     },
     "execution_count": 91,
     "metadata": {},
     "output_type": "execute_result"
    }
   ],
   "source": [
    "rmse_tr"
   ]
  },
  {
   "cell_type": "code",
   "execution_count": 93,
   "metadata": {},
   "outputs": [
    {
     "data": {
      "text/plain": [
       "2"
      ]
     },
     "execution_count": 93,
     "metadata": {},
     "output_type": "execute_result"
    }
   ],
   "source": [
    "np.argmin(rmse_tr)"
   ]
  },
  {
   "cell_type": "code",
   "execution_count": 95,
   "metadata": {},
   "outputs": [
    {
     "data": {
      "text/plain": [
       "array([[nan, nan, nan, nan, nan],\n",
       "       [nan, nan, nan, nan, nan],\n",
       "       [nan, nan, nan, nan, nan],\n",
       "       [nan, nan, nan, nan, nan],\n",
       "       [nan, nan, nan, nan, nan],\n",
       "       [nan, nan, nan, nan, nan],\n",
       "       [nan, nan, nan, nan, nan],\n",
       "       [nan, nan, nan, nan, nan],\n",
       "       [nan, nan, nan, nan, nan],\n",
       "       [nan, nan, nan, nan, nan]])"
      ]
     },
     "execution_count": 95,
     "metadata": {},
     "output_type": "execute_result"
    }
   ],
   "source": [
    "rmse_val"
   ]
  },
  {
   "cell_type": "code",
   "execution_count": 96,
   "metadata": {},
   "outputs": [
    {
     "ename": "AttributeError",
     "evalue": "module 'numpy' has no attribute 'armgin'",
     "output_type": "error",
     "traceback": [
      "\u001b[1;31m---------------------------------------------------------------------------\u001b[0m",
      "\u001b[1;31mAttributeError\u001b[0m                            Traceback (most recent call last)",
      "\u001b[1;32m<ipython-input-96-759668dad031>\u001b[0m in \u001b[0;36m<module>\u001b[1;34m\u001b[0m\n\u001b[1;32m----> 1\u001b[1;33m \u001b[0mnp\u001b[0m\u001b[1;33m.\u001b[0m\u001b[0marmgin\u001b[0m\u001b[1;33m(\u001b[0m\u001b[0mrmse_val\u001b[0m\u001b[1;33m)\u001b[0m\u001b[1;33m\u001b[0m\u001b[1;33m\u001b[0m\u001b[0m\n\u001b[0m",
      "\u001b[1;31mAttributeError\u001b[0m: module 'numpy' has no attribute 'armgin'"
     ]
    }
   ],
   "source": [
    "np.armgin(rmse_val)"
   ]
  },
  {
   "cell_type": "code",
   "execution_count": null,
   "metadata": {},
   "outputs": [],
   "source": []
  },
  {
   "cell_type": "code",
   "execution_count": 100,
   "metadata": {},
   "outputs": [
    {
     "data": {
      "image/png": "[encoded data removed]",
      "text/plain": [
       "<Figure size 1296x864 with 1 Axes>"
      ]
     },
     "metadata": {
      "needs_background": "light"
     },
     "output_type": "display_data"
    }
   ],
   "source": [
    "def plot_figures(x_dim, y_dim1, y_dim2, title, legend):\n",
    "    plt.figure(1, figsize=(18,12))\n",
    "    plt.title(title)\n",
    "    plt.plot(x_dim, y_dim1)\n",
    "    plt.plot(x_dim, y_dim2, 'r')\n",
    "    plt.grid(True)\n",
    "    plt.legend(legend)\n",
    "    plt.show()\n",
    "plot_figures(degrees, rmse_tr[0], rmse_val[0], \"Train vs Validation\", ['Train', 'Validation'])"
   ]
  },
  {
   "cell_type": "markdown",
   "metadata": {},
   "source": [
    "# LogReg with the best degree and gamma"
   ]
  },
  {
   "cell_type": "code",
   "execution_count": 82,
   "metadata": {},
   "outputs": [
    {
     "name": "stdout",
     "output_type": "stream",
     "text": [
      "iteration\t 0 138629.4361119856\n",
      "iteration\t 250 84661.03798936956\n",
      "iteration\t 500 83232.65572265898\n",
      "iteration\t 750 82715.0440214974\n",
      "iteration\t 1000 82433.61394905581\n"
     ]
    }
   ],
   "source": [
    "x_tr_pol = build_poly(x_train,3)\n",
    "x_val_pol = build_poly(x_val,3)\n",
    "w_initial = np.zeros((x_tr_pol.shape[1], 1))\n",
    "weights,_,_ = logistic_regression(y_train, x_tr_pol, w_initial, max_iters, gamma)"
   ]
  },
  {
   "cell_type": "code",
   "execution_count": 84,
   "metadata": {},
   "outputs": [
    {
     "data": {
      "text/plain": [
       "0.81054"
      ]
     },
     "execution_count": 84,
     "metadata": {},
     "output_type": "execute_result"
    }
   ],
   "source": [
    "y_val = relabel_y_negative(y_val)\n",
    "y_pred = predict_labels(weights, x_val_pol)\n",
    "from sklearn.metrics import accuracy_score\n",
    "accuracy_score(y_val,y_pred)"
   ]
  },
  {
   "cell_type": "markdown",
   "metadata": {},
   "source": [
    "# RegLogReg with the best lambda, degree and gamma"
   ]
  },
  {
   "cell_type": "code",
   "execution_count": 101,
   "metadata": {},
   "outputs": [
    {
     "name": "stdout",
     "output_type": "stream",
     "text": [
      "iteration\t 0 138629.4361119856\n",
      "iteration\t 250 84661.03854650976\n",
      "iteration\t 500 83232.65651117722\n",
      "iteration\t 750 82715.04495158036\n",
      "iteration\t 1000 82433.6149847365\n"
     ]
    }
   ],
   "source": [
    "x_tr_pol = build_poly(x_train,3)\n",
    "x_val_pol = build_poly(x_val,3)\n",
    "w_initial = np.zeros((x_tr_pol.shape[1], 1))\n",
    "weights,_,_ = reg_logistic_regression(y_train, x_tr_pol, w_initial, max_iters, gamma,0.0001)"
   ]
  },
  {
   "cell_type": "code",
   "execution_count": 102,
   "metadata": {},
   "outputs": [
    {
     "data": {
      "text/plain": [
       "0.81054"
      ]
     },
     "execution_count": 102,
     "metadata": {},
     "output_type": "execute_result"
    }
   ],
   "source": [
    "y_val = relabel_y_negative(y_val)\n",
    "y_pred = predict_labels(weights, x_val_pol)\n",
    "from sklearn.metrics import accuracy_score\n",
    "accuracy_score(y_val,y_pred)"
   ]
  },
  {
   "cell_type": "code",
   "execution_count": 103,
   "metadata": {},
   "outputs": [],
   "source": [
    "cat_cols = [22]\n",
    "x_test_num, x_test_cat = split_numerical_categorical(tX_testRaw,cat_cols)\n",
    "# Treat numerical values\n",
    "x_test_num_nan = replace_undef_val_with_nan(x_test_num)\n",
    "x_test_num_nan_std = nan_standardize_transform(x_test_num_nan,train_mean,train_std)\n",
    "# x_test_num_nan_std = nan_standardize_with_median_transform(x_test_num_nan,train_median,train_std)\n",
    "x_test_num_valid_std = replace_nan_val_with_median(x_test_num_nan_std)\n",
    "x_test_num_valid_std = replace_iqr_outliers(x_test_num_valid_std)\n",
    "# x_test_num_valid_std = replace_nan_val_with_mean(x_test_num_nan_std)\n",
    "x_test_ohe_cat = one_hot_encode(x_test_cat)\n",
    "x_test = np.hstack((add_bias(x_test_num_valid_std),x_test_ohe_cat))\n",
    "# Treat labels\n"
   ]
  },
  {
   "cell_type": "code",
   "execution_count": 105,
   "metadata": {},
   "outputs": [
    {
     "data": {
      "text/plain": [
       "(568238, 1)"
      ]
     },
     "execution_count": 105,
     "metadata": {},
     "output_type": "execute_result"
    }
   ],
   "source": [
    "x_test_pol = build_poly(x_test,3)\n",
    "y_pred = predict_labels(weights, x_test_pol)\n",
    "y_pred.shape"
   ]
  },
  {
   "cell_type": "code",
   "execution_count": 106,
   "metadata": {},
   "outputs": [
    {
     "data": {
      "text/plain": [
       "array([-1.,  1.])"
      ]
     },
     "execution_count": 106,
     "metadata": {},
     "output_type": "execute_result"
    }
   ],
   "source": [
    "np.unique(y_pred)"
   ]
  },
  {
   "cell_type": "code",
   "execution_count": 107,
   "metadata": {},
   "outputs": [],
   "source": [
    "OUTPUT_PATH = '../results/reg_log_reg.csv' \n",
    "create_csv_submission(ids_test, y_pred, OUTPUT_PATH)"
   ]
  },
  {
   "cell_type": "code",
   "execution_count": 108,
   "metadata": {},
   "outputs": [],
   "source": [
    "with open('../results/reg_log_reg.csv') as input, open('../results/reg_log_reg_cleaned.csv', 'w', newline='') as output:\n",
    "    writer = csv.writer(output)\n",
    "    for row in csv.reader(input):\n",
    "        if any(field.strip() for field in row):\n",
    "            writer.writerow(row)"
   ]
  },
  {
   "cell_type": "code",
   "execution_count": 10,
   "metadata": {},
   "outputs": [],
   "source": [
    "# from sklearn import linear_model, preprocessing, metrics\n",
    "\n",
    "# model = linear_model.SGDClassifier(max_iter=max_iters)\n",
    "# model.fit(x_train,y_train)\n",
    "# predict_y = model.predict(x_val)\n",
    "# predict_y = relabel_y_negative(predict_y)\n",
    "# from sklearn.metrics import accuracy_score\n",
    "# accuracy_score(y_val,predict_y)"
   ]
  },
  {
   "cell_type": "code",
   "execution_count": 11,
   "metadata": {},
   "outputs": [],
   "source": [
    "# max_iters = 1000\n",
    "# gamma = 0.00001\n",
    "# w_initial = np.zeros((x_train_prep.shape[1], 1))\n",
    "# lambdas = np.logspace(-4, 0, 10)\n",
    "# for i,lambda_ in enumerate(lambdas):\n",
    "#         weights, loss_tr,losses = logistic_regression(y_train_prep, x_train_prep, w_initial, max_iters, gamma)\n",
    "        "
   ]
  },
  {
   "cell_type": "code",
   "execution_count": 12,
   "metadata": {},
   "outputs": [],
   "source": [
    "# lambda_range = np.arange(0.0, 1.6e-8, 2.e-9)\n",
    "# (lambda_range)"
   ]
  },
  {
   "cell_type": "code",
   "execution_count": 13,
   "metadata": {},
   "outputs": [],
   "source": [
    "# losses"
   ]
  },
  {
   "cell_type": "code",
   "execution_count": 14,
   "metadata": {},
   "outputs": [],
   "source": [
    "# loss_tr"
   ]
  },
  {
   "cell_type": "code",
   "execution_count": 15,
   "metadata": {},
   "outputs": [],
   "source": [
    "# y_pred = predict_labels(weights, x_val)\n",
    "# y_pred.shape"
   ]
  },
  {
   "cell_type": "code",
   "execution_count": 16,
   "metadata": {},
   "outputs": [],
   "source": [
    "# np.unique(y_val)"
   ]
  },
  {
   "cell_type": "code",
   "execution_count": 17,
   "metadata": {},
   "outputs": [],
   "source": [
    "# np.unique(y_train)"
   ]
  },
  {
   "cell_type": "code",
   "execution_count": 18,
   "metadata": {},
   "outputs": [],
   "source": [
    "# OUTPUT_PATH = '../results/log_reg.csv' \n",
    "# create_csv_submission(ids_test, y_pred[:], OUTPUT_PATH)"
   ]
  },
  {
   "cell_type": "markdown",
   "metadata": {},
   "source": [
    "## Generate predictions and save ouput in csv format for submission:"
   ]
  },
  {
   "cell_type": "code",
   "execution_count": null,
   "metadata": {},
   "outputs": [],
   "source": []
  }
 ],
 "metadata": {
  "anaconda-cloud": {},
  "kernelspec": {
   "display_name": "Python 3",
   "language": "python",
   "name": "python3"
  },
  "language_info": {
   "codemirror_mode": {
    "name": "ipython",
    "version": 3
   },
   "file_extension": ".py",
   "mimetype": "text/x-python",
   "name": "python",
   "nbconvert_exporter": "python",
   "pygments_lexer": "ipython3",
   "version": "3.7.4"
  }
 },
 "nbformat": 4,
 "nbformat_minor": 4
}
