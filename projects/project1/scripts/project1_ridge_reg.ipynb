{
 "cells": [
  {
   "cell_type": "code",
   "execution_count": 26,
   "metadata": {},
   "outputs": [
    {
     "name": "stdout",
     "output_type": "stream",
     "text": [
      "The autoreload extension is already loaded. To reload it, use:\n",
      "  %reload_ext autoreload\n"
     ]
    }
   ],
   "source": [
    "# Useful starting lines\n",
    "%matplotlib inline\n",
    "import numpy as np\n",
    "import matplotlib.pyplot as plt\n",
    "%load_ext autoreload\n",
    "%autoreload 2"
   ]
  },
  {
   "cell_type": "markdown",
   "metadata": {},
   "source": [
    "## Load the training data into feature matrix, class labels, and event ids:"
   ]
  },
  {
   "cell_type": "code",
   "execution_count": 27,
   "metadata": {},
   "outputs": [],
   "source": [
    "from proj1_helpers import *\n",
    "DATA_TRAIN_PATH = '../data/train.csv'  \n",
    "y, tX, ids = load_csv_data(DATA_TRAIN_PATH)\n",
    "DATA_TEST_PATH = '../data/test.csv' \n",
    "_, tX_test, ids_test = load_csv_data(DATA_TEST_PATH)"
   ]
  },
  {
   "cell_type": "markdown",
   "metadata": {},
   "source": [
    "## Do your thing crazy machine learning thing here :) ..."
   ]
  },
  {
   "cell_type": "code",
   "execution_count": 28,
   "metadata": {},
   "outputs": [],
   "source": [
    "from proj1_utils import *\n",
    "from proj1_visualization import *\n",
    "from proj1_cross_validation import *\n",
    "from implementations import *"
   ]
  },
  {
   "cell_type": "markdown",
   "metadata": {},
   "source": [
    "### Explore the data"
   ]
  },
  {
   "cell_type": "code",
   "execution_count": 31,
   "metadata": {},
   "outputs": [],
   "source": [
    "cat_cols = [22]           # PRI_jet_num: the only categorical column\n",
    "tX_num, tX_cat = split_numerical_categorical(tX,cat_cols)"
   ]
  },
  {
   "cell_type": "code",
   "execution_count": null,
   "metadata": {},
   "outputs": [],
   "source": [
    "plt.matshow(np.corrcoef(tX_num,rowvar=False))\n",
    "plt.colorbar()"
   ]
  },
  {
   "cell_type": "code",
   "execution_count": null,
   "metadata": {},
   "outputs": [],
   "source": [
    "np.corrcoef(tX_num[:,22:25],rowvar = False)"
   ]
  },
  {
   "cell_type": "code",
   "execution_count": null,
   "metadata": {},
   "outputs": [],
   "source": [
    "np.corrcoef(tX_num[:,25:28],rowvar = False)"
   ]
  },
  {
   "cell_type": "code",
   "execution_count": null,
   "metadata": {},
   "outputs": [],
   "source": [
    "corr_cols = [4,6,25,26,23,24]\n",
    "tX_num_uncorr = np.delete(tX_num,corr_cols,axis = 1)"
   ]
  },
  {
   "cell_type": "code",
   "execution_count": null,
   "metadata": {},
   "outputs": [],
   "source": [
    "plt.matshow(np.corrcoef(tX_num_uncorr,rowvar=False))\n",
    "plt.colorbar()"
   ]
  },
  {
   "cell_type": "code",
   "execution_count": 36,
   "metadata": {},
   "outputs": [],
   "source": [
    "tX_test_num, tX_test_cat = split_numerical_categorical(tX_test,cat_cols)"
   ]
  },
  {
   "cell_type": "code",
   "execution_count": null,
   "metadata": {},
   "outputs": [],
   "source": [
    "plt.matshow(np.corrcoef(tX_test_num,rowvar=False))\n",
    "plt.colorbar()"
   ]
  },
  {
   "cell_type": "code",
   "execution_count": null,
   "metadata": {},
   "outputs": [],
   "source": [
    "tX_test_num_uncorr = np.delete(tX_test_num,corr_cols,axis = 1)"
   ]
  },
  {
   "cell_type": "code",
   "execution_count": null,
   "metadata": {},
   "outputs": [],
   "source": [
    "plt.matshow(np.corrcoef(tX_test_num_uncorr,rowvar=False))\n",
    "plt.colorbar()"
   ]
  },
  {
   "cell_type": "markdown",
   "metadata": {},
   "source": [
    "## Preprocessing"
   ]
  },
  {
   "cell_type": "code",
   "execution_count": 38,
   "metadata": {},
   "outputs": [],
   "source": [
    "# Treat numerical values\n",
    "best_degree = 5\n",
    "#full_x_train_num_nan = replace_undef_val_with_nan(tX_num_uncorr)\n",
    "full_x_train_num_nan = replace_undef_val_with_nan(tX_num)\n",
    "full_x_train_num_std, train_mean, train_std = nan_standardize_fit(full_x_train_num_nan)\n",
    "# full_x_train_num_valid_std = replace_nan_val_with_mean(full_x_train_num_nan_std)\n",
    "full_x_train_num_valid = replace_nan_val_with_median(full_x_train_num_std)\n",
    "full_x_train_num_valid = replace_iqr_outliers(full_x_train_num_valid)\n",
    "# Treat categorical values\n",
    "full_x_train_ohe_cat = one_hot_encode(tX_cat)\n",
    "full_x_train_poly = build_poly(full_x_train_num_valid , best_degree)\n",
    "full_x_train = np.hstack((full_x_train_poly,full_x_train_ohe_cat))\n",
    "# Treat labels\n",
    "full_y_train = y\n",
    "# full_y_train = relabel_y_non_negative(y).reshape(-1,1)"
   ]
  },
  {
   "cell_type": "code",
   "execution_count": 39,
   "metadata": {},
   "outputs": [],
   "source": [
    "x_train, y_train, x_val, y_val = split_data(full_x_train,full_y_train,0.8)"
   ]
  },
  {
   "cell_type": "code",
   "execution_count": 40,
   "metadata": {},
   "outputs": [],
   "source": [
    "# Treat numerical values\n",
    "x_test_num_nan = replace_undef_val_with_nan(tX_test_num)\n",
    "x_test_num_nan_std = nan_standardize_transform(x_test_num_nan,train_mean,train_std)\n",
    "# x_test_num_nan_std = nan_standardize_with_median_transform(x_test_num_nan,train_median,train_std)\n",
    "x_test_num_valid_std = replace_nan_val_with_median(x_test_num_nan_std)\n",
    "x_test_num_valid_std = replace_iqr_outliers(x_test_num_valid_std)\n",
    "# x_test_num_valid_std = replace_nan_val_with_mean(x_test_num_nan_std)\n",
    "x_test_ohe_cat = one_hot_encode(tX_test_cat)\n",
    "x_test_poly = build_poly(x_test_num_valid_std , best_degree)\n",
    "x_test = np.hstack((x_test_poly,x_test_ohe_cat))"
   ]
  },
  {
   "cell_type": "code",
   "execution_count": null,
   "metadata": {},
   "outputs": [],
   "source": [
    "multiHistPlots(tX_num_uncorr)"
   ]
  },
  {
   "cell_type": "markdown",
   "metadata": {},
   "source": [
    "## Test grid search"
   ]
  },
  {
   "cell_type": "markdown",
   "metadata": {},
   "source": [
    "### Least squares GD"
   ]
  },
  {
   "cell_type": "markdown",
   "metadata": {},
   "source": [
    "### Least squares SGD"
   ]
  },
  {
   "cell_type": "code",
   "execution_count": null,
   "metadata": {},
   "outputs": [
    {
     "name": "stdout",
     "output_type": "stream",
     "text": [
      "SGD(50/2000): loss=0.4999560328730805, w(0)=-1.7999494721739857e-05, w1=3.5480791707477293e-06\n",
      "SGD(100/2000): loss=0.5001926794149707, w(0)=-3.399670654765714e-05, w1=1.0489958052191082e-05\n",
      "SGD(150/2000): loss=0.4996817964838604, w(0)=-5.1992623872818504e-05, w1=1.3375506850854295e-05\n",
      "SGD(200/2000): loss=0.49961034577844315, w(0)=-7.198936799854934e-05, w1=2.36637956134491e-05\n",
      "SGD(250/2000): loss=0.5003647068815094, w(0)=-8.39825402078926e-05, w1=2.823389416660846e-05\n",
      "SGD(300/2000): loss=0.49992163320844546, w(0)=-0.00010997139578886805, w1=3.3456361532792676e-05\n",
      "SGD(350/2000): loss=0.49938066192564445, w(0)=-0.0001299581496448557, w1=3.814024383261656e-05\n",
      "SGD(400/2000): loss=0.4995744662692441, w(0)=-0.00014594592209955548, w1=3.7837670888478076e-05\n",
      "SGD(450/2000): loss=0.5005391964889622, w(0)=-0.00015792810810679348, w1=4.704865296964899e-05\n",
      "SGD(500/2000): loss=0.5001973942162212, w(0)=-0.00017790936626798227, w1=5.55638469687169e-05\n",
      "SGD(550/2000): loss=0.5000674954478292, w(0)=-0.0001958924469887238, w1=5.868068685671567e-05\n",
      "SGD(600/2000): loss=0.5004918472268828, w(0)=-0.00022186905190885135, w1=6.267544022026408e-05\n",
      "SGD(650/2000): loss=0.5002505385346953, w(0)=-0.00023985106889768746, w1=7.30116297486714e-05\n",
      "SGD(700/2000): loss=0.4990493888375584, w(0)=-0.00025782371918221456, w1=7.762022002396391e-05\n",
      "SGD(750/2000): loss=0.5007738802967074, w(0)=-0.00027978567844677945, w1=8.479849398883905e-05\n",
      "SGD(800/2000): loss=0.49809226188251243, w(0)=-0.00029176236020024934, w1=9.123099353895322e-05\n",
      "SGD(850/2000): loss=0.5002930195956794, w(0)=-0.00030973834919809123, w1=9.552125074055433e-05\n",
      "SGD(900/2000): loss=0.5000849010732262, w(0)=-0.00032170122331118663, w1=0.00010075355381298452\n",
      "SGD(950/2000): loss=0.4980349268552071, w(0)=-0.0003376639384979387, w1=0.00010765821233118472\n",
      "SGD(1000/2000): loss=0.49878057434236683, w(0)=-0.00034763525044063427, w1=0.00011775126307879766\n",
      "SGD(1050/2000): loss=0.4990225101039216, w(0)=-0.00036558883898662976, w1=0.00011946586140824155\n",
      "SGD(1100/2000): loss=0.5000302092802922, w(0)=-0.0003735535417726031, w1=0.00012796704716078327\n",
      "SGD(1150/2000): loss=0.4990667925305608, w(0)=-0.00038152290154241713, w1=0.00012298605273773798\n",
      "SGD(1200/2000): loss=0.4976173595398367, w(0)=-0.0003974818212901733, w1=0.00013312716524241272\n",
      "SGD(1250/2000): loss=0.4986969984462488, w(0)=-0.0004094494816705126, w1=0.00014056167148427117\n",
      "SGD(1300/2000): loss=0.5018902653354955, w(0)=-0.00042341412532732376, w1=0.00014542229442775136\n",
      "SGD(1350/2000): loss=0.49787381410427634, w(0)=-0.0004533748483784811, w1=0.00015302090248925994\n",
      "SGD(1400/2000): loss=0.49730781804854607, w(0)=-0.00047332218088138775, w1=0.00016169357582730484\n",
      "SGD(1450/2000): loss=0.500661576393225, w(0)=-0.000485266044327785, w1=0.0001704231416664758\n",
      "SGD(1500/2000): loss=0.5023582370747631, w(0)=-0.0004992302048158798, w1=0.00018010323913305438\n",
      "SGD(1550/2000): loss=0.5008271657975527, w(0)=-0.000503179742577448, w1=0.00018774578503266286\n",
      "SGD(1600/2000): loss=0.4992700573074712, w(0)=-0.0005151187765492465, w1=0.00019320917594695136\n",
      "SGD(1650/2000): loss=0.49735079961097767, w(0)=-0.0005370638569065949, w1=0.00020569173130064909\n",
      "SGD(1700/2000): loss=0.5000045164655116, w(0)=-0.0005489929348877437, w1=0.00020735195886312845\n",
      "SGD(1750/2000): loss=0.5020237195598807, w(0)=-0.0005629660943298411, w1=0.00021383285442051444\n",
      "SGD(1800/2000): loss=0.49939057700448375, w(0)=-0.0005729136968917678, w1=0.00021675296254208498\n",
      "SGD(1850/2000): loss=0.4978467445558795, w(0)=-0.0005808698452519763, w1=0.00022680170134095067\n",
      "SGD(1900/2000): loss=0.49992766713005393, w(0)=-0.000596801398417472, w1=0.00023647837406464374\n",
      "SGD(1950/2000): loss=0.4977924118662855, w(0)=-0.0006087281988484144, w1=0.00023794870501171538\n",
      "SGD(2000/2000): loss=0.5030625413335145, w(0)=-0.0006226771360314885, w1=0.0002460389461568933\n",
      "SGD(50/2000): loss=0.5000667224233023, w(0)=-1.199748524317055e-05, w1=1.9022068554849966e-06\n",
      "SGD(100/2000): loss=0.49927915422399627, w(0)=-3.997504270670089e-05, w1=6.205879349942255e-06\n",
      "SGD(150/2000): loss=0.4996822927654351, w(0)=-4.7944760941946675e-05, w1=1.1552635526554412e-05\n",
      "SGD(200/2000): loss=0.5004508683288603, w(0)=-6.78994596909545e-05, w1=1.7625610953343185e-05\n",
      "SGD(250/2000): loss=0.49859196416802504, w(0)=-7.984749865458122e-05, w1=2.0587995577511925e-05\n",
      "SGD(300/2000): loss=0.4990982579625731, w(0)=-9.578437272968559e-05, w1=2.4723251728265006e-05\n",
      "SGD(350/2000): loss=0.49846444576331705, w(0)=-9.971641099391896e-05, w1=2.0373467267003593e-05\n",
      "SGD(400/2000): loss=0.4977456557015348, w(0)=-0.00011563464044298984, w1=2.0038807686669452e-05\n",
      "SGD(450/2000): loss=0.4962701472246318, w(0)=-0.00013754411309033497, w1=2.386346500751935e-05\n",
      "SGD(500/2000): loss=0.497741914210788, w(0)=-0.00015344873708556287, w1=3.0002867810959237e-05\n",
      "SGD(550/2000): loss=0.4960296159879617, w(0)=-0.00017133137411160974, w1=3.4252414092353773e-05\n",
      "SGD(600/2000): loss=0.495769454715381, w(0)=-0.00019119447199045415, w1=4.130328073805223e-05\n",
      "SGD(650/2000): loss=0.5014544723753619, w(0)=-0.00020106139794557758, w1=4.828033146085496e-05\n",
      "SGD(700/2000): loss=0.4942927400130552, w(0)=-0.0002209135183823495, w1=5.4144929398187386e-05\n",
      "SGD(750/2000): loss=0.5021327109585858, w(0)=-0.00023674684946145362, w1=6.681641803012967e-05\n",
      "SGD(800/2000): loss=0.4977870740142882, w(0)=-0.00025058299548054, w1=7.581629800672298e-05\n",
      "SGD(850/2000): loss=0.494910084582018, w(0)=-0.00026240692005097147, w1=7.718555775827922e-05\n",
      "SGD(900/2000): loss=0.5011121310874767, w(0)=-0.0002802220532879943, w1=8.054260836824795e-05\n",
      "SGD(950/2000): loss=0.5021607099917408, w(0)=-0.0003039994399230229, w1=8.81071129515282e-05\n",
      "SGD(1000/2000): loss=0.4979891235334622, w(0)=-0.00031777992958975453, w1=9.672938726943968e-05\n",
      "SGD(1050/2000): loss=0.4937641419632722, w(0)=-0.0003255667873066453, w1=0.00010174317415828217\n",
      "SGD(1100/2000): loss=0.4951162774775504, w(0)=-0.00033933617854086236, w1=0.00010783316029801273\n",
      "SGD(1150/2000): loss=0.49592313326298965, w(0)=-0.0003610805624053546, w1=0.00011602647545171457\n",
      "SGD(1200/2000): loss=0.4948951892051771, w(0)=-0.00038880357271100634, w1=0.0001282947044016858\n",
      "SGD(1250/2000): loss=0.5025665026522959, w(0)=-0.00040051972686603595, w1=0.00013322853622327218\n",
      "SGD(1300/2000): loss=0.49239565251348505, w(0)=-0.0004222330255248388, w1=0.00013974113563279322\n",
      "SGD(1350/2000): loss=0.4946794217705113, w(0)=-0.0004359157845921589, w1=0.00014479595066822583\n",
      "SGD(1400/2000): loss=0.49353319492025066, w(0)=-0.00045363565687021434, w1=0.00015303330180278479\n",
      "SGD(1450/2000): loss=0.4913435091757419, w(0)=-0.00047132742277350897, w1=0.00016304705680938303\n",
      "SGD(1500/2000): loss=0.49318246689542683, w(0)=-0.0004889963220357287, w1=0.00016987863797203503\n",
      "SGD(1550/2000): loss=0.4922816594728503, w(0)=-0.0004986099954811817, w1=0.000166548535694377\n",
      "SGD(1600/2000): loss=0.49260143269706375, w(0)=-0.0005142573440713929, w1=0.000174679997229214\n",
      "SGD(1650/2000): loss=0.5039465208941232, w(0)=-0.0005318729587398065, w1=0.00017638077167815382\n",
      "SGD(1700/2000): loss=0.4931382735075043, w(0)=-0.000547491998478004, w1=0.0001810653385201769\n",
      "SGD(1750/2000): loss=0.4891894785346663, w(0)=-0.0005610970308017202, w1=0.00018498273112648107\n",
      "SGD(1800/2000): loss=0.5091659779549885, w(0)=-0.0005806695488148911, w1=0.00019444320035198788\n",
      "SGD(1850/2000): loss=0.5045457237818477, w(0)=-0.0005962557275316456, w1=0.00019962386652138165\n",
      "SGD(1900/2000): loss=0.48281809943232623, w(0)=-0.0006217158629116671, w1=0.00020716131736855782\n",
      "SGD(1950/2000): loss=0.5080671854372798, w(0)=-0.0006312780611385714, w1=0.00021352847805164663\n",
      "SGD(2000/2000): loss=0.5051212722225311, w(0)=-0.0006408200864145556, w1=0.0002192087179551559\n",
      "SGD(50/2000): loss=0.5000802462076946, w(0)=-2.1990724906490057e-05, w1=1.6090510187800105e-05\n",
      "SGD(100/2000): loss=0.5002236483327558, w(0)=-1.9969324130842478e-05, w1=1.8736346317937352e-05\n",
      "SGD(150/2000): loss=0.4985671801879639, w(0)=-3.195188559700712e-05, w1=2.5305058328913418e-05\n",
      "SGD(200/2000): loss=0.4984146343679638, w(0)=-4.392296343802484e-05, w1=3.458526209723271e-05\n",
      "SGD(250/2000): loss=0.4984765972505082, w(0)=-6.588237823054785e-05, w1=3.698266354944256e-05\n",
      "SGD(300/2000): loss=0.4997979515674257, w(0)=-8.383062894298516e-05, w1=4.66901076001003e-05\n"
     ]
    },
    {
     "name": "stdout",
     "output_type": "stream",
     "text": [
      "SGD(350/2000): loss=0.49802377980740137, w(0)=-9.976946632167817e-05, w1=5.3045904682887175e-05\n",
      "SGD(400/2000): loss=0.4985549066697162, w(0)=-0.00011368578373648375, w1=5.8173611147130814e-05\n",
      "SGD(450/2000): loss=0.5001220725584077, w(0)=-0.00012760792876787393, w1=6.941220978822826e-05\n",
      "SGD(500/2000): loss=0.49617258762761807, w(0)=-0.0001454994499132223, w1=7.057521877947946e-05\n",
      "SGD(550/2000): loss=0.5011661275757886, w(0)=-0.0001553972033067043, w1=7.806323806288272e-05\n",
      "SGD(600/2000): loss=0.49545429233765625, w(0)=-0.0001692830815274375, w1=8.32657790262584e-05\n",
      "SGD(650/2000): loss=0.5018283159412038, w(0)=-0.0001871594960338809, w1=8.656123624170673e-05\n",
      "SGD(700/2000): loss=0.4951778131186983, w(0)=-0.00020102646223981588, w1=8.914234176609244e-05\n",
      "SGD(750/2000): loss=0.493698591206773, w(0)=-0.00020686978903618468, w1=9.116747917620688e-05\n",
      "SGD(800/2000): loss=0.5071827756469156, w(0)=-0.00021869831090553265, w1=0.00010180492886650803\n",
      "SGD(850/2000): loss=0.4933540814078508, w(0)=-0.0002325205574984475, w1=0.00010554829969263606\n",
      "SGD(900/2000): loss=0.4935966047517324, w(0)=-0.0002563348937639334, w1=0.00011709091372540916\n",
      "SGD(950/2000): loss=0.49648284647694896, w(0)=-0.00027015326165020544, w1=0.0001220966862149023\n",
      "SGD(1000/2000): loss=0.4912207219217568, w(0)=-0.0002899641679210318, w1=0.00013207665057823103\n",
      "SGD(1050/2000): loss=0.49463684329017155, w(0)=-0.00031573256688178705, w1=0.00014084540015589034\n",
      "SGD(1100/2000): loss=0.5062785388022852, w(0)=-0.00033148217906155727, w1=0.0001477811788364738\n",
      "SGD(1150/2000): loss=0.49634207770809896, w(0)=-0.00034521761077892097, w1=0.00014823754534211618\n",
      "SGD(1200/2000): loss=0.46854348965088377, w(0)=-0.00036291323839720814, w1=0.00015161920493827116\n",
      "SGD(1250/2000): loss=0.4903855374135018, w(0)=-0.0003886258999079688, w1=0.0001628019650341983\n",
      "SGD(1300/2000): loss=0.4909250221106514, w(0)=-0.00041032605541049697, w1=0.0001653487561929071\n",
      "SGD(1350/2000): loss=0.4956406918873998, w(0)=-0.0004100371616579049, w1=0.00016404206424913925\n",
      "SGD(1400/2000): loss=0.4895433341127528, w(0)=-0.0004257084480491363, w1=0.00016823894177248446\n",
      "SGD(1450/2000): loss=0.5043260233247251, w(0)=-0.0004214734824994943, w1=0.00017484777729077659\n",
      "SGD(1500/2000): loss=0.5018663420707553, w(0)=-0.0004391117475967928, w1=0.0001790085227718372\n",
      "SGD(1550/2000): loss=0.490756763965349, w(0)=-0.00046071857378428787, w1=0.00018284594037173561\n",
      "SGD(1600/2000): loss=0.4932411066144259, w(0)=-0.00046832228184904196, w1=0.00018498593562472129\n",
      "SGD(1650/2000): loss=0.49760170777765206, w(0)=-0.0004819571161868218, w1=0.00019348473802801317\n",
      "SGD(1700/2000): loss=0.5024475998508087, w(0)=-0.0005035849362002307, w1=0.00019836187346216515\n",
      "SGD(1750/2000): loss=0.4901054805850202, w(0)=-0.0005292148027343757, w1=0.00021104289575217774\n",
      "SGD(1800/2000): loss=0.48784303525484046, w(0)=-0.000544859631998516, w1=0.00021783387738418442\n",
      "SGD(1850/2000): loss=0.5065475027271238, w(0)=-0.0005484266264011042, w1=0.0002267399971910868\n",
      "SGD(1900/2000): loss=0.4947850853667505, w(0)=-0.0005600362947219586, w1=0.00023507259717844457\n",
      "SGD(1950/2000): loss=0.4864396545816698, w(0)=-0.0005736629333965211, w1=0.00024246921380879376\n",
      "SGD(2000/2000): loss=0.4928374919480324, w(0)=-0.0005852398173770442, w1=0.00024493440799620397\n",
      "SGD(50/2000): loss=0.5002490920227982, w(0)=-1.1969295139704924e-05, w1=6.02189943436152e-06\n",
      "SGD(100/2000): loss=0.5091843199076831, w(0)=-2.587643367043747e-05, w1=1.0494610937369474e-05\n",
      "SGD(150/2000): loss=0.497776392468876, w(0)=-4.9763393527234736e-05, w1=1.5170712240104008e-05\n",
      "SGD(200/2000): loss=0.5019616204237414, w(0)=-5.957039125804292e-05, w1=1.9934171647097322e-05\n",
      "SGD(250/2000): loss=0.4943723905329528, w(0)=-6.932445387519504e-05, w1=2.576733943947653e-05\n",
      "SGD(300/2000): loss=0.49374411897831433, w(0)=-8.896899290019836e-05, w1=3.444793080631636e-05\n",
      "SGD(350/2000): loss=0.49559377553384615, w(0)=-0.00011057971617143066, w1=3.981840084006786e-05\n",
      "SGD(400/2000): loss=0.5610211038548495, w(0)=-0.00012204052221539958, w1=4.119016100847744e-05\n",
      "SGD(450/2000): loss=0.4960146161119667, w(0)=-0.00013555939140223527, w1=4.4099270614815495e-05\n",
      "SGD(500/2000): loss=0.5183642537800834, w(0)=-0.00014501503743286767, w1=5.060750431057528e-05\n",
      "SGD(550/2000): loss=0.4946482596177082, w(0)=-0.000160260774321557, w1=5.6817731194190775e-05\n",
      "SGD(600/2000): loss=0.5047707159229723, w(0)=-0.0001837242962126939, w1=6.266464272334547e-05\n",
      "SGD(650/2000): loss=0.48420391761496523, w(0)=-0.00020509544864016536, w1=6.509206670634563e-05\n",
      "SGD(700/2000): loss=0.4817532453787371, w(0)=-0.0002182398686419996, w1=7.340140692571113e-05\n",
      "SGD(750/2000): loss=0.5098101824196306, w(0)=-0.00023332968361222607, w1=7.50833838527457e-05\n",
      "SGD(800/2000): loss=0.513454589615135, w(0)=-0.00024038673758755894, w1=8.855494910441334e-05\n",
      "SGD(850/2000): loss=0.4819049180976527, w(0)=-0.0002496161584600734, w1=9.601018407225409e-05\n",
      "SGD(900/2000): loss=0.49608366560998585, w(0)=-0.0002665506733822458, w1=0.00010233479253772452\n",
      "SGD(950/2000): loss=0.5279842600245437, w(0)=-0.00028334916224430275, w1=0.00011082713764374474\n",
      "SGD(1000/2000): loss=0.47661231763299594, w(0)=-0.00030008609912687254, w1=0.00011605811435170174\n",
      "SGD(1050/2000): loss=0.5148245136092738, w(0)=-0.00032062485185414314, w1=0.00011823805449886143\n",
      "SGD(1100/2000): loss=0.376570911464382, w(0)=-0.00033532549041742805, w1=0.00013015737890836995\n",
      "SGD(1150/2000): loss=0.49164689501243664, w(0)=-0.00034435323040727436, w1=0.00013929771536897007\n",
      "SGD(1200/2000): loss=0.48343816890445573, w(0)=-0.00034894041580267636, w1=0.00013758383293822573\n",
      "SGD(1250/2000): loss=0.4702301357726219, w(0)=-0.0003754561160831443, w1=0.00014107635343046942\n",
      "SGD(1300/2000): loss=0.4491447483598692, w(0)=-0.00038994595469368467, w1=0.00014970441901986214\n",
      "SGD(1350/2000): loss=0.45818567003676114, w(0)=-0.000392673271450126, w1=0.00015503613435628814\n",
      "SGD(1400/2000): loss=0.5203126767617144, w(0)=-0.00041731667255715747, w1=0.00016488045893374095\n",
      "SGD(1450/2000): loss=0.48934357350372376, w(0)=-0.0004321331097901149, w1=0.00017051468412162293\n",
      "SGD(1500/2000): loss=0.48678753288336196, w(0)=-0.00044638633648104377, w1=0.00017323504979039077\n",
      "SGD(1550/2000): loss=0.5131086476217479, w(0)=-0.00044319266891167374, w1=0.00017733586644065006\n",
      "SGD(1600/2000): loss=0.5757559760722047, w(0)=-0.00045150791082131027, w1=0.00018212504007002206\n",
      "SGD(1650/2000): loss=0.4598233087636596, w(0)=-0.0004675457440583325, w1=0.0001899267376437276\n",
      "SGD(1700/2000): loss=0.33361451734888015, w(0)=-0.0004796409221800623, w1=0.0001972549111999468\n",
      "SGD(1750/2000): loss=0.5110306922851138, w(0)=-0.0004914920238439748, w1=0.00019885536808964213\n",
      "SGD(1800/2000): loss=0.4823767311189684, w(0)=-0.0005053887383727755, w1=0.0002104378297480741\n",
      "SGD(1850/2000): loss=0.5409231952149439, w(0)=-0.0005158158665698659, w1=0.00021896519592199624\n",
      "SGD(1900/2000): loss=0.45367619166986267, w(0)=-0.0005257912727156584, w1=0.000219545859427071\n",
      "SGD(1950/2000): loss=0.47435421425351376, w(0)=-0.0005397675352991039, w1=0.00023344408151602545\n",
      "SGD(2000/2000): loss=0.25651589605762065, w(0)=-0.0005518247067739395, w1=0.00024488312501671155\n",
      "SGD(50/2000): loss=0.5000156191100678, w(0)=-1.1989127913361543e-05, w1=-3.689668428131765e-07\n",
      "SGD(100/2000): loss=0.4991906610277399, w(0)=-2.1937692235737953e-05, w1=1.0864290242025162e-06\n",
      "SGD(150/2000): loss=0.49757493169586176, w(0)=-3.591528673392359e-05, w1=7.225062732861159e-06\n",
      "SGD(200/2000): loss=0.49995672847801714, w(0)=-3.988008379471947e-05, w1=1.1504180089085314e-05\n",
      "SGD(250/2000): loss=0.4983623893876479, w(0)=-6.360802554907823e-05, w1=1.4138656703792546e-05\n",
      "SGD(300/2000): loss=0.5002607588799717, w(0)=-7.71059561475871e-05, w1=7.669087202575038e-06\n",
      "SGD(350/2000): loss=0.503592255045969, w(0)=-8.480778035147235e-05, w1=1.566952362035152e-05\n",
      "SGD(400/2000): loss=0.5027662449275011, w(0)=-9.452333841373887e-05, w1=1.9832303655338873e-05\n",
      "SGD(450/2000): loss=0.5020923376210207, w(0)=-0.0001178887696518416, w1=3.028056821726613e-05\n",
      "SGD(500/2000): loss=0.491512563983765, w(0)=-0.00012952913406269194, w1=4.086557722145781e-05\n",
      "SGD(550/2000): loss=0.5056829370673107, w(0)=-0.00013906273267863737, w1=5.300806248854202e-05\n"
     ]
    }
   ],
   "source": [
    "method_flag = 2\n",
    "degrees = np.asarray(range(1,6))\n",
    "lambdas = np.asarray([0])\n",
    "best_degree, best_lambda, accuracy_score, accuracy_scores_grid = degree_lambda_grid_search(y,tX,[22],0.8,method_flag,degrees,lambdas)\n",
    "print(best_degree)\n",
    "print(best_lambda)\n",
    "print(accuracy_score)\n",
    "print(accuracy_scores_grid)"
   ]
  },
  {
   "cell_type": "markdown",
   "metadata": {},
   "source": [
    "### Least squares"
   ]
  },
  {
   "cell_type": "code",
   "execution_count": 51,
   "metadata": {},
   "outputs": [
    {
     "name": "stdout",
     "output_type": "stream",
     "text": [
      "1\n",
      "0\n",
      "0.6566\n",
      "[[0.6566]\n",
      " [0.3434]\n",
      " [0.3434]\n",
      " [0.3434]\n",
      " [0.6566]\n",
      " [0.6566]\n",
      " [0.6566]\n",
      " [0.3434]\n",
      " [0.3434]\n",
      " [0.6566]]\n"
     ]
    }
   ],
   "source": [
    "method_flag = 3\n",
    "degrees = np.asarray(range(1,11))\n",
    "lambdas = np.asarray([0])\n",
    "best_degree, best_lambda, accuracy_score, accuracy_scores_grid = degree_lambda_grid_search(y,tX,[22],0.8,method_flag,degrees,lambdas)\n",
    "print(best_degree)\n",
    "print(best_lambda)\n",
    "print(accuracy_score)\n",
    "print(accuracy_scores_grid)"
   ]
  },
  {
   "cell_type": "markdown",
   "metadata": {},
   "source": [
    "### Ridge regression"
   ]
  },
  {
   "cell_type": "code",
   "execution_count": 49,
   "metadata": {},
   "outputs": [
    {
     "name": "stdout",
     "output_type": "stream",
     "text": [
      "7\n",
      "1e-05\n",
      "0.81796\n",
      "[[0.7472  0.7472  0.7472  0.7472  0.7472  0.7472  0.74716 0.74722 0.74524\n",
      "  0.7368  0.7141 ]\n",
      " [0.7976  0.7976  0.7976  0.7976  0.7976  0.79758 0.79764 0.79778 0.79572\n",
      "  0.78564 0.7342 ]\n",
      " [0.81312 0.81312 0.81312 0.81312 0.81316 0.81308 0.81294 0.81306 0.80954\n",
      "  0.79208 0.74434]\n",
      " [0.81652 0.81652 0.81652 0.81652 0.8166  0.81652 0.8163  0.8158  0.8109\n",
      "  0.79326 0.75144]\n",
      " [0.81682 0.81682 0.8168  0.81688 0.817   0.81688 0.81668 0.81608 0.81152\n",
      "  0.7954  0.75406]\n",
      " [0.8169  0.8169  0.8169  0.8169  0.817   0.817   0.81724 0.81592 0.81226\n",
      "  0.79798 0.757  ]\n",
      " [0.81764 0.81766 0.81772 0.81776 0.8177  0.81796 0.8177  0.8162  0.81238\n",
      "  0.7986  0.75744]\n",
      " [0.81658 0.8166  0.81656 0.8165  0.8172  0.81764 0.81724 0.81626 0.81274\n",
      "  0.79916 0.75818]\n",
      " [0.81654 0.81656 0.81668 0.81678 0.81752 0.81786 0.81766 0.81642 0.81342\n",
      "  0.8     0.75708]]\n"
     ]
    }
   ],
   "source": [
    "method_flag = 4\n",
    "degrees = np.asarray(range(1,10))\n",
    "lambdas = np.logspace(-10,0,11)\n",
    "best_degree, best_lambda, accuracy_score, accuracy_scores_grid = degree_lambda_grid_search(y,tX,[22],0.8,method_flag,degrees,lambdas)\n",
    "print(best_degree)\n",
    "print(best_lambda)\n",
    "print(accuracy_score)\n",
    "print(accuracy_scores_grid)"
   ]
  },
  {
   "cell_type": "markdown",
   "metadata": {},
   "source": [
    "## Explore feature 12: Det_met_phi_centrality"
   ]
  },
  {
   "cell_type": "markdown",
   "metadata": {},
   "source": [
    "## Ridge regression"
   ]
  },
  {
   "cell_type": "code",
   "execution_count": null,
   "metadata": {},
   "outputs": [],
   "source": [
    "# lambdas = np.logspace(-10, 0, 20)\n",
    "# k_fold = 4 \n",
    "# seed = 7\n",
    "# best_lambda, lambda_rmse_tr, lambda_rmse_te = cross_validation_ridge_reg_best_lambda(y_train, x_train, lambdas, k_fold, seed)"
   ]
  },
  {
   "cell_type": "code",
   "execution_count": null,
   "metadata": {},
   "outputs": [],
   "source": [
    "# best degree 17 already found\n",
    "# lambdas = [0.0000001]\n",
    "# degrees = np.arange(1,20)\n",
    "# seed = 7\n",
    "# best_degree, best_lambda, deg_lambda_rmse_tr, deg_lambda_rmse_te = cross_validation_ridge_reg_best_degree_best_lambda(y_train, x_train, degrees, lambdas, k_fold, seed)"
   ]
  },
  {
   "cell_type": "code",
   "execution_count": null,
   "metadata": {},
   "outputs": [],
   "source": [
    "# plt.plot(degrees,deg_lambda_rmse_tr,label = 'train error')\n",
    "# plt.plot(degrees,deg_lambda_rmse_te,label = 'test error')\n",
    "# plt.grid()\n",
    "# plt.legend(loc = 2)\n",
    "# plt.show()"
   ]
  },
  {
   "cell_type": "code",
   "execution_count": null,
   "metadata": {},
   "outputs": [],
   "source": [
    "# print(best_degree)\n",
    "# print(best_lambda)"
   ]
  },
  {
   "cell_type": "code",
   "execution_count": null,
   "metadata": {},
   "outputs": [],
   "source": [
    "# plt.semilogx(lambdas,lambda_rmse_tr,label = 'train error')\n",
    "# plt.semilogx(lambdas,lambda_rmse_te,label = 'test error')\n",
    "# # plt.plot(lambdas,rmse_tr,label = 'train error')\n",
    "# # plt.plot(lambdas,rmse_te,label = 'test error')\n",
    "# plt.grid()\n",
    "# plt.legend(loc = 2)\n",
    "# plt.show()"
   ]
  },
  {
   "cell_type": "code",
   "execution_count": null,
   "metadata": {},
   "outputs": [],
   "source": [
    "# print(best_lambda)"
   ]
  },
  {
   "cell_type": "code",
   "execution_count": 41,
   "metadata": {},
   "outputs": [],
   "source": [
    "best_lambda = 1e-5\n",
    "lambda_ = best_lambda\n",
    "weights, loss = ridge_regression(y_train,x_train,lambda_)"
   ]
  },
  {
   "cell_type": "markdown",
   "metadata": {},
   "source": [
    "## Least squares"
   ]
  },
  {
   "cell_type": "code",
   "execution_count": null,
   "metadata": {},
   "outputs": [],
   "source": [
    "# weights = least_squares(y_train,x_train)"
   ]
  },
  {
   "cell_type": "markdown",
   "metadata": {},
   "source": [
    "## Generate predictions and save ouput in csv format for submission:"
   ]
  },
  {
   "cell_type": "code",
   "execution_count": 42,
   "metadata": {},
   "outputs": [],
   "source": [
    "y_pred = predict_labels(weights, x_val)\n",
    "y_val = relabel_y_negative(y_val)"
   ]
  },
  {
   "cell_type": "code",
   "execution_count": 43,
   "metadata": {},
   "outputs": [
    {
     "name": "stdout",
     "output_type": "stream",
     "text": [
      "[[29050  3720]\n",
      " [ 5552 11678]]\n",
      "0.81456\n",
      "0.7158268971435577\n",
      "0.677771329077191\n",
      "0.7584101831406677\n"
     ]
    }
   ],
   "source": [
    "# Just to check\n",
    "from sklearn.metrics import confusion_matrix,accuracy_score, f1_score, recall_score, precision_score\n",
    "print(confusion_matrix(y_val,y_pred))\n",
    "print(accuracy_score(y_val,y_pred))\n",
    "print(f1_score(y_val,y_pred))\n",
    "print(recall_score(y_val,y_pred))\n",
    "print(precision_score(y_val,y_pred))"
   ]
  },
  {
   "cell_type": "code",
   "execution_count": 44,
   "metadata": {},
   "outputs": [
    {
     "data": {
      "text/plain": [
       "(array([-1.,  1.]), array([34602, 15398]))"
      ]
     },
     "execution_count": 44,
     "metadata": {},
     "output_type": "execute_result"
    }
   ],
   "source": [
    "get_label_y_counts(y_pred)"
   ]
  },
  {
   "cell_type": "code",
   "execution_count": 46,
   "metadata": {},
   "outputs": [],
   "source": [
    "OUTPUT_PATH = '../results/ridge_reg_submission.csv' # TODO: fill in desired name of output file for submission\n",
    "y_pred = predict_labels(weights, x_test)\n",
    "create_csv_submission(ids_test, y_pred, OUTPUT_PATH)"
   ]
  }
 ],
 "metadata": {
  "anaconda-cloud": {},
  "kernelspec": {
   "display_name": "Python (ml_2019)",
   "language": "python",
   "name": "ml_2019"
  },
  "language_info": {
   "codemirror_mode": {
    "name": "ipython",
    "version": 3
   },
   "file_extension": ".py",
   "mimetype": "text/x-python",
   "name": "python",
   "nbconvert_exporter": "python",
   "pygments_lexer": "ipython3",
   "version": "3.7.3"
  }
 },
 "nbformat": 4,
 "nbformat_minor": 1
}
