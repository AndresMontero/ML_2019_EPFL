{
 "cells": [
  {
   "cell_type": "code",
   "execution_count": 1,
   "metadata": {},
   "outputs": [],
   "source": [
    "# Useful starting lines\n",
    "%matplotlib inline\n",
    "import numpy as np\n",
    "import matplotlib.pyplot as plt\n",
    "%load_ext autoreload\n",
    "%autoreload 2"
   ]
  },
  {
   "cell_type": "markdown",
   "metadata": {},
   "source": [
    "## Load the training data into feature matrix, class labels, and event ids:"
   ]
  },
  {
   "cell_type": "code",
   "execution_count": 2,
   "metadata": {},
   "outputs": [],
   "source": [
    "from proj1_helpers import *\n",
    "DATA_TRAIN_PATH = '../data/train.csv' # TODO: download train data and supply path here \n",
    "y, tX, ids = load_csv_data(DATA_TRAIN_PATH)\n",
    "DATA_TEST_PATH = '../data/test.csv' # TODO: download train data and supply path here \n",
    "y_test, tX_test, ids_test = load_csv_data(DATA_TEST_PATH)"
   ]
  },
  {
   "cell_type": "markdown",
   "metadata": {},
   "source": [
    "## Do your thing crazy machine learning thing here :) ..."
   ]
  },
  {
   "cell_type": "markdown",
   "metadata": {},
   "source": [
    "### Explore the data"
   ]
  },
  {
   "cell_type": "code",
   "execution_count": 3,
   "metadata": {},
   "outputs": [
    {
     "name": "stdout",
     "output_type": "stream",
     "text": [
      "tX nan counts: [0 0 0 0 0 0 0 0 0 0 0 0 0 0 0 0 0 0 0 0 0 0 0 0 0 0 0 0 0 0]\n"
     ]
    }
   ],
   "source": [
    "# Count nan values\n",
    "# No Nan values !!! However there can be undefined values (see dataset documentation)\n",
    "tX_nan_count = np.sum(np.where(tX == np.nan, 1, 0), axis = 0)\n",
    "print(\"tX nan counts: \"+str(tX_nan_count))"
   ]
  },
  {
   "cell_type": "code",
   "execution_count": 42,
   "metadata": {},
   "outputs": [
    {
     "data": {
      "text/plain": [
       "array([[1, 2, 3],\n",
       "       [4, 5, 6],\n",
       "       [7, 8, 9]])"
      ]
     },
     "execution_count": 42,
     "metadata": {},
     "output_type": "execute_result"
    }
   ],
   "source": [
    "a = np.asarray([[1,2,3],[4,5,6],[7,8,9]])\n",
    "b = a\n",
    "b"
   ]
  },
  {
   "cell_type": "code",
   "execution_count": 46,
   "metadata": {},
   "outputs": [
    {
     "data": {
      "text/plain": [
       "4.0"
      ]
     },
     "execution_count": 46,
     "metadata": {},
     "output_type": "execute_result"
    }
   ],
   "source": [
    "np.median(a)"
   ]
  },
  {
   "cell_type": "code",
   "execution_count": 43,
   "metadata": {},
   "outputs": [],
   "source": [
    "b[2,1]=2"
   ]
  },
  {
   "cell_type": "code",
   "execution_count": 44,
   "metadata": {},
   "outputs": [
    {
     "name": "stdout",
     "output_type": "stream",
     "text": [
      "[[1 2 3]\n",
      " [4 5 6]\n",
      " [7 2 9]]\n"
     ]
    }
   ],
   "source": [
    "print(a)"
   ]
  },
  {
   "cell_type": "code",
   "execution_count": 45,
   "metadata": {},
   "outputs": [
    {
     "name": "stdout",
     "output_type": "stream",
     "text": [
      "[[1 2 3]\n",
      " [4 5 6]\n",
      " [7 2 9]]\n"
     ]
    }
   ],
   "source": [
    "print(b)"
   ]
  },
  {
   "cell_type": "code",
   "execution_count": null,
   "metadata": {},
   "outputs": [],
   "source": []
  },
  {
   "cell_type": "code",
   "execution_count": 4,
   "metadata": {},
   "outputs": [],
   "source": [
    "# def getNanStatistics(tX,axis = 0):\n",
    "#     print(\"Means: \" + str(np.nanmean(tX,axis = axis)))\n",
    "#     print(\"Standard devs: \" + str(np.nanstd(tX,axis = axis)))\n",
    "#     print(\"Max values: \" + str(np.nanmax(tX,axis = axis)))\n",
    "#     print(\"Min values: \" + str(np.nanmin(tX,axis = axis)))"
   ]
  },
  {
   "cell_type": "code",
   "execution_count": 5,
   "metadata": {},
   "outputs": [],
   "source": [
    "# def plot_feature_box_plots:\n",
    "#     # TODO"
   ]
  },
  {
   "cell_type": "code",
   "execution_count": 6,
   "metadata": {},
   "outputs": [
    {
     "data": {
      "text/plain": [
       "array([[ 1.00000000e+00, -4.55754982e-01,  1.68547985e-01,\n",
       "         1.98764690e-01,  1.62660860e-01,  1.60523916e-01,\n",
       "         1.62521066e-01,  2.28104685e-01,  4.58258755e-02,\n",
       "         2.01464410e-01, -1.70725931e-02,  3.58962714e-01,\n",
       "         1.62623001e-01,  1.31495478e-01,  2.57909175e-03,\n",
       "        -6.17683359e-03,  9.94446173e-02,  1.00600077e-02,\n",
       "        -7.44499050e-04, -2.33723570e-01,  7.41075286e-03,\n",
       "         2.21984489e-01,  2.21077743e-01,  2.50158444e-01,\n",
       "         2.47083378e-01,  2.47078209e-01,  1.62835955e-01,\n",
       "         1.62613682e-01,  1.62609042e-01,  1.85371791e-01],\n",
       "       [-4.55754982e-01,  1.00000000e+00,  1.90109488e-01,\n",
       "        -2.49115929e-01, -1.76386051e-01, -1.90392025e-01,\n",
       "        -1.75941781e-01,  4.32514093e-02,  1.77575270e-02,\n",
       "        -1.46836679e-01,  3.49503614e-01, -4.19757335e-01,\n",
       "        -1.76262284e-01, -1.45464145e-01, -2.10917148e-03,\n",
       "         1.13208392e-03,  3.10647518e-01, -6.77706784e-03,\n",
       "         3.40330242e-04,  1.83716377e-01, -1.59253407e-02,\n",
       "        -1.67810640e-01, -2.10537065e-01, -2.29674008e-01,\n",
       "        -2.20369870e-01, -2.20354527e-01, -1.76837101e-01,\n",
       "        -1.76230870e-01, -1.76225179e-01, -2.10008918e-01],\n",
       "       [ 1.68547985e-01,  1.90109488e-01,  1.00000000e+00,\n",
       "        -6.25620208e-02, -3.22510184e-02, -4.06198304e-02,\n",
       "        -3.21259234e-02,  5.79711617e-01, -7.02133930e-04,\n",
       "         8.86852442e-02,  9.74898450e-02, -9.08458625e-02,\n",
       "        -3.22198332e-02,  2.90011159e-01,  2.12659787e-03,\n",
       "        -3.62409575e-03,  4.05482441e-01,  2.19565980e-03,\n",
       "        -2.01753299e-03, -8.73303668e-02, -1.46677423e-03,\n",
       "         5.33004391e-02, -2.68600335e-02, -1.91508056e-02,\n",
       "        -1.37493798e-02, -1.37422908e-02, -3.31883843e-02,\n",
       "        -3.22024799e-02, -3.22063122e-02, -5.29024313e-02],\n",
       "       [ 1.98764690e-01, -2.49115929e-01, -6.25620208e-02,\n",
       "         1.00000000e+00,  5.23663964e-01,  5.34530776e-01,\n",
       "         5.23638525e-01, -5.39379215e-01,  3.10500986e-01,\n",
       "         8.32733067e-01,  8.91873653e-02,  5.39356019e-01,\n",
       "         5.23719517e-01,  4.07421442e-01,  1.66538737e-03,\n",
       "         5.24780759e-03,  3.60938860e-01,  8.35423036e-03,\n",
       "        -2.92303668e-03,  6.79585496e-01,  8.58492456e-03,\n",
       "         7.82546973e-01,  6.23401443e-01,  6.21599153e-01,\n",
       "         5.64898090e-01,  5.64893830e-01,  5.31647023e-01,\n",
       "         5.23713649e-01,  5.23702853e-01,  8.08616264e-01],\n",
       "       [ 1.62660860e-01, -1.76386051e-01, -3.22510184e-02,\n",
       "         5.23663964e-01,  1.00000000e+00,  9.46044545e-01,\n",
       "         9.99981428e-01, -2.99075560e-01,  2.70878283e-01,\n",
       "         6.71996111e-01,  4.13071695e-02,  3.68491754e-01,\n",
       "         9.99998386e-01,  1.88086276e-01,  4.86572349e-03,\n",
       "         3.30194868e-03,  1.68038504e-01,  8.67757839e-03,\n",
       "         6.93431214e-05,  3.05561021e-01,  5.24491021e-03,\n",
       "         6.19099852e-01,  8.67521452e-01,  5.45027188e-01,\n",
       "         5.21657080e-01,  5.21664187e-01,  9.99346370e-01,\n",
       "         9.99994930e-01,  9.99995543e-01,  7.12446341e-01],\n",
       "       [ 1.60523916e-01, -1.90392025e-01, -4.06198304e-02,\n",
       "         5.34530776e-01,  9.46044545e-01,  1.00000000e+00,\n",
       "         9.44442751e-01, -3.03750865e-01,  2.47770895e-01,\n",
       "         6.80700296e-01,  2.76744813e-02,  3.69802877e-01,\n",
       "         9.45584128e-01,  2.04106292e-01,  3.58417289e-03,\n",
       "         3.32135484e-03,  1.64025631e-01,  7.60170288e-03,\n",
       "        -5.96349011e-04,  3.18496980e-01,  5.16707002e-03,\n",
       "         6.17056751e-01,  8.14190698e-01,  5.21645058e-01,\n",
       "         4.93232893e-01,  4.93240703e-01,  9.47651806e-01,\n",
       "         9.45505426e-01,  9.45506847e-01,  7.19961764e-01],\n",
       "       [ 1.62521066e-01, -1.75941781e-01, -3.21259234e-02,\n",
       "         5.23638525e-01,  9.99981428e-01,  9.44442751e-01,\n",
       "         1.00000000e+00, -2.99082916e-01,  2.71435125e-01,\n",
       "         6.72157996e-01,  4.16138042e-02,  3.68176820e-01,\n",
       "         9.99989675e-01,  1.87935865e-01,  4.87979318e-03,\n",
       "         3.30876569e-03,  1.68270342e-01,  8.69225164e-03,\n",
       "         6.96418798e-05,  3.05677598e-01,  5.25448048e-03,\n",
       "         6.19388140e-01,  8.67741115e-01,  5.45021783e-01,\n",
       "         5.21653433e-01,  5.21660539e-01,  9.99346574e-01,\n",
       "         9.99987978e-01,  9.99988607e-01,  7.12619645e-01],\n",
       "       [ 2.28104685e-01,  4.32514093e-02,  5.79711617e-01,\n",
       "        -5.39379215e-01, -2.99075560e-01, -3.03750865e-01,\n",
       "        -2.99082916e-01,  1.00000000e+00, -1.48080792e-01,\n",
       "        -4.32603440e-01,  4.70461910e-02, -2.05441498e-01,\n",
       "        -2.99114676e-01, -2.02034990e-01,  3.63222718e-03,\n",
       "        -1.12290140e-02, -6.99566710e-02,  6.98828711e-04,\n",
       "        -7.75533717e-04, -4.02344914e-01, -1.56977134e-03,\n",
       "        -4.07001779e-01, -3.47904428e-01, -3.35851026e-01,\n",
       "        -3.04160863e-01, -3.04145415e-01, -3.03415997e-01,\n",
       "        -2.99106895e-01, -2.99101137e-01, -4.48736959e-01],\n",
       "       [ 4.58258755e-02,  1.77575270e-02, -7.02133930e-04,\n",
       "         3.10500986e-01,  2.70878283e-01,  2.47770895e-01,\n",
       "         2.71435125e-01, -1.48080792e-01,  1.00000000e+00,\n",
       "         3.81159784e-01,  3.91929033e-02,  1.78447907e-01,\n",
       "         2.71057555e-01,  9.57537343e-02,  3.59589562e-03,\n",
       "         1.45218847e-03,  1.09616567e-01,  7.98658714e-03,\n",
       "        -4.24944774e-03,  2.69738662e-01,  2.51483681e-03,\n",
       "         4.48925314e-01,  3.60408539e-01,  2.02920305e-01,\n",
       "         1.86564365e-01,  1.86589808e-01,  2.79202548e-01,\n",
       "         2.71099524e-01,  2.71090938e-01,  4.03382429e-01],\n",
       "       [ 2.01464410e-01, -1.46836679e-01,  8.86852442e-02,\n",
       "         8.32733067e-01,  6.71996111e-01,  6.80700296e-01,\n",
       "         6.72157996e-01, -4.32603440e-01,  3.81159784e-01,\n",
       "         1.00000000e+00,  1.08791092e-01,  4.20679094e-01,\n",
       "         6.72116431e-01,  4.85847266e-01,  2.03714117e-03,\n",
       "         3.93111283e-03,  4.60938009e-01,  8.78088490e-03,\n",
       "        -1.89187658e-03,  5.20129360e-01,  6.71204642e-03,\n",
       "         9.04481460e-01,  7.58503365e-01,  6.38795579e-01,\n",
       "         5.78615522e-01,  5.78620503e-01,  6.87465097e-01,\n",
       "         6.72124562e-01,  6.72114165e-01,  9.65628389e-01],\n",
       "       [-1.70725931e-02,  3.49503614e-01,  9.74898450e-02,\n",
       "         8.91873653e-02,  4.13071695e-02,  2.76744813e-02,\n",
       "         4.16138042e-02,  4.70461910e-02,  3.91929033e-02,\n",
       "         1.08791092e-01,  1.00000000e+00, -3.88026683e-02,\n",
       "         4.14107478e-02, -4.74632543e-01,  6.10941846e-04,\n",
       "         3.62980332e-06,  7.01142221e-01,  2.35700884e-03,\n",
       "        -5.05298243e-03,  5.33855895e-02, -1.18609466e-03,\n",
       "         4.99035735e-02,  5.63119708e-02,  4.90898283e-02,\n",
       "         4.33231291e-02,  4.33135446e-02,  4.25507952e-02,\n",
       "         4.14345828e-02,  4.14359943e-02,  7.91164238e-02],\n",
       "       [ 3.58962714e-01, -4.19757335e-01, -9.08458625e-02,\n",
       "         5.39356019e-01,  3.68491754e-01,  3.69802877e-01,\n",
       "         3.68176820e-01, -2.05441498e-01,  1.78447907e-01,\n",
       "         4.20679094e-01, -3.88026683e-02,  1.00000000e+00,\n",
       "         3.68416799e-01,  1.40884832e-01,  5.95349136e-03,\n",
       "        -1.55746492e-03,  5.40470955e-02,  1.24227180e-02,\n",
       "         2.78032382e-04,  1.80755937e-01,  9.89574009e-03,\n",
       "         4.23362756e-01,  4.90057064e-01,  5.48612552e-01,\n",
       "         5.34409047e-01,  5.34398769e-01,  3.69592718e-01,\n",
       "         3.68389703e-01,  3.68381007e-01,  4.52224428e-01],\n",
       "       [ 1.62623001e-01, -1.76262284e-01, -3.22198332e-02,\n",
       "         5.23719517e-01,  9.99998386e-01,  9.45584128e-01,\n",
       "         9.99989675e-01, -2.99114676e-01,  2.71057555e-01,\n",
       "         6.72116431e-01,  4.14107478e-02,  3.68416799e-01,\n",
       "         1.00000000e+00,  1.88072953e-01,  4.87005582e-03,\n",
       "         3.30461515e-03,  1.68143994e-01,  8.68338922e-03,\n",
       "         6.91882009e-05,  3.05645005e-01,  5.24871372e-03,\n",
       "         6.19254232e-01,  8.67599486e-01,  5.45034532e-01,\n",
       "         5.21658142e-01,  5.21665244e-01,  9.99354631e-01,\n",
       "         9.99996976e-01,  9.99997557e-01,  7.12567675e-01],\n",
       "       [ 1.31495478e-01, -1.45464145e-01,  2.90011159e-01,\n",
       "         4.07421442e-01,  1.88086276e-01,  2.04106292e-01,\n",
       "         1.87935865e-01, -2.02034990e-01,  9.57537343e-02,\n",
       "         4.85847266e-01, -4.74632543e-01,  1.40884832e-01,\n",
       "         1.88072953e-01,  1.00000000e+00, -2.66115677e-03,\n",
       "         8.22311688e-04,  1.04553355e-01,  5.34862102e-05,\n",
       "         3.05201859e-03,  1.76664619e-01,  3.29631535e-03,\n",
       "         4.48763409e-01,  2.05604443e-01,  1.99011083e-01,\n",
       "         1.70910046e-01,  1.70919184e-01,  1.91675513e-01,\n",
       "         1.88058849e-01,  1.88049394e-01,  3.21341065e-01],\n",
       "       [ 2.57909175e-03, -2.10917148e-03,  2.12659787e-03,\n",
       "         1.66538737e-03,  4.86572349e-03,  3.58417289e-03,\n",
       "         4.87979318e-03,  3.63222718e-03,  3.59589562e-03,\n",
       "         2.03714117e-03,  6.10941846e-04,  5.95349136e-03,\n",
       "         4.87005582e-03, -2.66115677e-03,  1.00000000e+00,\n",
       "        -1.32235394e-03, -3.33015389e-03,  5.57086147e-01,\n",
       "         1.70506739e-03,  5.75641628e-04,  5.81602311e-04,\n",
       "         2.84136897e-03,  7.46750043e-03,  9.04346704e-03,\n",
       "         9.79189146e-03,  9.32846115e-03,  4.79679343e-03,\n",
       "         5.06484477e-03,  4.87248609e-03,  3.76298508e-03],\n",
       "       [-6.17683359e-03,  1.13208392e-03, -3.62409575e-03,\n",
       "         5.24780759e-03,  3.30194868e-03,  3.32135484e-03,\n",
       "         3.30876569e-03, -1.12290140e-02,  1.45218847e-03,\n",
       "         3.93111283e-03,  3.62980332e-06, -1.55746492e-03,\n",
       "         3.30461515e-03,  8.22311688e-04, -1.32235394e-03,\n",
       "         1.00000000e+00, -1.73666668e-03, -3.92276097e-03,\n",
       "        -2.07026194e-01,  6.13144528e-03,  3.29229820e-02,\n",
       "         5.21409703e-03,  3.04039484e-03,  3.69629360e-03,\n",
       "         3.36672172e-03,  2.94942153e-03,  3.38208697e-03,\n",
       "         3.30849151e-03,  3.18574063e-03,  4.84354984e-03],\n",
       "       [ 9.94446173e-02,  3.10647518e-01,  4.05482441e-01,\n",
       "         3.60938860e-01,  1.68038504e-01,  1.64025631e-01,\n",
       "         1.68270342e-01, -6.99566710e-02,  1.09616567e-01,\n",
       "         4.60938009e-01,  7.01142221e-01,  5.40470955e-02,\n",
       "         1.68143994e-01,  1.04553355e-01, -3.33015389e-03,\n",
       "        -1.73666668e-03,  1.00000000e+00,  3.36789923e-04,\n",
       "        -2.93570124e-03,  1.70544668e-01,  4.16731795e-04,\n",
       "         3.58487694e-01,  1.95738264e-01,  1.83275641e-01,\n",
       "         1.58860386e-01,  1.58856629e-01,  1.71792178e-01,\n",
       "         1.68157324e-01,  1.68156190e-01,  2.95107585e-01],\n",
       "       [ 1.00600077e-02, -6.77706784e-03,  2.19565980e-03,\n",
       "         8.35423036e-03,  8.67757839e-03,  7.60170288e-03,\n",
       "         8.69225164e-03,  6.98828711e-04,  7.98658714e-03,\n",
       "         8.78088490e-03,  2.35700884e-03,  1.24227180e-02,\n",
       "         8.68338922e-03,  5.34862102e-05,  5.57086147e-01,\n",
       "        -3.92276097e-03,  3.36789923e-04,  1.00000000e+00,\n",
       "         8.89610029e-04,  8.52693610e-04,  1.76466028e-03,\n",
       "         1.02312351e-02,  1.60537247e-02,  2.06874292e-02,\n",
       "         2.16606752e-02,  2.11586377e-02,  8.64900141e-03,\n",
       "         8.88678428e-03,  8.68884110e-03,  1.02776709e-02],\n",
       "       [-7.44499050e-04,  3.40330242e-04, -2.01753299e-03,\n",
       "        -2.92303668e-03,  6.93431214e-05, -5.96349011e-04,\n",
       "         6.96418798e-05, -7.75533717e-04, -4.24944774e-03,\n",
       "        -1.89187658e-03, -5.05298243e-03,  2.78032382e-04,\n",
       "         6.91882009e-05,  3.05201859e-03,  1.70506739e-03,\n",
       "        -2.07026194e-01, -2.93570124e-03,  8.89610029e-04,\n",
       "         1.00000000e+00, -2.16782404e-03,  2.31565308e-02,\n",
       "        -5.70590696e-03, -3.97507634e-05,  2.13694900e-04,\n",
       "         5.43513511e-04, -1.04346524e-04, -3.26107873e-06,\n",
       "         6.15349431e-05, -9.38905880e-05, -2.27033888e-03],\n",
       "       [-2.33723570e-01,  1.83716377e-01, -8.73303668e-02,\n",
       "         6.79585496e-01,  3.05561021e-01,  3.18496980e-01,\n",
       "         3.05677598e-01, -4.02344914e-01,  2.69738662e-01,\n",
       "         5.20129360e-01,  5.33855895e-02,  1.80755937e-01,\n",
       "         3.05645005e-01,  1.76664619e-01,  5.75641628e-04,\n",
       "         6.13144528e-03,  1.70544668e-01,  8.52693610e-04,\n",
       "        -2.16782404e-03,  1.00000000e+00,  8.42006588e-04,\n",
       "         4.86252045e-01,  3.34922045e-01,  2.99556925e-01,\n",
       "         2.52508689e-01,  2.52520393e-01,  3.12843780e-01,\n",
       "         3.05654940e-01,  3.05644862e-01,  5.35217231e-01],\n",
       "       [ 7.41075286e-03, -1.59253407e-02, -1.46677423e-03,\n",
       "         8.58492456e-03,  5.24491021e-03,  5.16707002e-03,\n",
       "         5.25448048e-03, -1.56977134e-03,  2.51483681e-03,\n",
       "         6.71204642e-03, -1.18609466e-03,  9.89574009e-03,\n",
       "         5.24871372e-03,  3.29631535e-03,  5.81602311e-04,\n",
       "         3.29229820e-02,  4.16731795e-04,  1.76466028e-03,\n",
       "         2.31565308e-02,  8.42006588e-04,  1.00000000e+00,\n",
       "         4.65426728e-03,  6.57460372e-03,  6.80531057e-03,\n",
       "         6.45479093e-03,  5.80293959e-03,  5.31051507e-03,\n",
       "         5.23787259e-03,  5.09862787e-03,  7.07594222e-03],\n",
       "       [ 2.21984489e-01, -1.67810640e-01,  5.33004391e-02,\n",
       "         7.82546973e-01,  6.19099852e-01,  6.17056751e-01,\n",
       "         6.19388140e-01, -4.07001779e-01,  4.48925314e-01,\n",
       "         9.04481460e-01,  4.99035735e-02,  4.23362756e-01,\n",
       "         6.19254232e-01,  4.48763409e-01,  2.84136897e-03,\n",
       "         5.21409703e-03,  3.58487694e-01,  1.02312351e-02,\n",
       "        -5.70590696e-03,  4.86252045e-01,  4.65426728e-03,\n",
       "         1.00000000e+00,  7.05881674e-01,  5.95120577e-01,\n",
       "         5.41377146e-01,  5.41388895e-01,  6.33111415e-01,\n",
       "         6.19272039e-01,  6.19263541e-01,  8.84412857e-01],\n",
       "       [ 2.21077743e-01, -2.10537065e-01, -2.68600335e-02,\n",
       "         6.23401443e-01,  8.67521452e-01,  8.14190698e-01,\n",
       "         8.67741115e-01, -3.47904428e-01,  3.60408539e-01,\n",
       "         7.58503365e-01,  5.63119708e-02,  4.90057064e-01,\n",
       "         8.67599486e-01,  2.05604443e-01,  7.46750043e-03,\n",
       "         3.04039484e-03,  1.95738264e-01,  1.60537247e-02,\n",
       "        -3.97507634e-05,  3.34922045e-01,  6.57460372e-03,\n",
       "         7.05881674e-01,  1.00000000e+00,  8.32493313e-01,\n",
       "         8.17360118e-01,  8.17367396e-01,  8.69620617e-01,\n",
       "         8.67613584e-01,  8.67609765e-01,  8.04325594e-01],\n",
       "       [ 2.50158444e-01, -2.29674008e-01, -1.91508056e-02,\n",
       "         6.21599153e-01,  5.45027188e-01,  5.21645058e-01,\n",
       "         5.45021783e-01, -3.35851026e-01,  2.02920305e-01,\n",
       "         6.38795579e-01,  4.90898283e-02,  5.48612552e-01,\n",
       "         5.45034532e-01,  1.99011083e-01,  9.04346704e-03,\n",
       "         3.69629360e-03,  1.83275641e-01,  2.06874292e-02,\n",
       "         2.13694900e-04,  2.99556925e-01,  6.80531057e-03,\n",
       "         5.95120577e-01,  8.32493313e-01,  1.00000000e+00,\n",
       "         9.96100012e-01,  9.96099796e-01,  5.46079178e-01,\n",
       "         5.45032744e-01,  5.45032539e-01,  6.67325392e-01],\n",
       "       [ 2.47083378e-01, -2.20369870e-01, -1.37493798e-02,\n",
       "         5.64898090e-01,  5.21657080e-01,  4.93232893e-01,\n",
       "         5.21653433e-01, -3.04160863e-01,  1.86564365e-01,\n",
       "         5.78615522e-01,  4.33231291e-02,  5.34409047e-01,\n",
       "         5.21658142e-01,  1.70910046e-01,  9.79189146e-03,\n",
       "         3.36672172e-03,  1.58860386e-01,  2.16606752e-02,\n",
       "         5.43513511e-04,  2.52508689e-01,  6.45479093e-03,\n",
       "         5.41377146e-01,  8.17360118e-01,  9.96100012e-01,\n",
       "         1.00000000e+00,  9.99991837e-01,  5.21321960e-01,\n",
       "         5.21655606e-01,  5.21656989e-01,  6.08205483e-01],\n",
       "       [ 2.47078209e-01, -2.20354527e-01, -1.37422908e-02,\n",
       "         5.64893830e-01,  5.21664187e-01,  4.93240703e-01,\n",
       "         5.21660539e-01, -3.04145415e-01,  1.86589808e-01,\n",
       "         5.78620503e-01,  4.33135446e-02,  5.34398769e-01,\n",
       "         5.21665244e-01,  1.70919184e-01,  9.32846115e-03,\n",
       "         2.94942153e-03,  1.58856629e-01,  2.11586377e-02,\n",
       "        -1.04346524e-04,  2.52520393e-01,  5.80293959e-03,\n",
       "         5.41388895e-01,  8.17367396e-01,  9.96099796e-01,\n",
       "         9.99991837e-01,  1.00000000e+00,  5.21329175e-01,\n",
       "         5.21663795e-01,  5.21663831e-01,  6.08210119e-01],\n",
       "       [ 1.62835955e-01, -1.76837101e-01, -3.31883843e-02,\n",
       "         5.31647023e-01,  9.99346370e-01,  9.47651806e-01,\n",
       "         9.99346574e-01, -3.03415997e-01,  2.79202548e-01,\n",
       "         6.87465097e-01,  4.25507952e-02,  3.69592718e-01,\n",
       "         9.99354631e-01,  1.91675513e-01,  4.79679343e-03,\n",
       "         3.38208697e-03,  1.71792178e-01,  8.64900141e-03,\n",
       "        -3.26107873e-06,  3.12843780e-01,  5.31051507e-03,\n",
       "         6.33111415e-01,  8.69620617e-01,  5.46079178e-01,\n",
       "         5.21321960e-01,  5.21329175e-01,  1.00000000e+00,\n",
       "         9.99352348e-01,  9.99351851e-01,  7.29041540e-01],\n",
       "       [ 1.62613682e-01, -1.76230870e-01, -3.22024799e-02,\n",
       "         5.23713649e-01,  9.99994930e-01,  9.45505426e-01,\n",
       "         9.99987978e-01, -2.99106895e-01,  2.71099524e-01,\n",
       "         6.72124562e-01,  4.14345828e-02,  3.68389703e-01,\n",
       "         9.99996976e-01,  1.88058849e-01,  5.06484477e-03,\n",
       "         3.30849151e-03,  1.68157324e-01,  8.88678428e-03,\n",
       "         6.15349431e-05,  3.05654940e-01,  5.23787259e-03,\n",
       "         6.19272039e-01,  8.67613584e-01,  5.45032744e-01,\n",
       "         5.21655606e-01,  5.21663795e-01,  9.99352348e-01,\n",
       "         1.00000000e+00,  9.99994774e-01,  7.12577499e-01],\n",
       "       [ 1.62609042e-01, -1.76225179e-01, -3.22063122e-02,\n",
       "         5.23702853e-01,  9.99995543e-01,  9.45506847e-01,\n",
       "         9.99988607e-01, -2.99101137e-01,  2.71090938e-01,\n",
       "         6.72114165e-01,  4.14359943e-02,  3.68381007e-01,\n",
       "         9.99997557e-01,  1.88049394e-01,  4.87248609e-03,\n",
       "         3.18574063e-03,  1.68156190e-01,  8.68884110e-03,\n",
       "        -9.38905880e-05,  3.05644862e-01,  5.09862787e-03,\n",
       "         6.19263541e-01,  8.67609765e-01,  5.45032539e-01,\n",
       "         5.21656989e-01,  5.21663831e-01,  9.99351851e-01,\n",
       "         9.99994774e-01,  1.00000000e+00,  7.12567642e-01],\n",
       "       [ 1.85371791e-01, -2.10008918e-01, -5.29024313e-02,\n",
       "         8.08616264e-01,  7.12446341e-01,  7.19961764e-01,\n",
       "         7.12619645e-01, -4.48736959e-01,  4.03382429e-01,\n",
       "         9.65628389e-01,  7.91164238e-02,  4.52224428e-01,\n",
       "         7.12567675e-01,  3.21341065e-01,  3.76298508e-03,\n",
       "         4.84354984e-03,  2.95107585e-01,  1.02776709e-02,\n",
       "        -2.27033888e-03,  5.35217231e-01,  7.07594222e-03,\n",
       "         8.84412857e-01,  8.04325594e-01,  6.67325392e-01,\n",
       "         6.08205483e-01,  6.08210119e-01,  7.29041540e-01,\n",
       "         7.12577499e-01,  7.12567642e-01,  1.00000000e+00]])"
      ]
     },
     "execution_count": 6,
     "metadata": {},
     "output_type": "execute_result"
    }
   ],
   "source": [
    "np.corrcoef(tX,rowvar=False)"
   ]
  },
  {
   "cell_type": "code",
   "execution_count": 7,
   "metadata": {},
   "outputs": [],
   "source": [
    "# def box_plot(tX):\n",
    "# # TODO: box plots to see correlations"
   ]
  },
  {
   "cell_type": "code",
   "execution_count": 8,
   "metadata": {},
   "outputs": [],
   "source": [
    "# df = pd.read_csv(DATA_TRAIN_PATH)\n",
    "# display(df)"
   ]
  },
  {
   "cell_type": "code",
   "execution_count": 9,
   "metadata": {},
   "outputs": [],
   "source": [
    "# df.describe()"
   ]
  },
  {
   "cell_type": "code",
   "execution_count": 10,
   "metadata": {},
   "outputs": [],
   "source": [
    "# getNanStatistics(tX)"
   ]
  },
  {
   "cell_type": "markdown",
   "metadata": {},
   "source": [
    "## Pre-processing"
   ]
  },
  {
   "cell_type": "code",
   "execution_count": 11,
   "metadata": {},
   "outputs": [],
   "source": [
    "feature_cols = ['DER_mass_MMC', 'DER_mass_transverse_met_lep',\n",
    "       'DER_mass_vis', 'DER_pt_h', 'DER_deltaeta_jet_jet', 'DER_mass_jet_jet',\n",
    "       'DER_prodeta_jet_jet', 'DER_deltar_tau_lep', 'DER_pt_tot', 'DER_sum_pt',\n",
    "       'DER_pt_ratio_lep_tau', 'DER_met_phi_centrality',\n",
    "       'DER_lep_eta_centrality', 'PRI_tau_pt', 'PRI_tau_eta', 'PRI_tau_phi',\n",
    "       'PRI_lep_pt', 'PRI_lep_eta', 'PRI_lep_phi', 'PRI_met', 'PRI_met_phi',\n",
    "       'PRI_met_sumet', 'PRI_jet_num', 'PRI_jet_leading_pt',\n",
    "       'PRI_jet_leading_eta', 'PRI_jet_leading_phi', 'PRI_jet_subleading_pt',\n",
    "       'PRI_jet_subleading_eta', 'PRI_jet_subleading_phi', 'PRI_jet_all_pt']\n",
    "dtypes = 15 * [\"float\"] + ['float-angle'] + 2 * ['float'] + ['float-angle'] \\\n",
    "         + ['float'] + ['float-angle'] +['float'] + ['categorical'] + (2 * ['float']\\\n",
    "         + ['float-angle']) * 2 + ['float']"
   ]
  },
  {
   "cell_type": "code",
   "execution_count": 12,
   "metadata": {},
   "outputs": [],
   "source": [
    "# # Test data preprocessor\n",
    "# idx_col_cat = 22\n",
    "# data_prep = DataPreprocessor(tX,feature_cols,dtypes)\n",
    "# data_prep.replaceUndefVal(undef_new = np.nan)\n",
    "# data_prep.nanStandardize()\n",
    "# data_prep.replaceNanVal()\n",
    "# tX_std = data_prep.getFeatures()\n",
    "\n",
    "# tX_wo_undef_test = np.where(tX == -999.0, np.nan, tX)\n",
    "# tX_wo_undef_test_std = nanStandardize(np.delete(tX_wo_undef_test,idx_col_cat,axis = 1))\n",
    "# tX_wo_undef_test_std = np.where(np.isnan(tX_wo_undef_test_std), 0, tX_wo_undef_test_std)\n",
    "# assert (np.delete(tX_std,idx_col_cat,axis = 1) == tX_wo_undef_test_std).all(),\"Test failed\"\n",
    "# print(\"Test Ok\")"
   ]
  },
  {
   "cell_type": "code",
   "execution_count": 13,
   "metadata": {},
   "outputs": [],
   "source": [
    "# # One hot encode data\n",
    "# data_prep_ohe = DataPreprocessor(tX,feature_cols,dtypes)\n",
    "# data_prep_ohe.replaceUndefVal(undef_new = np.nan)\n",
    "# data_prep_ohe.nanStandardize()\n",
    "# data_prep_ohe.replaceNanVal()\n",
    "# data_prep_ohe.oneHotEncode()\n",
    "# tX_std_ohe = data_prep_ohe.getFeatures()"
   ]
  },
  {
   "cell_type": "code",
   "execution_count": 14,
   "metadata": {},
   "outputs": [],
   "source": [
    "# multiHistPlots(tX_std,feature_cols, (15,15))"
   ]
  },
  {
   "cell_type": "code",
   "execution_count": 15,
   "metadata": {},
   "outputs": [],
   "source": [
    "# print(tX_std_ohe[:,[29,30,31]])"
   ]
  },
  {
   "cell_type": "code",
   "execution_count": 16,
   "metadata": {},
   "outputs": [],
   "source": [
    "# data_prep_ohe.cols"
   ]
  },
  {
   "cell_type": "code",
   "execution_count": 17,
   "metadata": {},
   "outputs": [],
   "source": [
    "# tX_std_float = np.delete(tX_std,idx_col_cat,axis = 1)"
   ]
  },
  {
   "cell_type": "code",
   "execution_count": 18,
   "metadata": {},
   "outputs": [],
   "source": [
    "# sel_feature_cols = ['DER_mass_MMC', 'DER_mass_transverse_met_lep',\n",
    "#        'DER_mass_vis', 'DER_pt_h', 'DER_deltaeta_jet_jet', 'DER_mass_jet_jet',\n",
    "#        'DER_prodeta_jet_jet', 'DER_deltar_tau_lep', 'DER_pt_tot', 'DER_sum_pt',\n",
    "#        'DER_pt_ratio_lep_tau', 'DER_met_phi_centrality',\n",
    "#        'DER_lep_eta_centrality', 'PRI_jet_num']"
   ]
  },
  {
   "cell_type": "code",
   "execution_count": 19,
   "metadata": {},
   "outputs": [],
   "source": [
    "# def getColsIdx(cols):\n",
    "#     feature_cols = ['DER_mass_MMC', 'DER_mass_transverse_met_lep',\n",
    "#        'DER_mass_vis', 'DER_pt_h', 'DER_deltaeta_jet_jet', 'DER_mass_jet_jet',\n",
    "#        'DER_prodeta_jet_jet', 'DER_deltar_tau_lep', 'DER_pt_tot', 'DER_sum_pt',\n",
    "#        'DER_pt_ratio_lep_tau', 'DER_met_phi_centrality',\n",
    "#        'DER_lep_eta_centrality', 'PRI_tau_pt', 'PRI_tau_eta', 'PRI_tau_phi',\n",
    "#        'PRI_lep_pt', 'PRI_lep_eta', 'PRI_lep_phi', 'PRI_met', 'PRI_met_phi',\n",
    "#        'PRI_met_sumet', 'PRI_jet_num', 'PRI_jet_leading_pt',\n",
    "#        'PRI_jet_leading_eta', 'PRI_jet_leading_phi', 'PRI_jet_subleading_pt',\n",
    "#        'PRI_jet_subleading_eta', 'PRI_jet_subleading_phi', 'PRI_jet_all_pt']\n",
    "#     col_idx = np.arange(0,30)\n",
    "#     feature_col_idx_dict = dict(zip(feature_col,col_idx))\n",
    "#     if (type(cols) == str):\n",
    "#         return feature_col_idx_dict.get(cols) \n",
    "#     elif (type(cols) == list):\n",
    "#         return [feature_col_idx_dict.get(c) for c in cols]\n",
    "#     else:\n",
    "#         raise TypeError(\"The argument should be a list or a string\")"
   ]
  },
  {
   "cell_type": "code",
   "execution_count": 20,
   "metadata": {},
   "outputs": [],
   "source": [
    "# def nanStandardize(x):\n",
    "#     mean = np.nanmean(x,axis = 0)\n",
    "#     std = np.nanstd(x,axis = 0)\n",
    "#     x =(x - mean) / std\n",
    "#     return x"
   ]
  },
  {
   "cell_type": "code",
   "execution_count": 21,
   "metadata": {},
   "outputs": [],
   "source": [
    "# def dropFeatures(tX,cols):\n",
    "#     return tX[:,getColsIdx(cols)]"
   ]
  },
  {
   "cell_type": "code",
   "execution_count": 22,
   "metadata": {},
   "outputs": [],
   "source": [
    "# def countUndefinedValues(tX,undef_value = -999.0):\n",
    "#     return np.sum(tX == undef_value,axis = 0)"
   ]
  },
  {
   "cell_type": "code",
   "execution_count": 23,
   "metadata": {},
   "outputs": [],
   "source": [
    "# def getRowsWithUndefIdx(tX,undef_value = -999.0):\n",
    "#     undef_mat = np.where(tX == undef_value,1,0)\n",
    "#     return np.where(np.sum(undef_mat, axis = 1)>0,True,False)"
   ]
  },
  {
   "cell_type": "code",
   "execution_count": 24,
   "metadata": {},
   "outputs": [],
   "source": [
    "# tX_wo_undef = np.where(tX == -999.0, np.nan, tX)\n",
    "# getNanStatistics(tX_wo_undef)"
   ]
  },
  {
   "cell_type": "markdown",
   "metadata": {},
   "source": [
    "## Work with reduced tX"
   ]
  },
  {
   "cell_type": "code",
   "execution_count": 25,
   "metadata": {},
   "outputs": [],
   "source": [
    "# tX_reduced = dropFeatures(tX,sel_feature_columns)"
   ]
  },
  {
   "cell_type": "code",
   "execution_count": 26,
   "metadata": {},
   "outputs": [],
   "source": [
    "# # Check undefined values per column\n",
    "# undef_val_count = countUndefinedValues(tX_reduced)\n",
    "# print(\"Number of undefined values per column: \" + str(undef_val_count))"
   ]
  },
  {
   "cell_type": "code",
   "execution_count": 27,
   "metadata": {},
   "outputs": [],
   "source": [
    "# tX_reduced_wo_undef = np.where(tX_reduced == -999.0, np.nan, tX_reduced)"
   ]
  },
  {
   "cell_type": "code",
   "execution_count": 28,
   "metadata": {},
   "outputs": [],
   "source": [
    "# getNanStatistics(tX_reduced_wo_undef)"
   ]
  },
  {
   "cell_type": "markdown",
   "metadata": {},
   "source": [
    "## Preprocessing"
   ]
  },
  {
   "cell_type": "code",
   "execution_count": 93,
   "metadata": {},
   "outputs": [],
   "source": [
    "from proj1_utils import *"
   ]
  },
  {
   "cell_type": "code",
   "execution_count": 99,
   "metadata": {},
   "outputs": [],
   "source": [
    "cat_cols = [22]\n",
    "x_train_num, x_train_cat = split_numerical_categorical(tX,cat_cols)\n",
    "# Treat numerical values\n",
    "x_train_num_nan = replace_undef_val_with_nan(x_train_num)\n",
    "x_train_num_nan_std, train_mean, train_std = nan_standardize_fit(x_train_num_nan)\n",
    "x_train_num_valid_std = replace_nan_val_with_median(x_train_num_nan_std)\n",
    "# Treat categorical values\n",
    "x_train_ohe_cat = one_hot_encode(x_train_cat)\n",
    "x_train = np.hstack((add_bias(x_train_num_valid_std),x_train_ohe_cat))\n",
    "# Treat labels\n",
    "y_train = relabel_y_non_negative(y).reshape(-1,1)"
   ]
  },
  {
   "cell_type": "code",
   "execution_count": 101,
   "metadata": {},
   "outputs": [],
   "source": [
    "cat_cols = [22]\n",
    "x_test_num, x_test_cat = split_numerical_categorical(tX_test,cat_cols)\n",
    "# Treat numerical values\n",
    "x_test_num_nan = replace_undef_val_with_nan(x_test_num)\n",
    "x_test_num_nan_std = nan_standardize_transform(x_test_num_nan,train_mean,train_std)\n",
    "x_test_num_valid_std = replace_nan_val_with_median(x_test_num_nan_std)\n",
    "# Treat categorical values\n",
    "x_test_ohe_cat = one_hot_encode(x_test_cat)\n",
    "x_test = np.hstack((add_bias(x_test_num_valid_std),x_test_ohe_cat))\n",
    "# Treat labels\n",
    "y_test = relabel_y_non_negative(y_test).reshape(-1,1)"
   ]
  },
  {
   "cell_type": "markdown",
   "metadata": {},
   "source": [
    "## Import models"
   ]
  },
  {
   "cell_type": "code",
   "execution_count": 102,
   "metadata": {},
   "outputs": [],
   "source": [
    "from implementations import *"
   ]
  },
  {
   "cell_type": "markdown",
   "metadata": {},
   "source": [
    "## Ridge regression"
   ]
  },
  {
   "cell_type": "code",
   "execution_count": 136,
   "metadata": {},
   "outputs": [],
   "source": [
    "lambda_ = 0.13\n",
    "weights = ridge_regression(y_train,x_train,lambda_)"
   ]
  },
  {
   "cell_type": "markdown",
   "metadata": {},
   "source": [
    "## Least squares"
   ]
  },
  {
   "cell_type": "code",
   "execution_count": 111,
   "metadata": {},
   "outputs": [],
   "source": [
    "weights = least_squares(y_train,x_train)"
   ]
  },
  {
   "cell_type": "markdown",
   "metadata": {},
   "source": [
    "## Generate predictions and save ouput in csv format for submission:"
   ]
  },
  {
   "cell_type": "code",
   "execution_count": 138,
   "metadata": {},
   "outputs": [],
   "source": [
    "OUTPUT_PATH = '../output_submission/submission' # TODO: fill in desired name of output file for submission\n",
    "y_pred = predict_labels(weights, x_test)\n",
    "create_csv_submission(ids_test, y_pred, OUTPUT_PATH)"
   ]
  },
  {
   "cell_type": "code",
   "execution_count": 139,
   "metadata": {},
   "outputs": [
    {
     "name": "stdout",
     "output_type": "stream",
     "text": [
      "0.9641805018319789\n"
     ]
    }
   ],
   "source": [
    "# Just to check\n",
    "from sklearn.metrics import accuracy_score\n",
    "print(accuracy_score(y_test,y_pred))"
   ]
  }
 ],
 "metadata": {
  "anaconda-cloud": {},
  "kernelspec": {
   "display_name": "Python (ml_2019)",
   "language": "python",
   "name": "ml_2019"
  },
  "language_info": {
   "codemirror_mode": {
    "name": "ipython",
    "version": 3
   },
   "file_extension": ".py",
   "mimetype": "text/x-python",
   "name": "python",
   "nbconvert_exporter": "python",
   "pygments_lexer": "ipython3",
   "version": "3.7.3"
  }
 },
 "nbformat": 4,
 "nbformat_minor": 1
}
